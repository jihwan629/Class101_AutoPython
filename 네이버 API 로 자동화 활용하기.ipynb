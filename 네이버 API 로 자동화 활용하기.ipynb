{
 "cells": [
  {
   "cell_type": "code",
   "execution_count": 1,
   "id": "555683f7",
   "metadata": {},
   "outputs": [],
   "source": [
    "# 네이버 API 이해와 사전 준비"
   ]
  },
  {
   "cell_type": "code",
   "execution_count": 3,
   "id": "f8b286f8",
   "metadata": {},
   "outputs": [],
   "source": [
    "import settings # settings.py 필요\n",
    "\n",
    "client_id = settings.NAVER_CLIENT_ID # API access key\n",
    "client_secret = settings.NAVER_CLIENT_SECRET # API secret key"
   ]
  },
  {
   "cell_type": "code",
   "execution_count": 4,
   "id": "bf988b55",
   "metadata": {},
   "outputs": [],
   "source": [
    "# 네이버 쇼핑 검색 API 로 자동화 활용하기"
   ]
  },
  {
   "cell_type": "code",
   "execution_count": 5,
   "id": "6fafbbf5",
   "metadata": {},
   "outputs": [],
   "source": [
    "data_dict = dict()\n",
    "data_dict['query'] = '와이드 모니터'\n",
    "data_dict['display'] = 100\n",
    "data_dict['start'] = 1\n",
    "data_dict['sort'] = 'sim'"
   ]
  },
  {
   "cell_type": "code",
   "execution_count": 6,
   "id": "dd629a37",
   "metadata": {},
   "outputs": [
    {
     "data": {
      "text/plain": [
       "{'query': '와이드 모니터', 'display': 100, 'start': 1, 'sort': 'sim'}"
      ]
     },
     "execution_count": 6,
     "metadata": {},
     "output_type": "execute_result"
    }
   ],
   "source": [
    "data_dict"
   ]
  },
  {
   "cell_type": "code",
   "execution_count": 7,
   "id": "23de6657",
   "metadata": {},
   "outputs": [],
   "source": [
    "naver_search_api = 'https://openapi.naver.com/v1/search/blog.json'"
   ]
  },
  {
   "cell_type": "code",
   "execution_count": 8,
   "id": "919c59af",
   "metadata": {},
   "outputs": [],
   "source": [
    "def generate_get_method_api_template(api, data_dict):\n",
    "    for num, item in enumerate(data_dict.keys()):\n",
    "        if num == 0:\n",
    "            api += '?'\n",
    "        else:\n",
    "            api += '&'\n",
    "        api += item + '=' + str(data_dict[item])\n",
    "    return api"
   ]
  },
  {
   "cell_type": "code",
   "execution_count": 10,
   "id": "68d7f4c5",
   "metadata": {},
   "outputs": [
    {
     "data": {
      "text/plain": [
       "'https://openapi.naver.com/v1/search/blog.json?query=와이드 모니터&display=100&start=1&sort=sim'"
      ]
     },
     "execution_count": 10,
     "metadata": {},
     "output_type": "execute_result"
    }
   ],
   "source": [
    "naver_open_api = generate_get_method_api_template(naver_search_api, data_dict)\n",
    "\n",
    "naver_open_api"
   ]
  },
  {
   "cell_type": "code",
   "execution_count": 11,
   "id": "92540e06",
   "metadata": {},
   "outputs": [
    {
     "name": "stdout",
     "output_type": "stream",
     "text": [
      "1 34인치 울트라<b>와이드 모니터</b> 추천 알파스캔 AOC U34E2M 후기 https://blog.naver.com/gamja321/223098619123\n",
      "2 34인치 울트라 <b>와이드 모니터</b> 필립스 345M2R 내돈내산 https://blog.naver.com/suwon890103/222922734447\n",
      "3 49인치 울트라 <b>와이드</b> QHD <b>모니터</b> 퀀텀닷 2개월 사용 후기 https://blog.naver.com/jwlovesr/223058845419\n",
      "4 32인치-&gt; 38인치 LG <b>와이드 모니터</b>  38wp85c 구입 후기 https://blog.naver.com/shoe0084/223088487986\n",
      "5 <b>와이드 모니터</b> 알파스캔 AOC U34E2M 사무용 컴퓨터 모니터...  https://blog.naver.com/moimoi1357/223096759274\n",
      "6 144hz 게이밍 21:9 울트라<b>와이드 모니터</b> 한성 TFG40Q14WP...  https://blog.naver.com/khooin/223115454434\n",
      "7 <b>와이드 모니터</b> S34A650U 사용 후기: 전천후 <b>와이드모니터</b>로...  https://blog.naver.com/ljh0003/222954865441\n",
      "8 구매해 오신 후방카메라 장착 거치형 <b>와이드 모니터</b> 설치 후기 https://blog.naver.com/andy8099/223079769797\n",
      "9 34인치 울트라 <b>와이드 모니터</b> 추천, 필립스 345E2LE 리뷰 https://blog.naver.com/jjang986/223115715590\n",
      "10 34인치 LG 울트라 <b>와이드 모니터</b> WQHD 커브드 사무용 34WQ60C https://blog.naver.com/lucky_box7/222955681865\n",
      "11 모니터추천 LG 울트라 <b>와이드 모니터</b> 34WP500 https://blog.naver.com/dicagallery/222594308960\n",
      "12 울트라<b>와이드</b> 34인치 <b>모니터</b> 추천은 알파스캔 AOC U34E2M https://blog.naver.com/victoryace89/223105123669\n",
      "13 5k 40인치 LG 울트라 <b>와이드 모니터</b> 40WP95C 후기 https://blog.naver.com/aiwositai/222990430159\n",
      "14 순정 씽크로 99.9% 슈퍼뷰를 <b>와이드모니터</b> 연동시켜드렸어요! https://blog.naver.com/ussound/223014052417\n",
      "15 한성 TFG40Q14WP 울트라<b>와이드모니터</b> 리뷰 https://blog.naver.com/andy4737/222989783682\n",
      "16 34인치 LG울트라<b>와이드 모니터</b>에 카멜모니터암 고든 DMA-2...  https://chunchu.tistory.com/1914\n",
      "17 삼성 <b>와이드 모니터</b> SJ55W(S34J550) + 모니터암 NB H100 사용...  https://blog.naver.com/huhjjang2/222925639666\n",
      "18 탁상용선풍기 플레오맥스 멀티<b>와이드</b>팬 <b>모니터</b> 선풍기 https://blog.naver.com/jjungini34/223117906061\n",
      "19 34인치<b>모니터</b> QHD <b>와이드</b> S34A650U 실사용기 https://blog.naver.com/kkwrkdrk2/222538871743\n",
      "20 5인치 안드로이드 올인원 <b>와이드</b> 터치 <b>모니터</b> 장착 작업을...  https://blog.naver.com/whitest/223061280073\n",
      "21 [이벤트] 삼성 34인치 오디세이 G5 <b>와이드 모니터</b> C34G55T https://blog.naver.com/mattang_/222995152853\n",
      "22 엘지 LG 울트라<b>와이드 모니터</b> 추천! https://blog.naver.com/seokita1/222784695438\n",
      "23 40인치 LG 울트라<b>와이드</b> 4K <b>모니터</b> 커브드 사무용 40WP95C https://blog.naver.com/lucky_box7/222989423747\n",
      "24 편의성 대박인 <b>와이드</b>형 <b>모니터</b> 받침대 https://blog.naver.com/slow_d/223031660819\n",
      "25 34인치 가성비 게이밍 <b>모니터</b> 추천, 울트라 <b>와이드</b>...  https://blog.naver.com/supapa13/223098866020\n",
      "26 LED <b>와이드</b> 스탠드 <b>모니터</b> 조명 눈이 편한 무아스 https://blog.naver.com/kmgun0304/223061752690\n",
      "27 38인치 LG 울트라 <b>와이드 모니터</b> 38WQ88C 21:9 해상도 후기 https://blog.naver.com/aiwositai/222840334165\n",
      "28 벤츠 GLA AMG <b>와이드모니터</b>+M2C200A https://blog.naver.com/ussound/222595925223\n",
      "29 아우디 S7 안드로이드 내비게이션 장착 - <b>와이드 모니터</b> https://blog.naver.com/kongyh/222811591261\n",
      "30 LG 울트라<b>와이드모니터</b>... 16인치와 업무용 듀얼모니터 설정 https://chunchu.tistory.com/1770\n",
      "31 LG모니터암 34WN780 <b>와이드 모니터</b> 추천! https://blog.naver.com/jung_sun0116/222919580940\n",
      "32 34인치 울트라 <b>와이드</b> 게이밍 <b>모니터</b> AOC U34G3XM/EU 리뷰 https://blog.naver.com/whitepolarbear/223105206067\n",
      "33 21:9 LG 울트라 <b>와이드</b> 34WN650 34인치 <b>모니터</b> 어때? https://blog.naver.com/gkqhddl1/222718798462\n",
      "34 5인치 <b>와이드</b> 터치 <b>모니터</b> 장착 작업을 진행 하였습니다. https://blog.naver.com/whitest/222996754042\n",
      "35 사무용, 게이밍 34인치 울트라 <b>와이드 모니터</b> LG 34WQ60C 추천 https://blog.naver.com/heung213/223059875013\n",
      "36 <b>모니터</b> 선택, 듀얼 <b>모니터</b>와 울트라 <b>와이드</b> 뭐가 좋을까? https://blog.naver.com/printer84/223103042443\n",
      "37 49만원대 8분할 가능한 울트라 <b>와이드</b> 게이밍 <b>모니터</b>?...  https://blog.naver.com/malbang9lab/223055755199\n",
      "38 울트라<b>와이드 모니터</b> 해상도 &amp; 케이블 https://blog.naver.com/good-mylife/222996093703\n",
      "39 LG 울트라 <b>와이드 모니터</b> 추천 커브드모니터 34WQ60C 쓸만할까? https://blog.naver.com/dicagallery/222886842457\n",
      "40 38인치 울트라<b>와이드모니터</b>는 어떤느낌? LG 38WQ88C 사용기 https://blog.naver.com/ddihw/222825901202\n",
      "41 벤츠 CLA250 12.3인치 <b>와이드모니터</b> 그리고 M2C (모니터도...  https://blog.naver.com/s2xy16/222940597379\n",
      "42 멀티태스킹에 최적화된 34인치 울트라<b>와이드 모니터</b> 출시 https://blog.naver.com/alphascan314/223093151414\n",
      "43 XM 27인치 <b>와이드 모니터</b> 설치 / 카니발 천장 모니터 용품 튜닝 https://blog.naver.com/tuneplus/223065331308\n",
      "44 34인치 <b>와이드</b> 커브드 <b>모니터</b> 추천 LG 34WQ60C 후기 https://blog.naver.com/aiwositai/222882114165\n",
      "45 LG 34WN780 울트라 <b>와이드 모니터</b> 혁신적 결벽증 https://blog.naver.com/mydoq/222641152422\n",
      "46 벤츠 E클래스 <b>와이드모니터</b> 아틀란 네비게이션 매립...  https://blog.naver.com/hyj01636/223064766138\n",
      "47 5인치 안드로이드 올인원 <b>와이드</b> 터치<b>모니터</b> 장착 작업을...  https://blog.naver.com/whitest/223078731483\n",
      "48 플러스 Gen3 17인치<b>와이드모니터</b>와 8인치 보조모니터의 조합 https://blog.naver.com/kajama78/223023553116\n",
      "49 LG 34GP950G 34인치 울트라기어 <b>와이드</b> 게이밍<b>모니터</b>...  https://blog.naver.com/youridcom/223104385451\n",
      "50 가성비 울트라<b>와이드</b> 게임용 커브드 <b>모니터</b>...  https://blog.naver.com/djnice2503/222802330992\n",
      "51 벤츠C43 안드로이드 내비게이션 <b>와이드 모니터</b> 교체 장착 천안...  https://blog.naver.com/rhkr8340/223097512176\n",
      "52 듀얼모니터 대신 34인치 <b>와이드모니터</b> LG 34WP85C https://blog.naver.com/mr_choo/222664019253\n",
      "53 <b>와이드 모니터</b> 추천, 38WN95C, QHD LG 게이밍 모니터 추천...  https://blog.naver.com/sg90929/223107968625\n",
      "54 34인치 울트라<b>와이드 모니터</b> AOC CU34P2X 게이밍 144 WQHD https://blog.naver.com/open8370/222717308615\n",
      "55 34인치 <b>모니터</b> LG 울트라<b>와이드</b> 커브드 34WP65C https://blog.naver.com/mj100600/223093580749\n",
      "56 <b>와이드모니터</b> - 오디세이 G5 C34G55T https://blog.naver.com/minigeo/222868876367\n",
      "57 삼성 오디세이 neo g9 57 인치 32:9 울트라<b>와이드 모니터</b>...  https://blog.naver.com/sooyil/222973316903\n",
      "58 삼성 오디세이 g9 게이밍 <b>모니터</b> 49인치 Curved <b>와이드</b> https://blog.naver.com/jhbd10004/223117982684\n",
      "59 5인치 안드로이드 올인원 <b>와이드</b> 터치 <b>모니터</b> 장착 작업을...  https://blog.naver.com/whitest/223098727033\n",
      "60 벤츠 E클래스 <b>와이드모니터</b> 안드로이드 올인원 네비 설치 https://blog.naver.com/hyj01636/222988924667\n",
      "61 벤츠 W205 C200 차량에 순정<b>모니터</b> 대신 10.25인치 <b>와이드</b>...  https://blog.naver.com/whitest/222982681500\n",
      "62 5인치 안드로이드 올인원 <b>와이드</b> 터치 <b>모니터</b> 장착 작업을...  https://blog.naver.com/whitest/223065950563\n",
      "63 5인치 안드로이드 올인원 <b>와이드</b> 터치 <b>모니터</b> 장착...  https://blog.naver.com/whitest/223054762891\n",
      "64 5인치 안드로이드 올인원 <b>와이드</b> 터치<b>모니터</b> 장착...  https://blog.naver.com/whitest/223071782261\n",
      "65 5인치 안드로이드 올인원 <b>와이드</b>터치 <b>모니터</b> 장착 작업을...  https://blog.naver.com/whitest/223081626536\n",
      "66 내비게이션 <b>와이드 모니터</b> 해외직구 제품 교체 천안...  https://blog.naver.com/rhkr8340/222893448253\n",
      "67 터치 되는 12.3인치 대형 <b>와이드모니터</b> 교체 장착기 https://blog.naver.com/rhkr8340/222982507477\n",
      "68 5인치 안드로이드 <b>와이드</b> 올인원 터치 <b>모니터</b> 장착...  https://blog.naver.com/whitest/223057116658\n",
      "69 34인치 커브드 LG 울트라 <b>와이드</b> 게이밍 <b>모니터</b> 추천...  https://blog.naver.com/dicagallery/222702816748\n",
      "70 38인치 커브드 모니터 추천 화이트 LG 울트라 <b>와이드 모니터</b>...  https://blog.naver.com/dicagallery/222844143661\n",
      "71 영상편집용 커브드 <b>와이드 모니터</b> 삼성 오디세이 G9 https://blog.naver.com/fc8626/222674165517\n",
      "72 울트라 <b>와이드 모니터</b>, LG 29WP500 써보니 https://blog.naver.com/mobano/222579114640\n",
      "73 울트라<b>와이드모니터</b> 작업용으로 LG 34WN780 구매 https://blog.naver.com/haenamboys/222700164947\n",
      "74 부산수입차네비 구형벤츠E300 <b>와이드 모니터</b> 네비매립...  https://blog.naver.com/solar_nt/222940521464\n",
      "75 LG 34WP500 울트라<b>와이드 모니터</b> https://blog.naver.com/lws1116/223111998560\n",
      "76 싱글모니터암스탠드형, 34인치 울트라<b>와이드 모니터</b> 장착기 https://blog.naver.com/mr_choo/222952280992\n",
      "77 34인치 모니터 hp X34 <b>와이드모니터</b> 4개월 사용 후기! 로아...  https://blog.naver.com/slom0702/222938247707\n",
      "78 벤츠 CLA200 안드로이드 내비게이션 <b>와이드 모니터</b> 교체 및...  https://blog.naver.com/rhkr8340/223001978616\n",
      "79 21:9 <b>와이드 모니터</b> 크로스오버 40QQ3 WQHD IPS 평면 모니터 https://blog.naver.com/kohaku3533/222849231373\n",
      "80 3월 데일리룩과 일상 소비기록_울트라<b>와이드모니터</b>, 숏트렌치...  https://blog.naver.com/rungram/223056180384\n",
      "81 벤츠엠비언트 / E클래스에 송풍구엠비언트, <b>와이드</b>콕핏<b>모니터</b>...  https://blog.naver.com/pyo71015843/223104686212\n",
      "82 21:9 울트라<b>와이드</b>로 더... 75Hz 24인치 신제품 <b>모니터</b> 출시! https://blog.naver.com/monsterlabs/223003955010\n",
      "83 34인치 울트라<b>와이드 모니터</b>로 업그레이드 LG 34WN750 추천 https://blog.naver.com/aquayo/222893129812\n",
      "84 아이클 <b>모니터</b>등 데스크탑용 <b>와이드</b>윙 50cm <b>모니터</b>27인치 https://blog.naver.com/eyk6025/223012282780\n",
      "85 증상을 보이는 LG 34UT65 , 34UT65D 엘지 <b>와이드모니터</b> 수리 https://blog.naver.com/cs-eng/223030321982\n",
      "86 34인치 울트라 <b>와이드</b> 165hz 게이밍 <b>모니터</b>. 1년 사용 후기 https://blog.naver.com/clear_skies/223065512521\n",
      "87 화이트 곡선형의 감성 디자인 울트라<b>와이드</b> 게이밍 <b>모니터</b> https://blog.naver.com/znzlthsu36/223102021978\n",
      "88 DEX 게이밍 리얼 120 울트라<b>와이드 모니터</b>(43인치, 120Hz) https://blog.naver.com/moon9678/222595443723\n",
      "89 네비게이션 올인원 해외직구 제품 <b>와이드모니터</b> 교체 장착기 https://blog.naver.com/rhkr8340/222979260390\n",
      "90 ( 송파) 벤츠e300차량 순정<b>와이드모니터</b>에 국산 고해상도...  https://blog.naver.com/kss1212kr/223000364895\n",
      "91 <b>와이드모니터</b> 상품 베스트 - cappleblog.co.kr https://cappleblog.co.kr/1022\n",
      "92 커세어 구부리는 45인치 <b>와이드 모니터</b> XENEON FLEX 45...  https://blog.naver.com/lpg3388/222969458591\n",
      "93 강추하는 울트라<b>와이드모니터</b> TOP 순위 제품들 https://www.yux2.com/26594\n",
      "94 삼성전자 오디세이G5 34인치 <b>와이드 모니터</b>(LC34G55TWWKXKR) https://blog.naver.com/dragon4989/222685690960\n",
      "95 내돈내산! 완벽해진 멀티태스킹! LG 울트라 <b>와이드 모니터</b> 추천 https://blog.naver.com/tpal5549/223117944846\n",
      "96 난리난 lg울트라<b>와이드모니터</b> 상품 보기 - cappleblog.co.kr https://cappleblog.co.kr/1105\n",
      "97 LG 34WP500 <b>와이드 모니터</b> 추천 후기 https://blog.naver.com/hhju2006/223109664103\n",
      "98 굿잡 lg <b>와이드모니터</b> Best 보고 확인하기 https://en-study.tistory.com/764\n",
      "99 내맘에 꼭 들어오는 LG전자 울트라 <b>와이드 모니터</b> 자세히...  https://en-study.tistory.com/820\n",
      "100 한성 TFG24F07W 울트라<b>와이드 모니터</b> 구매 후기 https://blog.naver.com/ririrose/223115362340\n"
     ]
    }
   ],
   "source": [
    "import settings # settings.py 필요\n",
    "import requests\n",
    "\n",
    "header_params = {\"X-Naver-Client-Id\": client_id, \"X-Naver-Client-Secret\": client_secret}\n",
    "res = requests.get(naver_open_api, headers=header_params)\n",
    "\n",
    "if res.status_code == 200:\n",
    "    data = res.json()\n",
    "    for index, item in enumerate(data['items']):\n",
    "        print(index + 1, item['title'], item['link'])\n",
    "else:\n",
    "    print('Error Code: ', res.status_code)"
   ]
  },
  {
   "cell_type": "code",
   "execution_count": null,
   "id": "da8b9c97",
   "metadata": {},
   "outputs": [],
   "source": []
  }
 ],
 "metadata": {
  "kernelspec": {
   "display_name": "Python 3",
   "language": "python",
   "name": "python3"
  },
  "language_info": {
   "codemirror_mode": {
    "name": "ipython",
    "version": 3
   },
   "file_extension": ".py",
   "mimetype": "text/x-python",
   "name": "python",
   "nbconvert_exporter": "python",
   "pygments_lexer": "ipython3",
   "version": "3.8.8"
  }
 },
 "nbformat": 4,
 "nbformat_minor": 5
}
