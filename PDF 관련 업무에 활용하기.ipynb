{
 "cells": [
  {
   "cell_type": "code",
   "execution_count": 1,
   "id": "5384faef",
   "metadata": {},
   "outputs": [
    {
     "name": "stdout",
     "output_type": "stream",
     "text": [
      "Collecting PyPDF2\n",
      "  Downloading pypdf2-3.0.1-py3-none-any.whl (232 kB)\n",
      "Collecting typing_extensions>=3.10.0.0\n",
      "  Downloading typing_extensions-4.6.3-py3-none-any.whl (31 kB)\n",
      "Installing collected packages: typing-extensions, PyPDF2\n",
      "  Attempting uninstall: typing-extensions\n",
      "    Found existing installation: typing-extensions 3.7.4.3\n",
      "    Uninstalling typing-extensions-3.7.4.3:\n",
      "      Successfully uninstalled typing-extensions-3.7.4.3\n",
      "Successfully installed PyPDF2-3.0.1 typing-extensions-4.6.3\n"
     ]
    }
   ],
   "source": [
    "!pip install PyPDF2"
   ]
  },
  {
   "cell_type": "code",
   "execution_count": 9,
   "id": "55438fc9",
   "metadata": {},
   "outputs": [],
   "source": [
    "import PyPDF2\n",
    "\n",
    "pdf = PyPDF2.PdfReader(\"sample_format.pdf\")\n",
    "data = pdf.pages[0].extract_text()"
   ]
  },
  {
   "cell_type": "code",
   "execution_count": 10,
   "id": "f07afe83",
   "metadata": {},
   "outputs": [
    {
     "data": {
      "text/plain": [
       "'견   적   서 y No. : 아래와 같이 견적합니다   2021  년  1 월  1 일   잔재미코딩 귀하 공  급  자 사업자 번  호 11111111-111111111 상  호 코딩 대표자   이하연 (인) 소재지  서울 업  태  종  목  담당자 이하연 전화번호 010-0000-0000 \\n  합계금액 일금      일백만      원정  (\\\\  1,000,000             ) 품    명 규 격 수 량 단  가 공급가액 세  액 비 고  품명1  1 200,000 200,000    품명2  1 200,000 200,000    품명3  2 200,000 400,000    품명4  1 200,000 200,000                                                                                                     계       \\n '"
      ]
     },
     "execution_count": 10,
     "metadata": {},
     "output_type": "execute_result"
    }
   ],
   "source": [
    "data"
   ]
  },
  {
   "cell_type": "code",
   "execution_count": 15,
   "id": "3c700905",
   "metadata": {},
   "outputs": [
    {
     "data": {
      "text/plain": [
       "'코딩'"
      ]
     },
     "execution_count": 15,
     "metadata": {},
     "output_type": "execute_result"
    }
   ],
   "source": [
    "company_name = data[data.find(\"상  호\"):data.find(\"대표자\")].replace(\"상  호\",\"\").strip()\n",
    "company_name"
   ]
  },
  {
   "cell_type": "code",
   "execution_count": 16,
   "id": "5652a39e",
   "metadata": {},
   "outputs": [
    {
     "data": {
      "text/plain": [
       "'이하연'"
      ]
     },
     "execution_count": 16,
     "metadata": {},
     "output_type": "execute_result"
    }
   ],
   "source": [
    "ceo_name = data[data.find(\"대표자\"):data.find(\"(인)\")].replace(\"대표자\",\"\").strip()\n",
    "ceo_name"
   ]
  },
  {
   "cell_type": "code",
   "execution_count": 17,
   "id": "ee1d2dd6",
   "metadata": {},
   "outputs": [
    {
     "data": {
      "text/plain": [
       "'11111111-111111111'"
      ]
     },
     "execution_count": 17,
     "metadata": {},
     "output_type": "execute_result"
    }
   ],
   "source": [
    "company_number = data[data.find(\"번  호\"):data.find(\"상  호\")].replace(\"번  호\",\"\").strip()\n",
    "company_number"
   ]
  },
  {
   "cell_type": "code",
   "execution_count": 18,
   "id": "50792752",
   "metadata": {},
   "outputs": [
    {
     "data": {
      "text/plain": [
       "'이하연'"
      ]
     },
     "execution_count": 18,
     "metadata": {},
     "output_type": "execute_result"
    }
   ],
   "source": [
    "manager_name = data[data.find(\"담당자\"):data.find(\"전화번호\")].replace(\"담당자\",\"\").strip()\n",
    "manager_name"
   ]
  },
  {
   "cell_type": "code",
   "execution_count": 19,
   "id": "777c1021",
   "metadata": {},
   "outputs": [
    {
     "data": {
      "text/plain": [
       "'010-0000-0000'"
      ]
     },
     "execution_count": 19,
     "metadata": {},
     "output_type": "execute_result"
    }
   ],
   "source": [
    "manager_phone = data[data.find(\"전화번호\"):data.find(\"합계금액\")].replace(\"전화번호\",\"\").strip()\n",
    "manager_phone"
   ]
  },
  {
   "cell_type": "code",
   "execution_count": 23,
   "id": "61aa8396",
   "metadata": {},
   "outputs": [
    {
     "name": "stdout",
     "output_type": "stream",
     "text": [
      "['품명1', '1', '200,000', '200,000']\n",
      "['품명2', '1', '200,000', '200,000']\n",
      "['품명3', '2', '200,000', '400,000']\n",
      "['품명4', '1', '200,000', '200,000']\n"
     ]
    }
   ],
   "source": [
    "items = data[data.find(\"비 고\"):data.find(\"계       \\n\")].replace(\"비 고\",\"\").strip()\n",
    "items = items.split()\n",
    "\n",
    "for i in range (len(items) // 4):\n",
    "    print(items[i * 4 : 4 * (i + 1)])"
   ]
  },
  {
   "cell_type": "code",
   "execution_count": 24,
   "id": "e325db11",
   "metadata": {},
   "outputs": [
    {
     "data": {
      "text/plain": [
       "[['상  호', '코딩', '대표자', '이하연', '번  호', '11111111-111111111'],\n",
       " ['담당자', '이하연', '전화번호', '010-0000-0000'],\n",
       " ['품명1', '1', '200,000', '200,000'],\n",
       " ['품명2', '1', '200,000', '200,000'],\n",
       " ['품명3', '2', '200,000', '400,000'],\n",
       " ['품명4', '1', '200,000', '200,000']]"
      ]
     },
     "execution_count": 24,
     "metadata": {},
     "output_type": "execute_result"
    }
   ],
   "source": [
    "import PyPDF2\n",
    "\n",
    "pdf = PyPDF2.PdfReader(\"sample_format.pdf\")\n",
    "data = pdf.pages[0].extract_text()\n",
    "\n",
    "company_name = data[data.find(\"상  호\"):data.find(\"대표자\")].replace(\"상  호\",\"\").strip()\n",
    "ceo_name = data[data.find(\"대표자\"):data.find(\"(인)\")].replace(\"대표자\",\"\").strip()\n",
    "company_number = data[data.find(\"번  호\"):data.find(\"상  호\")].replace(\"번  호\",\"\").strip()\n",
    "manager_name = data[data.find(\"담당자\"):data.find(\"전화번호\")].replace(\"담당자\",\"\").strip()\n",
    "manager_phone = data[data.find(\"전화번호\"):data.find(\"합계금액\")].replace(\"전화번호\",\"\").strip()\n",
    "\n",
    "item_datas = list()\n",
    "item_datas.append(['상  호', company_name, '대표자', ceo_name, '번  호', company_number])\n",
    "item_datas.append(['담당자', manager_name, '전화번호', manager_phone])\n",
    "\n",
    "items = data[data.find(\"비 고\"):data.find(\"계       \\n\")].replace(\"비 고\",\"\").strip()\n",
    "items = items.split()\n",
    "\n",
    "for i in range (len(items) // 4):\n",
    "    item_datas.append(items[i * 4 : 4 * (i + 1)])\n",
    "    \n",
    "item_datas"
   ]
  },
  {
   "cell_type": "code",
   "execution_count": 25,
   "id": "a6d53cac",
   "metadata": {},
   "outputs": [],
   "source": [
    "import openpyxl\n",
    "\n",
    "def write_excel_template_customize(filename, listdata):\n",
    "    excel_file = openpyxl.Workbook()\n",
    "    excel_sheet = excel_file.active\n",
    "\n",
    "    for i in listdata:\n",
    "        excel_sheet.append(i)\n",
    "    \n",
    "    excel_sheet.column_dimensions['A'].width = 50\n",
    "    excel_sheet.column_dimensions['B'].width = 50\n",
    "    excel_sheet.column_dimensions['C'].width = 50\n",
    "    excel_sheet.column_dimensions['D'].width = 50\n",
    "    excel_sheet.column_dimensions['E'].width = 50\n",
    "    excel_sheet.column_dimensions['F'].width = 50\n",
    "\n",
    "    excel_file.save(filename)\n",
    "    excel_file.close()"
   ]
  },
  {
   "cell_type": "code",
   "execution_count": 27,
   "id": "896891e8",
   "metadata": {},
   "outputs": [],
   "source": [
    "write_excel_template_customize(company_name + '.xlsx', item_datas)"
   ]
  },
  {
   "cell_type": "code",
   "execution_count": null,
   "id": "3e0b95b5",
   "metadata": {},
   "outputs": [],
   "source": []
  }
 ],
 "metadata": {
  "kernelspec": {
   "display_name": "Python 3",
   "language": "python",
   "name": "python3"
  },
  "language_info": {
   "codemirror_mode": {
    "name": "ipython",
    "version": 3
   },
   "file_extension": ".py",
   "mimetype": "text/x-python",
   "name": "python",
   "nbconvert_exporter": "python",
   "pygments_lexer": "ipython3",
   "version": "3.8.8"
  }
 },
 "nbformat": 4,
 "nbformat_minor": 5
}
