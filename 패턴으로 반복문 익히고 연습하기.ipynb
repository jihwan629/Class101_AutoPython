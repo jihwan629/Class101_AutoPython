{
 "cells": [
  {
   "cell_type": "code",
   "execution_count": 1,
   "id": "33b820ec",
   "metadata": {},
   "outputs": [
    {
     "name": "stdout",
     "output_type": "stream",
     "text": [
      "안녕하세요\n",
      "안녕하세요\n",
      "안녕하세요\n",
      "안녕하세요\n",
      "안녕하세요\n"
     ]
    }
   ],
   "source": [
    "for i in range(5):\n",
    "    print('안녕하세요')"
   ]
  },
  {
   "cell_type": "code",
   "execution_count": 2,
   "id": "d60855c5",
   "metadata": {},
   "outputs": [
    {
     "name": "stdout",
     "output_type": "stream",
     "text": [
      "0\n",
      "1\n",
      "2\n",
      "3\n",
      "4\n"
     ]
    }
   ],
   "source": [
    "for i in range(5):\n",
    "    print(i)"
   ]
  },
  {
   "cell_type": "code",
   "execution_count": 3,
   "id": "f9525234",
   "metadata": {},
   "outputs": [
    {
     "name": "stdout",
     "output_type": "stream",
     "text": [
      "0\n",
      "1\n",
      "4\n",
      "9\n",
      "16\n"
     ]
    }
   ],
   "source": [
    "for i in range(5):\n",
    "    print(i * i)"
   ]
  },
  {
   "cell_type": "code",
   "execution_count": 4,
   "id": "ee966993",
   "metadata": {},
   "outputs": [
    {
     "name": "stdout",
     "output_type": "stream",
     "text": [
      "0 X 0 = 0\n",
      "1 X 1 = 1\n",
      "2 X 2 = 4\n",
      "3 X 3 = 9\n",
      "4 X 4 = 16\n"
     ]
    }
   ],
   "source": [
    "for i in range(5):\n",
    "    print(i, 'X', i, '=', i*i)"
   ]
  },
  {
   "cell_type": "code",
   "execution_count": 5,
   "id": "693efa9d",
   "metadata": {},
   "outputs": [
    {
     "name": "stdout",
     "output_type": "stream",
     "text": [
      "1 X 1 = 1\n",
      "2 X 2 = 4\n",
      "3 X 3 = 9\n",
      "4 X 4 = 16\n"
     ]
    }
   ],
   "source": [
    "for i in range(1, 5):\n",
    "    print(i, 'X', i, '=', i*i)"
   ]
  },
  {
   "cell_type": "code",
   "execution_count": 6,
   "id": "5d4bbd0e",
   "metadata": {},
   "outputs": [
    {
     "ename": "KeyboardInterrupt",
     "evalue": "",
     "output_type": "error",
     "traceback": [
      "\u001b[1;31m---------------------------------------------------------------------------\u001b[0m",
      "\u001b[1;31mKeyboardInterrupt\u001b[0m                         Traceback (most recent call last)",
      "\u001b[1;32m<ipython-input-6-316348c1acf9>\u001b[0m in \u001b[0;36m<module>\u001b[1;34m\u001b[0m\n\u001b[1;32m----> 1\u001b[1;33m \u001b[1;32mfor\u001b[0m \u001b[0mitem\u001b[0m \u001b[1;32min\u001b[0m \u001b[0mrange\u001b[0m\u001b[1;33m(\u001b[0m\u001b[1;36m1000000000\u001b[0m\u001b[1;33m)\u001b[0m\u001b[1;33m:\u001b[0m\u001b[1;33m\u001b[0m\u001b[1;33m\u001b[0m\u001b[0m\n\u001b[0m\u001b[0;32m      2\u001b[0m     \u001b[0mdata1\u001b[0m \u001b[1;33m=\u001b[0m \u001b[0mitem\u001b[0m \u001b[1;33m*\u001b[0m \u001b[0mitem\u001b[0m \u001b[1;33m*\u001b[0m \u001b[0mitem\u001b[0m\u001b[1;33m\u001b[0m\u001b[1;33m\u001b[0m\u001b[0m\n",
      "\u001b[1;31mKeyboardInterrupt\u001b[0m: "
     ]
    }
   ],
   "source": [
    "for item in range(1000000000):\n",
    "    data1 = item * item * item\n",
    "    \n",
    "# interrupt 버튼 사용"
   ]
  },
  {
   "cell_type": "code",
   "execution_count": 7,
   "id": "3a151346",
   "metadata": {},
   "outputs": [
    {
     "name": "stdout",
     "output_type": "stream",
     "text": [
      "code\n"
     ]
    }
   ],
   "source": [
    "print ('code')"
   ]
  },
  {
   "cell_type": "code",
   "execution_count": 9,
   "id": "b1459e24",
   "metadata": {},
   "outputs": [
    {
     "name": "stdout",
     "output_type": "stream",
     "text": [
      "2 X 0 = 0\n",
      "2 X 1 = 2\n",
      "2 X 2 = 4\n",
      "2 X 3 = 6\n",
      "2 X 4 = 8\n",
      "2 X 5 = 10\n",
      "2 X 6 = 12\n",
      "2 X 7 = 14\n",
      "2 X 8 = 16\n",
      "2 X 9 = 18\n"
     ]
    }
   ],
   "source": [
    "for i in range(10):\n",
    "    print(2, 'X', i, '=', 2 * i)"
   ]
  },
  {
   "cell_type": "code",
   "execution_count": 10,
   "id": "d1db5a86",
   "metadata": {},
   "outputs": [
    {
     "name": "stdout",
     "output_type": "stream",
     "text": [
      "2 X 1 = 2\n",
      "2 X 2 = 4\n",
      "2 X 3 = 6\n",
      "2 X 4 = 8\n",
      "2 X 5 = 10\n",
      "2 X 6 = 12\n",
      "2 X 7 = 14\n",
      "2 X 8 = 16\n",
      "2 X 9 = 18\n"
     ]
    }
   ],
   "source": [
    "for i in range(1, 10):\n",
    "    print(2, 'X', i, '=', 2 * i)"
   ]
  },
  {
   "cell_type": "code",
   "execution_count": null,
   "id": "e0405c82",
   "metadata": {},
   "outputs": [],
   "source": []
  }
 ],
 "metadata": {
  "kernelspec": {
   "display_name": "Python 3",
   "language": "python",
   "name": "python3"
  },
  "language_info": {
   "codemirror_mode": {
    "name": "ipython",
    "version": 3
   },
   "file_extension": ".py",
   "mimetype": "text/x-python",
   "name": "python",
   "nbconvert_exporter": "python",
   "pygments_lexer": "ipython3",
   "version": "3.8.8"
  }
 },
 "nbformat": 4,
 "nbformat_minor": 5
}
