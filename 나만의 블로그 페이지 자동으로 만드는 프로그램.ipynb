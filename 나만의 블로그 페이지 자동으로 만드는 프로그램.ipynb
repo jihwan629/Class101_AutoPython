{
 "cells": [
  {
   "cell_type": "code",
   "execution_count": 1,
   "id": "14e2f344",
   "metadata": {},
   "outputs": [],
   "source": [
    "from selenium import webdriver\n",
    "from selenium.webdriver.common.by import By\n",
    "from selenium.webdriver.support.ui import WebDriverWait\n",
    "from selenium.webdriver.support import expected_conditions as EC\n",
    "from selenium.webdriver.chrome.service import Service\n",
    "from webdriver_manager.chrome import ChromeDriverManager\n",
    "import time \n",
    "\n",
    "def get_category_popular_keyword_naver(category_num):\n",
    "    driver_location = '.\\chromedriver'\n",
    "    \n",
    "    return_data = list()\n",
    "    driver = webdriver.Chrome(executable_path=driver_location)\n",
    "    \n",
    "    driver.get('https://datalab.naver.com/')\n",
    "    \n",
    "    select_list = WebDriverWait(driver, 3).until(EC.presence_of_element_located((By.CSS_SELECTOR, \".select_btn\")))\n",
    "    select_list.click()\n",
    "    time.sleep(1)\n",
    "    \n",
    "    select_list = WebDriverWait(driver, 3).until(EC.presence_of_element_located((By.CSS_SELECTOR, \"div.select.depth._dropdown > ul > li:nth-child(\" + str(category_num) + \") > a\")))\n",
    "    select_list.click()\n",
    "    time.sleep(2)\n",
    "    \n",
    "    datas1 = driver.find_elements(By.CSS_SELECTOR, \"div.keyword_rank div.rank_scroll li.list span.title\")\n",
    "    for item in datas1:\n",
    "        return_data.append(item.text)\n",
    "    \n",
    "    driver.quit()\n",
    "        \n",
    "    return return_data[-10:]"
   ]
  },
  {
   "cell_type": "code",
   "execution_count": 2,
   "id": "796fc5f2",
   "metadata": {},
   "outputs": [],
   "source": [
    "import requests\n",
    "from bs4 import BeautifulSoup\n",
    "\n",
    "def get_related_keyword_google(keyword):\n",
    "    return_data = list()\n",
    "    google_related_keyword_api = 'http://suggestqueries.google.com/complete/search?output=toolbar&q=' + keyword\n",
    "    res = requests.get(google_related_keyword_api)\n",
    "    \n",
    "    soup = BeautifulSoup(res.content, 'xml')\n",
    "    datas1 = soup.select('suggestion')\n",
    "    \n",
    "    for item in datas1:\n",
    "        return_data.append(item['data'])\n",
    "        \n",
    "    return return_data"
   ]
  },
  {
   "cell_type": "code",
   "execution_count": 3,
   "id": "a3b7cd7d",
   "metadata": {},
   "outputs": [],
   "source": [
    "import settings # settings.py 필요\n",
    "import requests\n",
    "\n",
    "client_id = settings.NAVER_CLIENT_ID # API access key\n",
    "client_secret = settings.NAVER_CLIENT_SECRET # API secret key\n",
    "\n",
    "def naver_shopping_api_template(naver_open_api, body):\n",
    "    header_params = {\"X-Naver-Client-Id\": client_id, \"X-Naver-Client-Secret\": client_secret, \"Content-Type\":\"application/json\"}\n",
    "    res = requests.post(naver_open_api, headers=header_params, data=body)\n",
    "\n",
    "    if res.status_code == 200:\n",
    "        return res.json()\n",
    "    else:\n",
    "        print('Error Code: ', res.status_code)\n",
    "        return None"
   ]
  },
  {
   "cell_type": "code",
   "execution_count": 4,
   "id": "86e6f9dc",
   "metadata": {},
   "outputs": [],
   "source": [
    "def generate_data(data_json):\n",
    "    keword_datas = list()\n",
    "    \n",
    "    for item in data_json['result']:\n",
    "        keword_data = list()\n",
    "        keword_data_ratio = 0\n",
    "        \n",
    "        for item2 in item['data']:\n",
    "            keword_data_ratio += item2['ratio']\n",
    "            \n",
    "        keword_data.append(keword_data_ratio)\n",
    "        keword_data.append(item2['title'])\n",
    "        \n",
    "        keword_datas.append(keword_data)\n",
    "        \n",
    "    keword_datas.sort(reverse=True)\n",
    "    print(keword_datas)\n",
    "    return keword_datas[1][1]"
   ]
  },
  {
   "cell_type": "code",
   "execution_count": null,
   "id": "d3dea9de",
   "metadata": {},
   "outputs": [],
   "source": []
  }
 ],
 "metadata": {
  "kernelspec": {
   "display_name": "Python 3",
   "language": "python",
   "name": "python3"
  },
  "language_info": {
   "codemirror_mode": {
    "name": "ipython",
    "version": 3
   },
   "file_extension": ".py",
   "mimetype": "text/x-python",
   "name": "python",
   "nbconvert_exporter": "python",
   "pygments_lexer": "ipython3",
   "version": "3.8.8"
  }
 },
 "nbformat": 4,
 "nbformat_minor": 5
}
