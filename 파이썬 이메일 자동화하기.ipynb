{
 "cells": [
  {
   "cell_type": "code",
   "execution_count": null,
   "id": "7e8b7c3c",
   "metadata": {},
   "outputs": [],
   "source": [
    "# 파이썬으로 이메일(gmail) 자동화를 위한 설정하기"
   ]
  },
  {
   "cell_type": "code",
   "execution_count": 2,
   "id": "918caf73",
   "metadata": {},
   "outputs": [
    {
     "name": "stdout",
     "output_type": "stream",
     "text": [
      "이메일 전송 정상 실행\n"
     ]
    }
   ],
   "source": [
    "import settings # settigns.py 파일 생성 필요\n",
    "\n",
    "import smtplib\n",
    "import ssl\n",
    "\n",
    "SMTP_SERVER = \"smtp.gmail.com\"\n",
    "SMTP_SSL_PORT = 465 \n",
    "SENDER_ID = settings.GMAILID\n",
    "SENDER_PW = settings.GMAILPW\n",
    "RECEIVER_EMAIL=\"funcodingtest@gmail.com\"\n",
    "\n",
    "context = ssl.create_default_context()\n",
    "with smtplib.SMTP_SSL(SMTP_SERVER, SMTP_SSL_PORT, context=context) as server:\n",
    "    try:\n",
    "        server.login(SENDER_ID, SENDER_PW)\n",
    "        server.sendmail(SENDER_ID, RECEIVER_EMAIL, \"Auto Email Test\") # 한글 지원은 별도 기능 필요\n",
    "        print(\"이메일 전송 정상 실행\")\n",
    "    except Exception as e:\n",
    "        print(\"이메일 전송 에러\", e)"
   ]
  },
  {
   "cell_type": "code",
   "execution_count": 4,
   "id": "f6555570",
   "metadata": {},
   "outputs": [],
   "source": [
    "import smtplib  \n",
    "from email.header import Header\n",
    "from email.mime.base import MIMEBase # MIME 프로토콜 활용 기능\n",
    "from email.mime.text import MIMEText # MIME 프로토콜 활용 기능\n",
    "from email.mime.multipart import MIMEMultipart # MIME 프로토콜 활용 기능\n",
    "from email import utils\n",
    "from email import encoders\n",
    "from email.utils import COMMASPACE\n",
    "import os\n",
    "\n",
    "import settings # settigns.py 파일 생성 필요\n",
    "\n",
    "SMTP_SERVER = \"smtp.gmail.com\"\n",
    "SMTP_SSL_PORT = 465 \n",
    "SENDER_ID = settings.GMAILID\n",
    "SENDER_PW = settings.GMAILPW\n",
    "\n",
    "def email_template(from_user, to_users, cc_users, subject, attachment, text, text_format='plain', smtp_server='smtp.gmail.com', smtp_port=465):\n",
    "    msg = MIMEMultipart('multipart')\n",
    "    msg['FROM'] = from_user\n",
    "    msg['To'] = COMMASPACE.join(to_users)\n",
    "    msg['Cc'] = COMMASPACE.join(cc_users)\n",
    "    msg['Subject'] = Header(s=subject, charset='utf-8')\n",
    "    msg['Date'] = utils.formatdate(localtime=1)\n",
    "    \n",
    "    part = MIMEText(text, text_format)\n",
    "    msg.attach(part)\n",
    "    \n",
    "    if attachment:\n",
    "        part = MIMEBase('application', \"octet-strea\")\n",
    "        \n",
    "        part.set_payload(open(os.path.basename(attachment), \"rb\").read())\n",
    "        encoders.encode_base64(part)\n",
    "        \n",
    "        part['Content-Disposition'] = 'attachment; filename=\"%s\"' % os.path.basename(attachment)\n",
    "        msg.attach(part)\n",
    "        \n",
    "    context = ssl.create_default_context()\n",
    "    with smtplib.SMTP_SSL(SMTP_SERVER, SMTP_SSL_PORT, context=context) as server:\n",
    "        try:\n",
    "            server.login(SENDER_ID, SENDER_PW)\n",
    "            server.sendmail(msg['FROM'], [msg['To'], msg['Cc']], msg.as_string()) # 한글 지원은 별도 기능 필요\n",
    "            print(\"이메일 전송 정상 실행\")\n",
    "        except Exception as e:\n",
    "            print(\"이메일 전송 에러\", e)"
   ]
  },
  {
   "cell_type": "code",
   "execution_count": 5,
   "id": "cc8a6985",
   "metadata": {},
   "outputs": [],
   "source": [
    "from_user = settings.GMAILID\n",
    "to_users = [settings.GMAILID]\n",
    "cc_users = [settings.GMAILID]\n",
    "attachment = 'tmp.csv'\n",
    "subject = '테스트 제목'\n",
    "text = '안녕하세요. 파이썬 자동화 메일입니다.'"
   ]
  },
  {
   "cell_type": "code",
   "execution_count": 6,
   "id": "124e3569",
   "metadata": {},
   "outputs": [
    {
     "name": "stdout",
     "output_type": "stream",
     "text": [
      "이메일 전송 정상 실행\n"
     ]
    }
   ],
   "source": [
    "email_template(from_user, to_users, cc_users, subject, attachment, text, 'html')"
   ]
  },
  {
   "cell_type": "code",
   "execution_count": null,
   "id": "c3bfe352",
   "metadata": {},
   "outputs": [],
   "source": []
  }
 ],
 "metadata": {
  "kernelspec": {
   "display_name": "Python 3",
   "language": "python",
   "name": "python3"
  },
  "language_info": {
   "codemirror_mode": {
    "name": "ipython",
    "version": 3
   },
   "file_extension": ".py",
   "mimetype": "text/x-python",
   "name": "python",
   "nbconvert_exporter": "python",
   "pygments_lexer": "ipython3",
   "version": "3.8.8"
  }
 },
 "nbformat": 4,
 "nbformat_minor": 5
}
