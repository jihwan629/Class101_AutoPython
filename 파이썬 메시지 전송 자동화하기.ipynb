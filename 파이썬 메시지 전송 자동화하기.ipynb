{
 "cells": [
  {
   "cell_type": "code",
   "execution_count": 1,
   "id": "92677e98",
   "metadata": {},
   "outputs": [],
   "source": [
    "# 전세계 업무에서 가장 많이 쓰는 slack 활용하기"
   ]
  },
  {
   "cell_type": "code",
   "execution_count": 4,
   "id": "4ccf741b",
   "metadata": {},
   "outputs": [],
   "source": [
    "import settings # settings.py 파일 생성 필요\n",
    "\n",
    "incoming_webhook_url = settings.WEBHOOKURL"
   ]
  },
  {
   "cell_type": "code",
   "execution_count": 5,
   "id": "79c7fd34",
   "metadata": {},
   "outputs": [],
   "source": [
    "import json\n",
    "import requests\n",
    "\n",
    "def send_slack_template(incoming_webhook_url, message):\n",
    "    payload = {'type': 'mrkdwn', 'text': message}\n",
    "    message_json = json.dumps(payload)\n",
    "    requests.post(incoming_webhook_url, data=message_json)"
   ]
  },
  {
   "cell_type": "code",
   "execution_count": 6,
   "id": "95651642",
   "metadata": {},
   "outputs": [],
   "source": [
    "message = '안녕하세요!'\n",
    "send_slack_template(incoming_webhook_url, message)"
   ]
  },
  {
   "cell_type": "code",
   "execution_count": 7,
   "id": "a968d59b",
   "metadata": {},
   "outputs": [],
   "source": [
    "# slack 메시지 전송을 위한 API 와 IT 배경지식"
   ]
  },
  {
   "cell_type": "code",
   "execution_count": 9,
   "id": "2c43d861",
   "metadata": {},
   "outputs": [
    {
     "name": "stdout",
     "output_type": "stream",
     "text": [
      "01 java third Herbert Schildt <class 'dict'>\n"
     ]
    }
   ],
   "source": [
    "import json\n",
    "\n",
    "data = '{\"id\": \"01\", \"language\": \"java\", \"edition\": \"third\", \"author\": \"Herbert Schildt\"}'\n",
    "\n",
    "jsondata = json.loads(data)\n",
    "print(jsondata['id'], jsondata['language'], jsondata['edition'], jsondata['author'], type(jsondata))"
   ]
  },
  {
   "cell_type": "code",
   "execution_count": 11,
   "id": "c9133481",
   "metadata": {},
   "outputs": [
    {
     "name": "stdout",
     "output_type": "stream",
     "text": [
      "{\"id\": \"01\", \"language\": \"java\", \"edition\": \"third\", \"author\": \"Herbert Schildt\"} <class 'str'>\n"
     ]
    }
   ],
   "source": [
    "import json\n",
    "\n",
    "data = {\"id\": \"01\", \"language\": \"java\", \"edition\": \"third\", \"author\": \"Herbert Schildt\"}\n",
    "\n",
    "jsondata = json.dumps(data)\n",
    "print(jsondata, type(jsondata))"
   ]
  },
  {
   "cell_type": "code",
   "execution_count": 12,
   "id": "26d6264f",
   "metadata": {},
   "outputs": [],
   "source": [
    "# 파이썬 slack 메시지 전송 코드 이해하기"
   ]
  },
  {
   "cell_type": "code",
   "execution_count": 13,
   "id": "3b54ef05",
   "metadata": {},
   "outputs": [],
   "source": [
    "import json\n",
    "import requests\n",
    "\n",
    "def send_slack_template(incoming_webhook_url, message):\n",
    "    payload = {'type': 'mrkdwn', 'text': message}\n",
    "    message_json = json.dumps(payload)\n",
    "    requests.post(incoming_webhook_url, data=message_json)"
   ]
  },
  {
   "cell_type": "code",
   "execution_count": 15,
   "id": "d9e6bfcb",
   "metadata": {},
   "outputs": [],
   "source": [
    "message = '안녕하세요 *김지환* 입니다.'\n",
    "send_slack_template(incoming_webhook_url, message)"
   ]
  },
  {
   "cell_type": "code",
   "execution_count": 17,
   "id": "2d61d0c8",
   "metadata": {},
   "outputs": [],
   "source": [
    "message = 'This message contains a URL http://foo.com/'\n",
    "send_slack_template(incoming_webhook_url, message)"
   ]
  },
  {
   "cell_type": "code",
   "execution_count": 24,
   "id": "98f40bfa",
   "metadata": {},
   "outputs": [],
   "source": [
    "message = 'So does this one: www.foo.com <!channel|abc>'\n",
    "send_slack_template(incoming_webhook_url, message)"
   ]
  },
  {
   "cell_type": "code",
   "execution_count": 25,
   "id": "7eb47547",
   "metadata": {},
   "outputs": [
    {
     "data": {
      "text/plain": [
       "'1 첫번째 - 두번째 - 세번째'"
      ]
     },
     "execution_count": 25,
     "metadata": {},
     "output_type": "execute_result"
    }
   ],
   "source": [
    "message = '%d %s - %s - %s' % (1, '첫번째', '두번째', '세번째')\n",
    "message"
   ]
  },
  {
   "cell_type": "code",
   "execution_count": 26,
   "id": "63d03be5",
   "metadata": {},
   "outputs": [],
   "source": [
    "message = '%d] <http://www.drapt.com/e_sale/%s|%s>' % (1, 'aaa', '테스트 링크')\n",
    "send_slack_template(incoming_webhook_url, message)"
   ]
  },
  {
   "cell_type": "code",
   "execution_count": 27,
   "id": "01748c8c",
   "metadata": {},
   "outputs": [],
   "source": [
    "# 파이썬 slack 메시지 전송 자동화 템플릿 활용하기"
   ]
  },
  {
   "cell_type": "code",
   "execution_count": 28,
   "id": "5f6b8170",
   "metadata": {},
   "outputs": [],
   "source": [
    "import requests\n",
    "from bs4 import BeautifulSoup\n",
    "\n",
    "def crawling_template_with_href(url, css_selector, pre_url):\n",
    "    return_data = list()\n",
    "    res = requests.get(url)\n",
    "    soup = BeautifulSoup(res.content, 'html.parser')\n",
    "    datas1 = soup.select(css_selector)\n",
    "    \n",
    "    for i in datas1:\n",
    "        return_data.append([i.get_text(), pre_url + i['href']])\n",
    "        \n",
    "    return return_data"
   ]
  },
  {
   "cell_type": "code",
   "execution_count": 29,
   "id": "baeae44a",
   "metadata": {},
   "outputs": [
    {
     "data": {
      "text/plain": [
       "[[' “되기만 하면 수억원 먹을 수 있다”…이 동네에 뜬 ‘로또 청..',\n",
       "  'http://www.drapt.com/e_sale/index.htm?page_name=esale_news_view&menu_key=34&okey=wdate&uid=361631&start=0&mode=&s_que=&field='],\n",
       " [\" 文정부 남발한 민간사전청약…분양은 '하세월'\",\n",
       "  'http://www.drapt.com/e_sale/index.htm?page_name=esale_news_view&menu_key=34&okey=wdate&uid=361622&start=0&mode=&s_que=&field='],\n",
       " [' 내달 전국 3만6천여가구 분양…서울 정비사업 분양 줄잇는다',\n",
       "  'http://www.drapt.com/e_sale/index.htm?page_name=esale_news_view&menu_key=34&okey=wdate&uid=361620&start=0&mode=&s_que=&field='],\n",
       " [\" 한강변서 공공분양 … 알짜 '뉴홈' 쏟아진다\",\n",
       "  'http://www.drapt.com/e_sale/index.htm?page_name=esale_news_view&menu_key=34&okey=wdate&uid=361594&start=0&mode=&s_que=&field='],\n",
       " [' “아파트값 더 비싸지겠네”…치솟는 공사비, 분양가도 연평균 ..',\n",
       "  'http://www.drapt.com/e_sale/index.htm?page_name=esale_news_view&menu_key=34&okey=wdate&uid=361580&start=0&mode=&s_que=&field='],\n",
       " [\" 3년전 분양가로 차익 기대…과천 '줍줍' 6가구에 1만4천명 몰려\",\n",
       "  'http://www.drapt.com/e_sale/index.htm?page_name=esale_news_view&menu_key=34&okey=wdate&uid=361576&start=0&mode=&s_que=&field='],\n",
       " [' “미분양에 장사 없어”…10대 건설사 분양물량 70% 기약없이 ..',\n",
       "  'http://www.drapt.com/e_sale/index.htm?page_name=esale_news_view&menu_key=34&okey=wdate&uid=361573&start=0&mode=&s_que=&field='],\n",
       " [\" 3년전 분양가 그대로 과천 잇단 '줍줍' 공급\",\n",
       "  'http://www.drapt.com/e_sale/index.htm?page_name=esale_news_view&menu_key=34&okey=wdate&uid=361568&start=0&mode=&s_que=&field='],\n",
       " [' 지방인데 1순위 마감…분양가 저렴한것보다 더 큰 이유는',\n",
       "  'http://www.drapt.com/e_sale/index.htm?page_name=esale_news_view&menu_key=34&okey=wdate&uid=361567&start=0&mode=&s_que=&field='],\n",
       " [\" 서울 청약 가점 1년來 최저 '뚝'\",\n",
       "  'http://www.drapt.com/e_sale/index.htm?page_name=esale_news_view&menu_key=34&okey=wdate&uid=361559&start=0&mode=&s_que=&field='],\n",
       " [' 청약 돌풍 아파트에 이런 일이…‘최대 198대 1’ 비결 있었다',\n",
       "  'http://www.drapt.com/e_sale/index.htm?page_name=esale_news_view&menu_key=34&okey=wdate&uid=361556&start=0&mode=&s_que=&field='],\n",
       " [' 4월 전국 청약경쟁률 5.6대 1…서울 소형단지는 성적 저조',\n",
       "  'http://www.drapt.com/e_sale/index.htm?page_name=esale_news_view&menu_key=34&okey=wdate&uid=361555&start=0&mode=&s_que=&field='],\n",
       " [\" 급증한 공공분양 미분양 '무주택 조건' 풀어도 미달\",\n",
       "  'http://www.drapt.com/e_sale/index.htm?page_name=esale_news_view&menu_key=34&okey=wdate&uid=361550&start=0&mode=&s_que=&field='],\n",
       " [\" 규제 풀리자 분양가 '껑충'…소형아파트 3.3㎡당 2천만원 돌파\",\n",
       "  'http://www.drapt.com/e_sale/index.htm?page_name=esale_news_view&menu_key=34&okey=wdate&uid=361544&start=0&mode=&s_que=&field='],\n",
       " [\" 역대 사전청약 최고 인기 '대방 신희타' 본청약 연기\",\n",
       "  'http://www.drapt.com/e_sale/index.htm?page_name=esale_news_view&menu_key=34&okey=wdate&uid=361530&start=0&mode=&s_que=&field=']]"
      ]
     },
     "execution_count": 29,
     "metadata": {},
     "output_type": "execute_result"
    }
   ],
   "source": [
    "datas1 = crawling_template_with_href('http://www.drapt.com/e_sale/index.htm?page_name=esale_news&menu_key=34', 'a.c0000000', 'http://www.drapt.com/e_sale/')\n",
    "datas1"
   ]
  },
  {
   "cell_type": "code",
   "execution_count": 34,
   "id": "05e339e3",
   "metadata": {},
   "outputs": [],
   "source": [
    "import json\n",
    "import requests\n",
    "\n",
    "def send_slack_template(incoming_webhook_url, message):\n",
    "    payload = {'type': 'mrkdwn', 'text': message}\n",
    "    message_json = json.dumps(payload)\n",
    "    requests.post(incoming_webhook_url, data=message_json)\n",
    "    \n",
    "def send_slack_list_template(incoming_webhook_url, list_links, main_message):\n",
    "    send_slack_template(incoming_webhook_url, main_message)\n",
    "    \n",
    "    for i in list_links:\n",
    "        message = '-<%s|%s>' % (i[1], i[0])\n",
    "        send_slack_template(incoming_webhook_url, message)"
   ]
  },
  {
   "cell_type": "code",
   "execution_count": 35,
   "id": "1851491c",
   "metadata": {},
   "outputs": [],
   "source": [
    "import settings # settings.py 파일 생성 필요\n",
    "\n",
    "incoming_webhook_url = settings.WEBHOOKURL"
   ]
  },
  {
   "cell_type": "code",
   "execution_count": 36,
   "id": "6d031a62",
   "metadata": {},
   "outputs": [],
   "source": [
    "send_slack_list_template(incoming_webhook_url, datas1, '*신규 기사*')"
   ]
  },
  {
   "cell_type": "code",
   "execution_count": null,
   "id": "9a54bc37",
   "metadata": {},
   "outputs": [],
   "source": []
  }
 ],
 "metadata": {
  "kernelspec": {
   "display_name": "Python 3",
   "language": "python",
   "name": "python3"
  },
  "language_info": {
   "codemirror_mode": {
    "name": "ipython",
    "version": 3
   },
   "file_extension": ".py",
   "mimetype": "text/x-python",
   "name": "python",
   "nbconvert_exporter": "python",
   "pygments_lexer": "ipython3",
   "version": "3.8.8"
  }
 },
 "nbformat": 4,
 "nbformat_minor": 5
}
