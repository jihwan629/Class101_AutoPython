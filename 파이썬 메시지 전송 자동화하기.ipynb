{
 "cells": [
  {
   "cell_type": "code",
   "execution_count": 1,
   "id": "b9bd0aa6",
   "metadata": {},
   "outputs": [],
   "source": [
    "# 전세계 업무에서 가장 많이 쓰는 slack 활용하기"
   ]
  },
  {
   "cell_type": "code",
   "execution_count": 4,
   "id": "797d7434",
   "metadata": {},
   "outputs": [],
   "source": [
    "import settings # settings.py 파일 생성 필요\n",
    "\n",
    "incoming_webhook_url = settings.WEBHOOKURL"
   ]
  },
  {
   "cell_type": "code",
   "execution_count": 5,
   "id": "aa762007",
   "metadata": {},
   "outputs": [],
   "source": [
    "import json\n",
    "import requests\n",
    "\n",
    "def send_slack_template(incoming_webhook_url, message):\n",
    "    payload = {'type': 'mrkdwn', 'text': message}\n",
    "    message_json = json.dumps(payload)\n",
    "    requests.post(incoming_webhook_url, data=message_json)"
   ]
  },
  {
   "cell_type": "code",
   "execution_count": 6,
   "id": "98427132",
   "metadata": {},
   "outputs": [],
   "source": [
    "message = '안녕하세요!'\n",
    "send_slack_template(incoming_webhook_url, message)"
   ]
  },
  {
   "cell_type": "code",
   "execution_count": 7,
   "id": "7f46875e",
   "metadata": {},
   "outputs": [],
   "source": [
    "# slack 메시지 전송을 위한 API 와 IT 배경지식"
   ]
  },
  {
   "cell_type": "code",
   "execution_count": 9,
   "id": "bb347862",
   "metadata": {},
   "outputs": [
    {
     "name": "stdout",
     "output_type": "stream",
     "text": [
      "01 java third Herbert Schildt <class 'dict'>\n"
     ]
    }
   ],
   "source": [
    "import json\n",
    "\n",
    "data = '{\"id\": \"01\", \"language\": \"java\", \"edition\": \"third\", \"author\": \"Herbert Schildt\"}'\n",
    "\n",
    "jsondata = json.loads(data)\n",
    "print(jsondata['id'], jsondata['language'], jsondata['edition'], jsondata['author'], type(jsondata))"
   ]
  },
  {
   "cell_type": "code",
   "execution_count": 11,
   "id": "fdf1cc7d",
   "metadata": {},
   "outputs": [
    {
     "name": "stdout",
     "output_type": "stream",
     "text": [
      "{\"id\": \"01\", \"language\": \"java\", \"edition\": \"third\", \"author\": \"Herbert Schildt\"} <class 'str'>\n"
     ]
    }
   ],
   "source": [
    "import json\n",
    "\n",
    "data = {\"id\": \"01\", \"language\": \"java\", \"edition\": \"third\", \"author\": \"Herbert Schildt\"}\n",
    "\n",
    "jsondata = json.dumps(data)\n",
    "print(jsondata, type(jsondata))"
   ]
  },
  {
   "cell_type": "code",
   "execution_count": null,
   "id": "464eb111",
   "metadata": {},
   "outputs": [],
   "source": []
  }
 ],
 "metadata": {
  "kernelspec": {
   "display_name": "Python 3",
   "language": "python",
   "name": "python3"
  },
  "language_info": {
   "codemirror_mode": {
    "name": "ipython",
    "version": 3
   },
   "file_extension": ".py",
   "mimetype": "text/x-python",
   "name": "python",
   "nbconvert_exporter": "python",
   "pygments_lexer": "ipython3",
   "version": "3.8.8"
  }
 },
 "nbformat": 4,
 "nbformat_minor": 5
}
