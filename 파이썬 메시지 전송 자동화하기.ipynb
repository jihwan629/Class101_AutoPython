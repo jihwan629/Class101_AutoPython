{
 "cells": [
  {
   "cell_type": "code",
   "execution_count": 1,
   "id": "05ff6226",
   "metadata": {},
   "outputs": [],
   "source": [
    "# 전세계 업무에서 가장 많이 쓰는 slack 활용하기"
   ]
  },
  {
   "cell_type": "code",
   "execution_count": 4,
   "id": "b0f68655",
   "metadata": {},
   "outputs": [],
   "source": [
    "import settings # settings.py 파일 생성 필요\n",
    "\n",
    "incoming_webhook_url = settings.WEBHOOKURL"
   ]
  },
  {
   "cell_type": "code",
   "execution_count": 5,
   "id": "8d41ef24",
   "metadata": {},
   "outputs": [],
   "source": [
    "import json\n",
    "import requests\n",
    "\n",
    "def send_slack_template(incoming_webhook_url, message):\n",
    "    payload = {'type': 'mrkdwn', 'text': message}\n",
    "    message_json = json.dumps(payload)\n",
    "    requests.post(incoming_webhook_url, data=message_json)"
   ]
  },
  {
   "cell_type": "code",
   "execution_count": 6,
   "id": "74574caf",
   "metadata": {},
   "outputs": [],
   "source": [
    "message = '안녕하세요!'\n",
    "send_slack_template(incoming_webhook_url, message)"
   ]
  },
  {
   "cell_type": "code",
   "execution_count": 7,
   "id": "6a5ecdac",
   "metadata": {},
   "outputs": [],
   "source": [
    "# slack 메시지 전송을 위한 API 와 IT 배경지식"
   ]
  },
  {
   "cell_type": "code",
   "execution_count": 9,
   "id": "3f196d56",
   "metadata": {},
   "outputs": [
    {
     "name": "stdout",
     "output_type": "stream",
     "text": [
      "01 java third Herbert Schildt <class 'dict'>\n"
     ]
    }
   ],
   "source": [
    "import json\n",
    "\n",
    "data = '{\"id\": \"01\", \"language\": \"java\", \"edition\": \"third\", \"author\": \"Herbert Schildt\"}'\n",
    "\n",
    "jsondata = json.loads(data)\n",
    "print(jsondata['id'], jsondata['language'], jsondata['edition'], jsondata['author'], type(jsondata))"
   ]
  },
  {
   "cell_type": "code",
   "execution_count": 11,
   "id": "54fae252",
   "metadata": {},
   "outputs": [
    {
     "name": "stdout",
     "output_type": "stream",
     "text": [
      "{\"id\": \"01\", \"language\": \"java\", \"edition\": \"third\", \"author\": \"Herbert Schildt\"} <class 'str'>\n"
     ]
    }
   ],
   "source": [
    "import json\n",
    "\n",
    "data = {\"id\": \"01\", \"language\": \"java\", \"edition\": \"third\", \"author\": \"Herbert Schildt\"}\n",
    "\n",
    "jsondata = json.dumps(data)\n",
    "print(jsondata, type(jsondata))"
   ]
  },
  {
   "cell_type": "code",
   "execution_count": 12,
   "id": "9e460d42",
   "metadata": {},
   "outputs": [],
   "source": [
    "# 파이썬 slack 메시지 전송 코드 이해하기"
   ]
  },
  {
   "cell_type": "code",
   "execution_count": 13,
   "id": "0fd89903",
   "metadata": {},
   "outputs": [],
   "source": [
    "import json\n",
    "import requests\n",
    "\n",
    "def send_slack_template(incoming_webhook_url, message):\n",
    "    payload = {'type': 'mrkdwn', 'text': message}\n",
    "    message_json = json.dumps(payload)\n",
    "    requests.post(incoming_webhook_url, data=message_json)"
   ]
  },
  {
   "cell_type": "code",
   "execution_count": 15,
   "id": "a4a50e0c",
   "metadata": {},
   "outputs": [],
   "source": [
    "message = '안녕하세요 *김지환* 입니다.'\n",
    "send_slack_template(incoming_webhook_url, message)"
   ]
  },
  {
   "cell_type": "code",
   "execution_count": 17,
   "id": "e08fe43a",
   "metadata": {},
   "outputs": [],
   "source": [
    "message = 'This message contains a URL http://foo.com/'\n",
    "send_slack_template(incoming_webhook_url, message)"
   ]
  },
  {
   "cell_type": "code",
   "execution_count": 24,
   "id": "3f3fb99a",
   "metadata": {},
   "outputs": [],
   "source": [
    "message = 'So does this one: www.foo.com <!channel|abc>'\n",
    "send_slack_template(incoming_webhook_url, message)"
   ]
  },
  {
   "cell_type": "code",
   "execution_count": 25,
   "id": "3c8cc1c2",
   "metadata": {},
   "outputs": [
    {
     "data": {
      "text/plain": [
       "'1 첫번째 - 두번째 - 세번째'"
      ]
     },
     "execution_count": 25,
     "metadata": {},
     "output_type": "execute_result"
    }
   ],
   "source": [
    "message = '%d %s - %s - %s' % (1, '첫번째', '두번째', '세번째')\n",
    "message"
   ]
  },
  {
   "cell_type": "code",
   "execution_count": 26,
   "id": "5820fef0",
   "metadata": {},
   "outputs": [],
   "source": [
    "message = '%d] <http://www.drapt.com/e_sale/%s|%s>' % (1, 'aaa', '테스트 링크')\n",
    "send_slack_template(incoming_webhook_url, message)"
   ]
  },
  {
   "cell_type": "code",
   "execution_count": null,
   "id": "e0fe46f5",
   "metadata": {},
   "outputs": [],
   "source": []
  }
 ],
 "metadata": {
  "kernelspec": {
   "display_name": "Python 3",
   "language": "python",
   "name": "python3"
  },
  "language_info": {
   "codemirror_mode": {
    "name": "ipython",
    "version": 3
   },
   "file_extension": ".py",
   "mimetype": "text/x-python",
   "name": "python",
   "nbconvert_exporter": "python",
   "pygments_lexer": "ipython3",
   "version": "3.8.8"
  }
 },
 "nbformat": 4,
 "nbformat_minor": 5
}
