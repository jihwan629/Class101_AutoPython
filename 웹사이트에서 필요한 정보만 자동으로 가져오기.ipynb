{
 "cells": [
  {
   "cell_type": "code",
   "execution_count": 1,
   "id": "1c538f73",
   "metadata": {},
   "outputs": [
    {
     "name": "stdout",
     "output_type": "stream",
     "text": [
      "Requirement already satisfied: requests in c:\\developer\\anaconda3\\lib\\site-packages (2.25.1)\n",
      "Requirement already satisfied: certifi>=2017.4.17 in c:\\developer\\anaconda3\\lib\\site-packages (from requests) (2020.12.5)\n",
      "Requirement already satisfied: urllib3<1.27,>=1.21.1 in c:\\developer\\anaconda3\\lib\\site-packages (from requests) (1.26.4)\n",
      "Requirement already satisfied: idna<3,>=2.5 in c:\\developer\\anaconda3\\lib\\site-packages (from requests) (2.10)\n",
      "Requirement already satisfied: chardet<5,>=3.0.2 in c:\\developer\\anaconda3\\lib\\site-packages (from requests) (4.0.0)\n"
     ]
    }
   ],
   "source": [
    "!pip install requests"
   ]
  },
  {
   "cell_type": "code",
   "execution_count": 2,
   "id": "7fa886b1",
   "metadata": {},
   "outputs": [],
   "source": [
    "import requests\n",
    "from bs4 import BeautifulSoup"
   ]
  },
  {
   "cell_type": "code",
   "execution_count": 3,
   "id": "4728388c",
   "metadata": {},
   "outputs": [],
   "source": [
    "res = requests.get('https://davelee-fun.github.io/blog/crawl_html_css')"
   ]
  },
  {
   "cell_type": "code",
   "execution_count": 4,
   "id": "a71f8dc9",
   "metadata": {},
   "outputs": [
    {
     "data": {
      "text/plain": [
       "<Response [200]>"
      ]
     },
     "execution_count": 4,
     "metadata": {},
     "output_type": "execute_result"
    }
   ],
   "source": [
    "res"
   ]
  },
  {
   "cell_type": "code",
   "execution_count": 5,
   "id": "6949a10c",
   "metadata": {},
   "outputs": [
    {
     "data": {
      "text/plain": [
       "b'<!doctype html>\\n<html lang=\"ko\">\\n<head>\\n<meta charset=\"utf-8\" />\\n<title>\\xea\\xb8\\xb0\\xeb\\xb3\\xb8 \\xec\\xbb\\xa4\\xeb\\xa6\\xac\\xed\\x81\\x98\\xeb\\x9f\\xbc</title>\\n<style>\\n#logo {\\n    max-width: 100%;\\n}\\n.course {\\n    font-size: 14px;\\n}\\n</style>\\n</head>\\n<body>\\n<h1>\\xec\\x9e\\x94\\xec\\x9e\\xac\\xeb\\xaf\\xb8\\xec\\xbd\\x94\\xeb\\x94\\xa9 \\xed\\x81\\xac\\xeb\\xa1\\xa4\\xeb\\xa7\\x81 \\xed\\x85\\x8c\\xec\\x8a\\xa4\\xed\\x8a\\xb8 \\xed\\x8e\\x98\\xec\\x9d\\xb4\\xec\\xa7\\x80 (\\xec\\xbb\\xa4\\xeb\\xa6\\xac\\xed\\x81\\x98\\xeb\\x9f\\xbc)</h1>\\n\\n<h3>\\xeb\\x82\\x98\\xeb\\xa7\\x8c\\xec\\x9d\\x98 \\xec\\x97\\xa3\\xec\\xa7\\x80\\xec\\x9e\\x88\\xeb\\x8a\\x94 \\xeb\\xb8\\x94\\xeb\\xa1\\x9c\\xea\\xb7\\xb8 \\xec\\x82\\xac\\xec\\x9d\\xb4\\xed\\x8a\\xb8 \\xeb\\xa7\\x8c\\xeb\\x93\\xa4\\xea\\xb8\\xb0 (\\xec\\xb7\\xa8\\xeb\\xaf\\xb8\\xeb\\xa1\\x9c \\xec\\x9d\\xb5\\xed\\x9e\\x88\\xeb\\x8a\\x94 IT)</h3>\\n<ul id=\"hobby_course_list\">\\n    <li class=\"course\" id=\\'start\\'><a href=\"https://www.fun-coding.org\">(\\xec\\x99\\x95\\xec\\xb4\\x88\\xeb\\xb3\\xb4) - \\xed\\x81\\xb4\\xeb\\x9e\\x98\\xec\\x8a\\xa4 \\xec\\x86\\x8c\\xea\\xb0\\x9c</a></li>\\n    <li class=\"course\" id=\\'start\\'><a href=\"https://www.fun-coding.org\">(\\xec\\x99\\x95\\xec\\xb4\\x88\\xeb\\xb3\\xb4) - \\xeb\\xb8\\x94\\xeb\\xa1\\x9c\\xea\\xb7\\xb8 \\xea\\xb0\\x9c\\xeb\\xb0\\x9c \\xed\\x95\\x84\\xec\\x9a\\x94\\xed\\x95\\x9c \\xec\\xa4\\x80\\xeb\\xb9\\x84\\xeb\\xac\\xbc \\xec\\xa4\\x80\\xeb\\xb9\\x84\\xed\\x95\\x98\\xea\\xb8\\xb0</a></li>\\n    <li class=\"course\" id=\\'start\\'><a href=\"https://www.fun-coding.org\">(\\xec\\x99\\x95\\xec\\xb4\\x88\\xeb\\xb3\\xb4) - Github pages \\xec\\x84\\xa4\\xec\\xa0\\x95\\xed\\x95\\xb4\\xec\\x84\\x9c \\xeb\\xb8\\x94\\xeb\\xa1\\x9c\\xea\\xb7\\xb8 \\xec\\xb2\\xab \\xed\\x8e\\x98\\xec\\x9d\\xb4\\xec\\xa7\\x80 \\xeb\\xa7\\x8c\\xeb\\x93\\xa4\\xec\\x96\\xb4\\xeb\\xb3\\xb4\\xea\\xb8\\xb0</a></li>\\n    <li class=\"course\" id=\\'start\\'><a href=\"https://www.fun-coding.org\">(\\xec\\x99\\x95\\xec\\xb4\\x88\\xeb\\xb3\\xb4) - \\xec\\xb4\\x88\\xea\\xb0\\x84\\xeb\\x8b\\xa8 \\xed\\x8e\\x98\\xec\\x9d\\xb4\\xec\\xa7\\x80 \\xeb\\xa7\\x8c\\xeb\\x93\\xa4\\xec\\x96\\xb4\\xeb\\xb3\\xb4\\xea\\xb8\\xb0</a></li>\\n    <li class=\"course\" id=\\'start\\'><a href=\"https://www.fun-coding.org\">(\\xec\\x99\\x95\\xec\\xb4\\x88\\xeb\\xb3\\xb4) - \\xec\\x9d\\xb4\\xec\\x81\\x98\\xea\\xb2\\x8c \\xed\\x85\\x8c\\xeb\\xa7\\x88 \\xec\\xa0\\x81\\xec\\x9a\\xa9\\xed\\x95\\xb4\\xeb\\xb3\\xb4\\xea\\xb8\\xb0</a></li>\\n    <li class=\"course\" id=\\'start\\'><a href=\"https://www.fun-coding.org\">(\\xec\\x99\\x95\\xec\\xb4\\x88\\xeb\\xb3\\xb4) - \\xeb\\xa7\\x88\\xed\\x81\\xac\\xeb\\x8b\\xa4\\xec\\x9a\\xb4 \\xea\\xb8\\xb0\\xec\\xb4\\x88 \\xec\\x9d\\xb4\\xed\\x95\\xb4\\xed\\x95\\x98\\xea\\xb3\\xa0, \\xec\\x8b\\xa4\\xec\\xa0\\x9c \\xeb\\x82\\x98\\xeb\\xa7\\x8c\\xec\\x9d\\x98 \\xeb\\xb8\\x94\\xeb\\xa1\\x9c\\xea\\xb7\\xb8 \\xed\\x8e\\x98\\xec\\x9d\\xb4\\xec\\xa7\\x80 \\xeb\\xa7\\x8c\\xeb\\x93\\xa4\\xea\\xb8\\xb0</a></li>\\n    <li class=\"course\" id=\\'start\\'><a href=\"https://www.fun-coding.org\">(\\xec\\x99\\x95\\xec\\xb4\\x88\\xeb\\xb3\\xb4) - \\xeb\\x8b\\xa4\\xec\\x96\\x91\\xed\\x95\\x9c \\xeb\\xa7\\x88\\xed\\x81\\xac\\xeb\\x8b\\xa4\\xec\\x9a\\xb4 \\xea\\xb8\\xb0\\xeb\\xb2\\x95 \\xec\\x9d\\xb5\\xed\\x98\\x80\\xeb\\xb3\\xb4\\xeb\\xa9\\xb0, \\xeb\\x82\\x98\\xeb\\xa7\\x8c\\xec\\x9d\\x98 \\xeb\\xb8\\x94\\xeb\\xa1\\x9c\\xea\\xb7\\xb8 \\xed\\x8e\\x98\\xec\\x9d\\xb4\\xec\\xa7\\x80 \\xea\\xbe\\xb8\\xeb\\xa9\\xb0\\xeb\\xb3\\xb4\\xea\\xb8\\xb0</a></li>\\n</ul>\\n\\n<h3>\\xed\\x8c\\x8c\\xec\\x9d\\xb4\\xec\\x8d\\xac\\xea\\xb3\\xbc \\xeb\\x8d\\xb0\\xec\\x9d\\xb4\\xed\\x84\\xb0\\xea\\xb3\\xbc\\xed\\x95\\x99 \\xec\\xb2\\xab\\xea\\xb1\\xb8\\xec\\x9d\\x8c (IT \\xea\\xb8\\xb0\\xeb\\xb3\\xb8\\xea\\xb8\\xb0 \\xec\\x9d\\xb5\\xed\\x9e\\x88\\xea\\xb8\\xb0)</h3>\\n<ul id=\"dev_course_list\">\\n    <li class=\"course\" id=\\'begin\\'><a href=\"https://www.fun-coding.org\">(\\xec\\xb4\\x88\\xea\\xb8\\x89) - \\xea\\xb0\\x95\\xec\\x82\\xac\\xea\\xb0\\x80 \\xec\\x8b\\xa4\\xec\\xa0\\x9c \\xec\\x82\\xac\\xec\\x9a\\xa9\\xed\\x95\\x98\\xeb\\x8a\\x94 \\xec\\x9e\\x90\\xeb\\x8f\\x99 \\xed\\x94\\x84\\xeb\\xa1\\x9c\\xea\\xb7\\xb8\\xeb\\x9e\\xa8 \\xec\\x86\\x8c\\xea\\xb0\\x9c [2]</a></li>\\n    <li class=\"course\" id=\\'begin\\'><a href=\"https://www.fun-coding.org\">(\\xec\\xb4\\x88\\xea\\xb8\\x89) - \\xed\\x95\\x84\\xec\\x9a\\x94\\xed\\x95\\x9c \\xed\\x94\\x84\\xeb\\xa1\\x9c\\xea\\xb7\\xb8\\xeb\\x9e\\xa8 \\xec\\x84\\xa4\\xec\\xb9\\x98 \\xec\\x8b\\x9c\\xec\\x97\\xb0 [5]</a></li>\\n    <li class=\"course\" id=\\'begin\\'><a href=\"https://www.fun-coding.org\">(\\xec\\xb4\\x88\\xea\\xb8\\x89) - \\xeb\\x8d\\xb0\\xec\\x9d\\xb4\\xed\\x84\\xb0\\xeb\\xa5\\xbc \\xec\\x97\\x91\\xec\\x85\\x80 \\xed\\x8c\\x8c\\xec\\x9d\\xbc\\xeb\\xa1\\x9c \\xeb\\xa7\\x8c\\xeb\\x93\\xa4\\xea\\xb8\\xb0 [9]</a></li>\\n    <li class=\"course\" id=\\'begin\\'><a href=\"https://www.fun-coding.org\">(\\xec\\xb4\\x88\\xea\\xb8\\x89) - &nbsp;&nbsp;&nbsp;&nbsp;\\xec\\x97\\x91\\xec\\x85\\x80 \\xed\\x8c\\x8c\\xec\\x9d\\xbc \\xec\\x9d\\xb4\\xec\\x81\\x98\\xea\\xb2\\x8c! \\xec\\x9d\\xb4\\xec\\x81\\x98\\xea\\xb2\\x8c! [8]</a></li>\\n    <li class=\"course\" id=\\'begin\\'><a href=\"https://www.fun-coding.org\">(\\xec\\xb4\\x88\\xea\\xb8\\x89) - &nbsp;&nbsp;&nbsp;&nbsp;\\xeb\\x82\\x98\\xeb\\x8c\\x80\\xec\\x8b\\xa0 \\xec\\xa3\\xbc\\xea\\xb8\\xb0\\xec\\xa0\\x81\\xec\\x9c\\xbc\\xeb\\xa1\\x9c \\xed\\x8c\\x8c\\xec\\x9d\\xb4\\xec\\x8d\\xac \\xed\\x94\\x84\\xeb\\xa1\\x9c\\xea\\xb7\\xb8\\xeb\\x9e\\xa8 \\xec\\x8b\\xa4\\xed\\x96\\x89\\xed\\x95\\x98\\xea\\xb8\\xb0 [7]</a></li>\\n    <li class=\"course\" id=\\'begin\\'><a href=\"https://www.fun-coding.org\">(\\xec\\xb4\\x88\\xea\\xb8\\x89) - \\xed\\x8c\\x8c\\xec\\x9d\\xb4\\xec\\x8d\\xac\\xec\\x9c\\xbc\\xeb\\xa1\\x9c \\xec\\x8a\\xac\\xeb\\x9e\\x99(slack) \\xeb\\xa9\\x94\\xec\\x8b\\xa0\\xec\\xa0\\x80\\xec\\x97\\x90 \\xea\\xb8\\x80\\xec\\x93\\xb0\\xea\\xb8\\xb0 [40]</a></li>\\n    <li class=\"course\" id=\\'begin\\'><a href=\"https://www.fun-coding.org\">(\\xec\\xb4\\x88\\xea\\xb8\\x89) - \\xec\\x9b\\xb9\\xec\\x82\\xac\\xec\\x9d\\xb4\\xed\\x8a\\xb8 \\xeb\\xb3\\x80\\xea\\xb2\\xbd\\xec\\x82\\xac\\xed\\x95\\xad \\xec\\xa3\\xbc\\xea\\xb8\\xb0\\xec\\xa0\\x81\\xec\\x9c\\xbc\\xeb\\xa1\\x9c \\xec\\xb2\\xb4\\xed\\x81\\xac\\xed\\x95\\xb4\\xec\\x84\\x9c, \\xeb\\xa9\\x94\\xec\\x8b\\xa0\\xec\\xa0\\x80\\xeb\\xa1\\x9c \\xec\\x95\\x8c\\xeb\\x9e\\x8c\\xec\\xa3\\xbc\\xea\\xb8\\xb0 [12]</a></li>\\n    <li class=\"course\" id=\\'begin\\'><a href=\"https://www.fun-coding.org\">(\\xec\\xb4\\x88\\xea\\xb8\\x89) - \\xeb\\x84\\xa4\\xec\\x9d\\xb4\\xeb\\xb2\\x84 API \\xec\\x82\\xac\\xec\\x9a\\xa9\\xed\\x95\\xb4\\xec\\x84\\x9c, \\xeb\\xb8\\x94\\xeb\\xa1\\x9c\\xea\\xb7\\xb8\\xec\\x97\\x90 \\xea\\xb8\\x80\\xec\\x93\\xb0\\xea\\xb8\\xb0 [42]</a></li>\\n    <li class=\"course paid\" id=\\'advance\\'><a href=\"https://www.fun-coding.org\">(\\xec\\xa4\\x91\\xea\\xb8\\x89) - \\xec\\x9e\\x90\\xeb\\x8f\\x99\\xec\\x9c\\xbc\\xeb\\xa1\\x9c \\xec\\xbf\\xa0\\xed\\x8c\\xa1\\xed\\x8c\\x8c\\xed\\x8a\\xb8\\xeb\\x84\\x88\\xec\\x8a\\xa4 API \\xeb\\xa1\\x9c \\xea\\xb0\\x80\\xec\\xa0\\xb8\\xec\\x98\\xa8 \\xec\\x83\\x81\\xed\\x92\\x88 \\xec\\xa0\\x95\\xeb\\xb3\\xb4, \\xeb\\x84\\xa4\\xec\\x9d\\xb4\\xeb\\xb2\\x84 \\xeb\\xb8\\x94\\xeb\\xa1\\x9c\\xea\\xb7\\xb8/\\xed\\x8a\\xb8\\xec\\x9c\\x84\\xed\\x84\\xb0\\xec\\x97\\x90 \\xed\\x99\\x8d\\xeb\\xb3\\xb4\\xed\\x95\\x98\\xea\\xb8\\xb0 [412]</a></li>\\n</ul>\\n\\n<h3>\\xec\\xbb\\xa4\\xeb\\xa6\\xac\\xed\\x81\\x98\\xeb\\x9f\\xbc \\xec\\x9d\\xbc\\xec\\xa0\\x95</h3>\\n<table border=\"1\" style=\"border-collapse: collapse;\">\\n    <tr>\\n        <td>\\xec\\x9d\\xbc\\xec\\xa0\\x95</td>\\n        <td>\\xec\\xbb\\xa4\\xeb\\xa6\\xac\\xed\\x81\\x98\\xeb\\x9f\\xbc \\xed\\x83\\x80\\xec\\x9d\\xb4\\xed\\x8b\\x80</td>\\n        <td>\\xeb\\x82\\x9c\\xec\\x9d\\xb4\\xeb\\x8f\\x84</td>\\n    </tr>\\n    <tr>\\n        <td>5.1 ~ 6.15</td>\\n        <td>\\xeb\\x82\\x98\\xeb\\xa7\\x8c\\xec\\x9d\\x98 \\xec\\x97\\xa3\\xec\\xa7\\x80\\xec\\x9e\\x88\\xeb\\x8a\\x94 \\xeb\\xb8\\x94\\xeb\\xa1\\x9c\\xea\\xb7\\xb8 \\xec\\x82\\xac\\xec\\x9d\\xb4\\xed\\x8a\\xb8 \\xeb\\xa7\\x8c\\xeb\\x93\\xa4\\xea\\xb8\\xb0 (\\xec\\xb7\\xa8\\xeb\\xaf\\xb8\\xeb\\xa1\\x9c \\xec\\x9d\\xb5\\xed\\x9e\\x88\\xeb\\x8a\\x94 IT)</td>\\n        <td>\\xec\\xb4\\x88\\xea\\xb8\\x89</td>\\n    </tr>\\n    <tr>\\n        <td>6.16 ~ 7.31</td>\\n        <td>\\xed\\x8c\\x8c\\xec\\x9d\\xb4\\xec\\x8d\\xac\\xea\\xb3\\xbc \\xeb\\x8d\\xb0\\xec\\x9d\\xb4\\xed\\x84\\xb0\\xea\\xb3\\xbc\\xed\\x95\\x99 \\xec\\xb2\\xab\\xea\\xb1\\xb8\\xec\\x9d\\x8c (IT \\xea\\xb8\\xb0\\xeb\\xb3\\xb8\\xea\\xb8\\xb0 \\xec\\x9d\\xb5\\xed\\x9e\\x88\\xea\\xb8\\xb0)</td>\\n        <td>\\xec\\xa4\\x91\\xea\\xb8\\x89</td>\\n    </tr>    \\n</table>\\n\\n\\n</body>\\n</html>\\n'"
      ]
     },
     "execution_count": 5,
     "metadata": {},
     "output_type": "execute_result"
    }
   ],
   "source": [
    "res.content"
   ]
  },
  {
   "cell_type": "code",
   "execution_count": 7,
   "id": "bc689cc6",
   "metadata": {},
   "outputs": [
    {
     "name": "stdout",
     "output_type": "stream",
     "text": [
      "(왕초보) - 클래스 소개\n",
      "(왕초보) - 블로그 개발 필요한 준비물 준비하기\n",
      "(왕초보) - Github pages 설정해서 블로그 첫 페이지 만들어보기\n",
      "(왕초보) - 초간단 페이지 만들어보기\n",
      "(왕초보) - 이쁘게 테마 적용해보기\n",
      "(왕초보) - 마크다운 기초 이해하고, 실제 나만의 블로그 페이지 만들기\n",
      "(왕초보) - 다양한 마크다운 기법 익혀보며, 나만의 블로그 페이지 꾸며보기\n",
      "(초급) - 강사가 실제 사용하는 자동 프로그램 소개 [2]\n",
      "(초급) - 필요한 프로그램 설치 시연 [5]\n",
      "(초급) - 데이터를 엑셀 파일로 만들기 [9]\n",
      "(초급) -     엑셀 파일 이쁘게! 이쁘게! [8]\n",
      "(초급) -     나대신 주기적으로 파이썬 프로그램 실행하기 [7]\n",
      "(초급) - 파이썬으로 슬랙(slack) 메신저에 글쓰기 [40]\n",
      "(초급) - 웹사이트 변경사항 주기적으로 체크해서, 메신저로 알람주기 [12]\n",
      "(초급) - 네이버 API 사용해서, 블로그에 글쓰기 [42]\n",
      "(중급) - 자동으로 쿠팡파트너스 API 로 가져온 상품 정보, 네이버 블로그/트위터에 홍보하기 [412]\n"
     ]
    }
   ],
   "source": [
    "soup = BeautifulSoup(res.content, 'html.parser')\n",
    "datas1 = soup.select('li')\n",
    "\n",
    "for i in datas1:\n",
    "    print(i.get_text())"
   ]
  },
  {
   "cell_type": "code",
   "execution_count": 39,
   "id": "21d5180e",
   "metadata": {},
   "outputs": [],
   "source": [
    "def crawling_template(url, css_selector):\n",
    "    return_data = list()\n",
    "    res = requests.get(url)\n",
    "    soup = BeautifulSoup(res.content, 'html.parser')\n",
    "    datas1 = soup.select(css_selector)\n",
    "    \n",
    "    for i in datas1:\n",
    "        return_data.append(i.get_text())\n",
    "        \n",
    "    return return_data"
   ]
  },
  {
   "cell_type": "code",
   "execution_count": 31,
   "id": "d2b6fcb6",
   "metadata": {},
   "outputs": [
    {
     "data": {
      "text/plain": [
       "['(왕초보) - 클래스 소개',\n",
       " '(왕초보) - 블로그 개발 필요한 준비물 준비하기',\n",
       " '(왕초보) - Github pages 설정해서 블로그 첫 페이지 만들어보기',\n",
       " '(왕초보) - 초간단 페이지 만들어보기',\n",
       " '(왕초보) - 이쁘게 테마 적용해보기',\n",
       " '(왕초보) - 마크다운 기초 이해하고, 실제 나만의 블로그 페이지 만들기',\n",
       " '(왕초보) - 다양한 마크다운 기법 익혀보며, 나만의 블로그 페이지 꾸며보기',\n",
       " '(초급) - 강사가 실제 사용하는 자동 프로그램 소개 [2]',\n",
       " '(초급) - 필요한 프로그램 설치 시연 [5]',\n",
       " '(초급) - 데이터를 엑셀 파일로 만들기 [9]',\n",
       " '(초급) - \\xa0\\xa0\\xa0\\xa0엑셀 파일 이쁘게! 이쁘게! [8]',\n",
       " '(초급) - \\xa0\\xa0\\xa0\\xa0나대신 주기적으로 파이썬 프로그램 실행하기 [7]',\n",
       " '(초급) - 파이썬으로 슬랙(slack) 메신저에 글쓰기 [40]',\n",
       " '(초급) - 웹사이트 변경사항 주기적으로 체크해서, 메신저로 알람주기 [12]',\n",
       " '(초급) - 네이버 API 사용해서, 블로그에 글쓰기 [42]',\n",
       " '(중급) - 자동으로 쿠팡파트너스 API 로 가져온 상품 정보, 네이버 블로그/트위터에 홍보하기 [412]']"
      ]
     },
     "execution_count": 31,
     "metadata": {},
     "output_type": "execute_result"
    }
   ],
   "source": [
    "crawling_template('https://davelee-fun.github.io/blog/crawl_html_css', 'li')"
   ]
  },
  {
   "cell_type": "code",
   "execution_count": 30,
   "id": "09c828fb",
   "metadata": {},
   "outputs": [
    {
     "data": {
      "text/plain": [
       "['(왕초보) - 클래스 소개',\n",
       " '(왕초보) - 블로그 개발 필요한 준비물 준비하기',\n",
       " '(왕초보) - Github pages 설정해서 블로그 첫 페이지 만들어보기',\n",
       " '(왕초보) - 초간단 페이지 만들어보기',\n",
       " '(왕초보) - 이쁘게 테마 적용해보기',\n",
       " '(왕초보) - 마크다운 기초 이해하고, 실제 나만의 블로그 페이지 만들기',\n",
       " '(왕초보) - 다양한 마크다운 기법 익혀보며, 나만의 블로그 페이지 꾸며보기',\n",
       " '(초급) - 강사가 실제 사용하는 자동 프로그램 소개 [2]',\n",
       " '(초급) - 필요한 프로그램 설치 시연 [5]',\n",
       " '(초급) - 데이터를 엑셀 파일로 만들기 [9]',\n",
       " '(초급) - \\xa0\\xa0\\xa0\\xa0엑셀 파일 이쁘게! 이쁘게! [8]',\n",
       " '(초급) - \\xa0\\xa0\\xa0\\xa0나대신 주기적으로 파이썬 프로그램 실행하기 [7]',\n",
       " '(초급) - 파이썬으로 슬랙(slack) 메신저에 글쓰기 [40]',\n",
       " '(초급) - 웹사이트 변경사항 주기적으로 체크해서, 메신저로 알람주기 [12]',\n",
       " '(초급) - 네이버 API 사용해서, 블로그에 글쓰기 [42]',\n",
       " '(중급) - 자동으로 쿠팡파트너스 API 로 가져온 상품 정보, 네이버 블로그/트위터에 홍보하기 [412]']"
      ]
     },
     "execution_count": 30,
     "metadata": {},
     "output_type": "execute_result"
    }
   ],
   "source": [
    "crawling_template('https://davelee-fun.github.io/blog/crawl_html_css', 'ul li')"
   ]
  },
  {
   "cell_type": "code",
   "execution_count": 29,
   "id": "71cee6ab",
   "metadata": {},
   "outputs": [
    {
     "data": {
      "text/plain": [
       "['(왕초보) - 클래스 소개',\n",
       " '(왕초보) - 블로그 개발 필요한 준비물 준비하기',\n",
       " '(왕초보) - Github pages 설정해서 블로그 첫 페이지 만들어보기',\n",
       " '(왕초보) - 초간단 페이지 만들어보기',\n",
       " '(왕초보) - 이쁘게 테마 적용해보기',\n",
       " '(왕초보) - 마크다운 기초 이해하고, 실제 나만의 블로그 페이지 만들기',\n",
       " '(왕초보) - 다양한 마크다운 기법 익혀보며, 나만의 블로그 페이지 꾸며보기',\n",
       " '(초급) - 강사가 실제 사용하는 자동 프로그램 소개 [2]',\n",
       " '(초급) - 필요한 프로그램 설치 시연 [5]',\n",
       " '(초급) - 데이터를 엑셀 파일로 만들기 [9]',\n",
       " '(초급) - \\xa0\\xa0\\xa0\\xa0엑셀 파일 이쁘게! 이쁘게! [8]',\n",
       " '(초급) - \\xa0\\xa0\\xa0\\xa0나대신 주기적으로 파이썬 프로그램 실행하기 [7]',\n",
       " '(초급) - 파이썬으로 슬랙(slack) 메신저에 글쓰기 [40]',\n",
       " '(초급) - 웹사이트 변경사항 주기적으로 체크해서, 메신저로 알람주기 [12]',\n",
       " '(초급) - 네이버 API 사용해서, 블로그에 글쓰기 [42]',\n",
       " '(중급) - 자동으로 쿠팡파트너스 API 로 가져온 상품 정보, 네이버 블로그/트위터에 홍보하기 [412]']"
      ]
     },
     "execution_count": 29,
     "metadata": {},
     "output_type": "execute_result"
    }
   ],
   "source": [
    "crawling_template('https://davelee-fun.github.io/blog/crawl_html_css', 'li.course')"
   ]
  },
  {
   "cell_type": "code",
   "execution_count": 28,
   "id": "c9cb54eb",
   "metadata": {},
   "outputs": [
    {
     "data": {
      "text/plain": [
       "['(왕초보) - 클래스 소개',\n",
       " '(왕초보) - 블로그 개발 필요한 준비물 준비하기',\n",
       " '(왕초보) - Github pages 설정해서 블로그 첫 페이지 만들어보기',\n",
       " '(왕초보) - 초간단 페이지 만들어보기',\n",
       " '(왕초보) - 이쁘게 테마 적용해보기',\n",
       " '(왕초보) - 마크다운 기초 이해하고, 실제 나만의 블로그 페이지 만들기',\n",
       " '(왕초보) - 다양한 마크다운 기법 익혀보며, 나만의 블로그 페이지 꾸며보기',\n",
       " '(초급) - 강사가 실제 사용하는 자동 프로그램 소개 [2]',\n",
       " '(초급) - 필요한 프로그램 설치 시연 [5]',\n",
       " '(초급) - 데이터를 엑셀 파일로 만들기 [9]',\n",
       " '(초급) - \\xa0\\xa0\\xa0\\xa0엑셀 파일 이쁘게! 이쁘게! [8]',\n",
       " '(초급) - \\xa0\\xa0\\xa0\\xa0나대신 주기적으로 파이썬 프로그램 실행하기 [7]',\n",
       " '(초급) - 파이썬으로 슬랙(slack) 메신저에 글쓰기 [40]',\n",
       " '(초급) - 웹사이트 변경사항 주기적으로 체크해서, 메신저로 알람주기 [12]',\n",
       " '(초급) - 네이버 API 사용해서, 블로그에 글쓰기 [42]',\n",
       " '(중급) - 자동으로 쿠팡파트너스 API 로 가져온 상품 정보, 네이버 블로그/트위터에 홍보하기 [412]']"
      ]
     },
     "execution_count": 28,
     "metadata": {},
     "output_type": "execute_result"
    }
   ],
   "source": [
    "crawling_template('https://davelee-fun.github.io/blog/crawl_html_css', '.course')"
   ]
  },
  {
   "cell_type": "code",
   "execution_count": 27,
   "id": "40d5b807",
   "metadata": {},
   "outputs": [
    {
     "data": {
      "text/plain": [
       "['(중급) - 자동으로 쿠팡파트너스 API 로 가져온 상품 정보, 네이버 블로그/트위터에 홍보하기 [412]']"
      ]
     },
     "execution_count": 27,
     "metadata": {},
     "output_type": "execute_result"
    }
   ],
   "source": [
    "crawling_template('https://davelee-fun.github.io/blog/crawl_html_css', 'li.course.paid')"
   ]
  },
  {
   "cell_type": "code",
   "execution_count": 26,
   "id": "58ab3f84",
   "metadata": {},
   "outputs": [
    {
     "data": {
      "text/plain": [
       "['(왕초보) - 클래스 소개',\n",
       " '(왕초보) - 블로그 개발 필요한 준비물 준비하기',\n",
       " '(왕초보) - Github pages 설정해서 블로그 첫 페이지 만들어보기',\n",
       " '(왕초보) - 초간단 페이지 만들어보기',\n",
       " '(왕초보) - 이쁘게 테마 적용해보기',\n",
       " '(왕초보) - 마크다운 기초 이해하고, 실제 나만의 블로그 페이지 만들기',\n",
       " '(왕초보) - 다양한 마크다운 기법 익혀보며, 나만의 블로그 페이지 꾸며보기']"
      ]
     },
     "execution_count": 26,
     "metadata": {},
     "output_type": "execute_result"
    }
   ],
   "source": [
    "crawling_template('https://davelee-fun.github.io/blog/crawl_html_css', '#start')"
   ]
  },
  {
   "cell_type": "code",
   "execution_count": 25,
   "id": "833e6f86",
   "metadata": {},
   "outputs": [
    {
     "data": {
      "text/plain": [
       "['(왕초보) - 클래스 소개',\n",
       " '(왕초보) - 블로그 개발 필요한 준비물 준비하기',\n",
       " '(왕초보) - Github pages 설정해서 블로그 첫 페이지 만들어보기',\n",
       " '(왕초보) - 초간단 페이지 만들어보기',\n",
       " '(왕초보) - 이쁘게 테마 적용해보기',\n",
       " '(왕초보) - 마크다운 기초 이해하고, 실제 나만의 블로그 페이지 만들기',\n",
       " '(왕초보) - 다양한 마크다운 기법 익혀보며, 나만의 블로그 페이지 꾸며보기']"
      ]
     },
     "execution_count": 25,
     "metadata": {},
     "output_type": "execute_result"
    }
   ],
   "source": [
    "crawling_template('https://davelee-fun.github.io/blog/crawl_html_css', 'ul#hobby_course_list li#start')"
   ]
  },
  {
   "cell_type": "code",
   "execution_count": 24,
   "id": "c27245a0",
   "metadata": {},
   "outputs": [
    {
     "data": {
      "text/plain": [
       "['에코프로비엠',\n",
       " '삼성전자',\n",
       " '에코프로',\n",
       " 'SK하이닉스',\n",
       " '상신전자',\n",
       " 'DB하이텍',\n",
       " '셀트리온',\n",
       " '이수페타시스',\n",
       " 'POSCO홀딩스',\n",
       " 'F&F']"
      ]
     },
     "execution_count": 24,
     "metadata": {},
     "output_type": "execute_result"
    }
   ],
   "source": [
    "crawling_template('https://finance.naver.com/sise/', '#popularItemList > li > a')"
   ]
  },
  {
   "cell_type": "code",
   "execution_count": 33,
   "id": "c982bb68",
   "metadata": {},
   "outputs": [
    {
     "name": "stdout",
     "output_type": "stream",
     "text": [
      " 한강변서 공공분양 … 알짜 '뉴홈' 쏟아진다 index.htm?page_name=esale_news_view&menu_key=34&okey=wdate&uid=361594&start=0&mode=&s_que=&field=\n",
      " “아파트값 더 비싸지겠네”…치솟는 공사비, 분양가도 연평균 .. index.htm?page_name=esale_news_view&menu_key=34&okey=wdate&uid=361580&start=0&mode=&s_que=&field=\n",
      " 3년전 분양가로 차익 기대…과천 '줍줍' 6가구에 1만4천명 몰려 index.htm?page_name=esale_news_view&menu_key=34&okey=wdate&uid=361576&start=0&mode=&s_que=&field=\n",
      " “미분양에 장사 없어”…10대 건설사 분양물량 70% 기약없이 .. index.htm?page_name=esale_news_view&menu_key=34&okey=wdate&uid=361573&start=0&mode=&s_que=&field=\n",
      " 3년전 분양가 그대로 과천 잇단 '줍줍' 공급 index.htm?page_name=esale_news_view&menu_key=34&okey=wdate&uid=361568&start=0&mode=&s_que=&field=\n",
      " 지방인데 1순위 마감…분양가 저렴한것보다 더 큰 이유는 index.htm?page_name=esale_news_view&menu_key=34&okey=wdate&uid=361567&start=0&mode=&s_que=&field=\n",
      " 서울 청약 가점 1년來 최저 '뚝' index.htm?page_name=esale_news_view&menu_key=34&okey=wdate&uid=361559&start=0&mode=&s_que=&field=\n",
      " 청약 돌풍 아파트에 이런 일이…‘최대 198대 1’ 비결 있었다 index.htm?page_name=esale_news_view&menu_key=34&okey=wdate&uid=361556&start=0&mode=&s_que=&field=\n",
      " 4월 전국 청약경쟁률 5.6대 1…서울 소형단지는 성적 저조 index.htm?page_name=esale_news_view&menu_key=34&okey=wdate&uid=361555&start=0&mode=&s_que=&field=\n",
      " 급증한 공공분양 미분양 '무주택 조건' 풀어도 미달 index.htm?page_name=esale_news_view&menu_key=34&okey=wdate&uid=361550&start=0&mode=&s_que=&field=\n",
      " 규제 풀리자 분양가 '껑충'…소형아파트 3.3㎡당 2천만원 돌파 index.htm?page_name=esale_news_view&menu_key=34&okey=wdate&uid=361544&start=0&mode=&s_que=&field=\n",
      " 역대 사전청약 최고 인기 '대방 신희타' 본청약 연기 index.htm?page_name=esale_news_view&menu_key=34&okey=wdate&uid=361530&start=0&mode=&s_que=&field=\n",
      " 청약시장서 재개발·재건축 인기…일반아파트 경쟁률 상회 index.htm?page_name=esale_news_view&menu_key=34&okey=wdate&uid=361529&start=0&mode=&s_que=&field=\n",
      " 청약 온기에도…'고분양가' 단지는 썰렁 index.htm?page_name=esale_news_view&menu_key=34&okey=wdate&uid=361520&start=0&mode=&s_que=&field=\n",
      " '실거주 의무 폐지' 법안 또 보류 index.htm?page_name=esale_news_view&menu_key=34&okey=wdate&uid=361519&start=0&mode=&s_que=&field=\n"
     ]
    }
   ],
   "source": [
    "import requests\n",
    "from bs4 import BeautifulSoup\n",
    "\n",
    "res = requests.get('http://www.drapt.com/e_sale/index.htm?page_name=esale_news&menu_key=34')\n",
    "soup = BeautifulSoup(res.content, 'html.parser')\n",
    "\n",
    "datas1 = soup.select('a.c0000000')\n",
    "\n",
    "for i in datas1:\n",
    "    print(i.get_text(), i['href'])"
   ]
  },
  {
   "cell_type": "code",
   "execution_count": 34,
   "id": "683e1603",
   "metadata": {},
   "outputs": [
    {
     "name": "stdout",
     "output_type": "stream",
     "text": [
      " 한강변서 공공분양 … 알짜 '뉴홈' 쏟아진다 http://www.drapt.com/e_sale/index.htm?page_name=esale_news_view&menu_key=34&okey=wdate&uid=361594&start=0&mode=&s_que=&field=\n",
      " “아파트값 더 비싸지겠네”…치솟는 공사비, 분양가도 연평균 .. http://www.drapt.com/e_sale/index.htm?page_name=esale_news_view&menu_key=34&okey=wdate&uid=361580&start=0&mode=&s_que=&field=\n",
      " 3년전 분양가로 차익 기대…과천 '줍줍' 6가구에 1만4천명 몰려 http://www.drapt.com/e_sale/index.htm?page_name=esale_news_view&menu_key=34&okey=wdate&uid=361576&start=0&mode=&s_que=&field=\n",
      " “미분양에 장사 없어”…10대 건설사 분양물량 70% 기약없이 .. http://www.drapt.com/e_sale/index.htm?page_name=esale_news_view&menu_key=34&okey=wdate&uid=361573&start=0&mode=&s_que=&field=\n",
      " 3년전 분양가 그대로 과천 잇단 '줍줍' 공급 http://www.drapt.com/e_sale/index.htm?page_name=esale_news_view&menu_key=34&okey=wdate&uid=361568&start=0&mode=&s_que=&field=\n",
      " 지방인데 1순위 마감…분양가 저렴한것보다 더 큰 이유는 http://www.drapt.com/e_sale/index.htm?page_name=esale_news_view&menu_key=34&okey=wdate&uid=361567&start=0&mode=&s_que=&field=\n",
      " 서울 청약 가점 1년來 최저 '뚝' http://www.drapt.com/e_sale/index.htm?page_name=esale_news_view&menu_key=34&okey=wdate&uid=361559&start=0&mode=&s_que=&field=\n",
      " 청약 돌풍 아파트에 이런 일이…‘최대 198대 1’ 비결 있었다 http://www.drapt.com/e_sale/index.htm?page_name=esale_news_view&menu_key=34&okey=wdate&uid=361556&start=0&mode=&s_que=&field=\n",
      " 4월 전국 청약경쟁률 5.6대 1…서울 소형단지는 성적 저조 http://www.drapt.com/e_sale/index.htm?page_name=esale_news_view&menu_key=34&okey=wdate&uid=361555&start=0&mode=&s_que=&field=\n",
      " 급증한 공공분양 미분양 '무주택 조건' 풀어도 미달 http://www.drapt.com/e_sale/index.htm?page_name=esale_news_view&menu_key=34&okey=wdate&uid=361550&start=0&mode=&s_que=&field=\n",
      " 규제 풀리자 분양가 '껑충'…소형아파트 3.3㎡당 2천만원 돌파 http://www.drapt.com/e_sale/index.htm?page_name=esale_news_view&menu_key=34&okey=wdate&uid=361544&start=0&mode=&s_que=&field=\n",
      " 역대 사전청약 최고 인기 '대방 신희타' 본청약 연기 http://www.drapt.com/e_sale/index.htm?page_name=esale_news_view&menu_key=34&okey=wdate&uid=361530&start=0&mode=&s_que=&field=\n",
      " 청약시장서 재개발·재건축 인기…일반아파트 경쟁률 상회 http://www.drapt.com/e_sale/index.htm?page_name=esale_news_view&menu_key=34&okey=wdate&uid=361529&start=0&mode=&s_que=&field=\n",
      " 청약 온기에도…'고분양가' 단지는 썰렁 http://www.drapt.com/e_sale/index.htm?page_name=esale_news_view&menu_key=34&okey=wdate&uid=361520&start=0&mode=&s_que=&field=\n",
      " '실거주 의무 폐지' 법안 또 보류 http://www.drapt.com/e_sale/index.htm?page_name=esale_news_view&menu_key=34&okey=wdate&uid=361519&start=0&mode=&s_que=&field=\n"
     ]
    }
   ],
   "source": [
    "import requests\n",
    "from bs4 import BeautifulSoup\n",
    "\n",
    "res = requests.get('http://www.drapt.com/e_sale/index.htm?page_name=esale_news&menu_key=34')\n",
    "soup = BeautifulSoup(res.content, 'html.parser')\n",
    "\n",
    "datas1 = soup.select('a.c0000000')\n",
    "\n",
    "for i in datas1:\n",
    "    print(i.get_text(), 'http://www.drapt.com/e_sale/' + i['href'])"
   ]
  },
  {
   "cell_type": "code",
   "execution_count": 40,
   "id": "e98d35f7",
   "metadata": {},
   "outputs": [],
   "source": [
    "def crawling_template_with_href(url, css_selector, pre_url):\n",
    "    return_data = list()\n",
    "    res = requests.get(url)\n",
    "    soup = BeautifulSoup(res.content, 'html.parser')\n",
    "    datas1 = soup.select(css_selector)\n",
    "    \n",
    "    for i in datas1:\n",
    "        return_data.append([i.get_text(), pre_url + i['href']])\n",
    "        \n",
    "    return return_data"
   ]
  },
  {
   "cell_type": "code",
   "execution_count": 41,
   "id": "4be0e7b0",
   "metadata": {},
   "outputs": [
    {
     "data": {
      "text/plain": [
       "[[\" 한강변서 공공분양 … 알짜 '뉴홈' 쏟아진다\",\n",
       "  'http://www.drapt.com/e_sale/index.htm?page_name=esale_news_view&menu_key=34&okey=wdate&uid=361594&start=0&mode=&s_que=&field='],\n",
       " [' “아파트값 더 비싸지겠네”…치솟는 공사비, 분양가도 연평균 ..',\n",
       "  'http://www.drapt.com/e_sale/index.htm?page_name=esale_news_view&menu_key=34&okey=wdate&uid=361580&start=0&mode=&s_que=&field='],\n",
       " [\" 3년전 분양가로 차익 기대…과천 '줍줍' 6가구에 1만4천명 몰려\",\n",
       "  'http://www.drapt.com/e_sale/index.htm?page_name=esale_news_view&menu_key=34&okey=wdate&uid=361576&start=0&mode=&s_que=&field='],\n",
       " [' “미분양에 장사 없어”…10대 건설사 분양물량 70% 기약없이 ..',\n",
       "  'http://www.drapt.com/e_sale/index.htm?page_name=esale_news_view&menu_key=34&okey=wdate&uid=361573&start=0&mode=&s_que=&field='],\n",
       " [\" 3년전 분양가 그대로 과천 잇단 '줍줍' 공급\",\n",
       "  'http://www.drapt.com/e_sale/index.htm?page_name=esale_news_view&menu_key=34&okey=wdate&uid=361568&start=0&mode=&s_que=&field='],\n",
       " [' 지방인데 1순위 마감…분양가 저렴한것보다 더 큰 이유는',\n",
       "  'http://www.drapt.com/e_sale/index.htm?page_name=esale_news_view&menu_key=34&okey=wdate&uid=361567&start=0&mode=&s_que=&field='],\n",
       " [\" 서울 청약 가점 1년來 최저 '뚝'\",\n",
       "  'http://www.drapt.com/e_sale/index.htm?page_name=esale_news_view&menu_key=34&okey=wdate&uid=361559&start=0&mode=&s_que=&field='],\n",
       " [' 청약 돌풍 아파트에 이런 일이…‘최대 198대 1’ 비결 있었다',\n",
       "  'http://www.drapt.com/e_sale/index.htm?page_name=esale_news_view&menu_key=34&okey=wdate&uid=361556&start=0&mode=&s_que=&field='],\n",
       " [' 4월 전국 청약경쟁률 5.6대 1…서울 소형단지는 성적 저조',\n",
       "  'http://www.drapt.com/e_sale/index.htm?page_name=esale_news_view&menu_key=34&okey=wdate&uid=361555&start=0&mode=&s_que=&field='],\n",
       " [\" 급증한 공공분양 미분양 '무주택 조건' 풀어도 미달\",\n",
       "  'http://www.drapt.com/e_sale/index.htm?page_name=esale_news_view&menu_key=34&okey=wdate&uid=361550&start=0&mode=&s_que=&field='],\n",
       " [\" 규제 풀리자 분양가 '껑충'…소형아파트 3.3㎡당 2천만원 돌파\",\n",
       "  'http://www.drapt.com/e_sale/index.htm?page_name=esale_news_view&menu_key=34&okey=wdate&uid=361544&start=0&mode=&s_que=&field='],\n",
       " [\" 역대 사전청약 최고 인기 '대방 신희타' 본청약 연기\",\n",
       "  'http://www.drapt.com/e_sale/index.htm?page_name=esale_news_view&menu_key=34&okey=wdate&uid=361530&start=0&mode=&s_que=&field='],\n",
       " [' 청약시장서 재개발·재건축 인기…일반아파트 경쟁률 상회',\n",
       "  'http://www.drapt.com/e_sale/index.htm?page_name=esale_news_view&menu_key=34&okey=wdate&uid=361529&start=0&mode=&s_que=&field='],\n",
       " [\" 청약 온기에도…'고분양가' 단지는 썰렁\",\n",
       "  'http://www.drapt.com/e_sale/index.htm?page_name=esale_news_view&menu_key=34&okey=wdate&uid=361520&start=0&mode=&s_que=&field='],\n",
       " [\" '실거주 의무 폐지' 법안 또 보류\",\n",
       "  'http://www.drapt.com/e_sale/index.htm?page_name=esale_news_view&menu_key=34&okey=wdate&uid=361519&start=0&mode=&s_que=&field=']]"
      ]
     },
     "execution_count": 41,
     "metadata": {},
     "output_type": "execute_result"
    }
   ],
   "source": [
    "crawling_template_with_href('http://www.drapt.com/e_sale/index.htm?page_name=esale_news&menu_key=34', 'a.c0000000', 'http://www.drapt.com/e_sale/')"
   ]
  },
  {
   "cell_type": "code",
   "execution_count": 42,
   "id": "0af99e3c",
   "metadata": {},
   "outputs": [],
   "source": [
    "datas1 = [[1,2], [3,4]]"
   ]
  },
  {
   "cell_type": "code",
   "execution_count": 44,
   "id": "f2f21689",
   "metadata": {},
   "outputs": [
    {
     "data": {
      "text/plain": [
       "[1, 2]"
      ]
     },
     "execution_count": 44,
     "metadata": {},
     "output_type": "execute_result"
    }
   ],
   "source": [
    "datas1[0]"
   ]
  },
  {
   "cell_type": "code",
   "execution_count": 45,
   "id": "043ae271",
   "metadata": {},
   "outputs": [
    {
     "data": {
      "text/plain": [
       "1"
      ]
     },
     "execution_count": 45,
     "metadata": {},
     "output_type": "execute_result"
    }
   ],
   "source": [
    "datas1[0][0]"
   ]
  },
  {
   "cell_type": "code",
   "execution_count": 46,
   "id": "952957f2",
   "metadata": {},
   "outputs": [
    {
     "name": "stdout",
     "output_type": "stream",
     "text": [
      " 한강변서 공공분양 … 알짜 '뉴홈' 쏟아진다\n",
      "http://www.drapt.com/e_sale/index.htm?page_name=esale_news_view&menu_key=34&okey=wdate&uid=361594&start=0&mode=&s_que=&field=\n"
     ]
    }
   ],
   "source": [
    "datas1=crawling_template_with_href('http://www.drapt.com/e_sale/index.htm?page_name=esale_news&menu_key=34', 'a.c0000000', 'http://www.drapt.com/e_sale/')\n",
    "\n",
    "print(datas1[0][0])\n",
    "print(datas1[0][1])"
   ]
  },
  {
   "cell_type": "code",
   "execution_count": null,
   "id": "4de013b2",
   "metadata": {},
   "outputs": [],
   "source": []
  }
 ],
 "metadata": {
  "kernelspec": {
   "display_name": "Python 3",
   "language": "python",
   "name": "python3"
  },
  "language_info": {
   "codemirror_mode": {
    "name": "ipython",
    "version": 3
   },
   "file_extension": ".py",
   "mimetype": "text/x-python",
   "name": "python",
   "nbconvert_exporter": "python",
   "pygments_lexer": "ipython3",
   "version": "3.8.8"
  }
 },
 "nbformat": 4,
 "nbformat_minor": 5
}
