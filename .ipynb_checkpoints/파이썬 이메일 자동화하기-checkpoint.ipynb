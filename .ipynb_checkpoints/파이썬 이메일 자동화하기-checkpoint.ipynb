{
 "cells": [
  {
   "cell_type": "code",
   "execution_count": 2,
   "id": "918caf73",
   "metadata": {},
   "outputs": [
    {
     "name": "stdout",
     "output_type": "stream",
     "text": [
      "이메일 전송 정상 실행\n"
     ]
    }
   ],
   "source": [
    "import settings # settigns.py 파일 생성 필요\n",
    "\n",
    "import smtplib\n",
    "import ssl\n",
    "\n",
    "SMTP_SERVER = \"smtp.gmail.com\"\n",
    "SMTP_SSL_PORT = 465 \n",
    "SENDER_ID = settings.GMAILID\n",
    "SENDER_PW = settings.GMAILPW\n",
    "RECEIVER_EMAIL=\"funcodingtest@gmail.com\"\n",
    "\n",
    "context = ssl.create_default_context()\n",
    "with smtplib.SMTP_SSL(SMTP_SERVER, SMTP_SSL_PORT, context=context) as server:\n",
    "    try:\n",
    "        server.login(SENDER_ID, SENDER_PW)\n",
    "        server.sendmail(SENDER_ID, RECEIVER_EMAIL, \"Auto Email Test\") # 한글 지원은 별도 기능 필요\n",
    "        print(\"이메일 전송 정상 실행\")\n",
    "    except Exception as e:\n",
    "        print(\"이메일 전송 에러\", e)"
   ]
  },
  {
   "cell_type": "code",
   "execution_count": null,
   "id": "f6555570",
   "metadata": {},
   "outputs": [],
   "source": []
  }
 ],
 "metadata": {
  "kernelspec": {
   "display_name": "Python 3",
   "language": "python",
   "name": "python3"
  },
  "language_info": {
   "codemirror_mode": {
    "name": "ipython",
    "version": 3
   },
   "file_extension": ".py",
   "mimetype": "text/x-python",
   "name": "python",
   "nbconvert_exporter": "python",
   "pygments_lexer": "ipython3",
   "version": "3.8.8"
  }
 },
 "nbformat": 4,
 "nbformat_minor": 5
}
