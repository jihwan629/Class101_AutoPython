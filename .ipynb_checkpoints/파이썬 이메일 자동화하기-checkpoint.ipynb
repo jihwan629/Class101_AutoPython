{
 "cells": [
  {
   "cell_type": "code",
   "execution_count": null,
   "id": "13b36c5c",
   "metadata": {},
   "outputs": [],
   "source": [
    "# 파이썬으로 이메일(gmail) 자동화를 위한 설정하기"
   ]
  },
  {
   "cell_type": "code",
   "execution_count": 2,
   "id": "918caf73",
   "metadata": {},
   "outputs": [
    {
     "name": "stdout",
     "output_type": "stream",
     "text": [
      "이메일 전송 정상 실행\n"
     ]
    }
   ],
   "source": [
    "import settings # settigns.py 파일 생성 필요\n",
    "\n",
    "import smtplib\n",
    "import ssl\n",
    "\n",
    "SMTP_SERVER = \"smtp.gmail.com\"\n",
    "SMTP_SSL_PORT = 465 \n",
    "SENDER_ID = settings.GMAILID\n",
    "SENDER_PW = settings.GMAILPW\n",
    "RECEIVER_EMAIL=\"funcodingtest@gmail.com\"\n",
    "\n",
    "context = ssl.create_default_context()\n",
    "with smtplib.SMTP_SSL(SMTP_SERVER, SMTP_SSL_PORT, context=context) as server:\n",
    "    try:\n",
    "        server.login(SENDER_ID, SENDER_PW)\n",
    "        server.sendmail(SENDER_ID, RECEIVER_EMAIL, \"Auto Email Test\") # 한글 지원은 별도 기능 필요\n",
    "        print(\"이메일 전송 정상 실행\")\n",
    "    except Exception as e:\n",
    "        print(\"이메일 전송 에러\", e)"
   ]
  },
  {
   "cell_type": "code",
   "execution_count": 27,
   "id": "f6555570",
   "metadata": {},
   "outputs": [],
   "source": [
    "import smtplib  \n",
    "import ssl\n",
    "from email.header import Header\n",
    "from email.mime.base import MIMEBase # MIME 프로토콜 활용 기능\n",
    "from email.mime.text import MIMEText # MIME 프로토콜 활용 기능\n",
    "from email.mime.multipart import MIMEMultipart # MIME 프로토콜 활용 기능\n",
    "from email import utils\n",
    "from email import encoders\n",
    "from email.utils import COMMASPACE\n",
    "import os\n",
    "\n",
    "import settings # settigns.py 파일 생성 필요\n",
    "\n",
    "SMTP_SERVER = \"smtp.gmail.com\"\n",
    "SMTP_SSL_PORT = 465 \n",
    "SENDER_ID = settings.GMAILID\n",
    "SENDER_PW = settings.GMAILPW\n",
    "\n",
    "def email_template(from_user, to_users, cc_users, subject, attachment, text, text_format='plain', smtp_server='smtp.gmail.com', smtp_port=465):\n",
    "    msg = MIMEMultipart('multipart')\n",
    "    msg['FROM'] = from_user\n",
    "    msg['To'] = COMMASPACE.join(to_users)\n",
    "    msg['Cc'] = COMMASPACE.join(cc_users)\n",
    "    msg['Subject'] = Header(s=subject, charset='utf-8')\n",
    "    msg['Date'] = utils.formatdate(localtime=1)\n",
    "    \n",
    "    part = MIMEText(text, text_format)\n",
    "    msg.attach(part)\n",
    "    \n",
    "    if attachment:\n",
    "        part = MIMEBase('application', \"octet-strea\")\n",
    "        \n",
    "        part.set_payload(open(os.path.basename(attachment), \"rb\").read())\n",
    "        encoders.encode_base64(part)\n",
    "        \n",
    "        part['Content-Disposition'] = 'attachment; filename=\"%s\"' % os.path.basename(attachment)\n",
    "        msg.attach(part)\n",
    "        \n",
    "    context = ssl.create_default_context()\n",
    "    with smtplib.SMTP_SSL(SMTP_SERVER, SMTP_SSL_PORT, context=context) as server:\n",
    "        try:\n",
    "            server.login(SENDER_ID, SENDER_PW)\n",
    "            server.sendmail(msg['FROM'], [msg['To'], msg['Cc']], msg.as_string()) # 한글 지원은 별도 기능 필요\n",
    "            print(\"이메일 전송 정상 실행\")\n",
    "        except Exception as e:\n",
    "            print(\"이메일 전송 에러\", e)"
   ]
  },
  {
   "cell_type": "code",
   "execution_count": 5,
   "id": "0fcd2ca9",
   "metadata": {},
   "outputs": [],
   "source": [
    "from_user = settings.GMAILID\n",
    "to_users = [settings.GMAILID]\n",
    "cc_users = [settings.GMAILID]\n",
    "attachment = 'tmp.csv'\n",
    "subject = '테스트 제목'\n",
    "text = '안녕하세요. 파이썬 자동화 메일입니다.'"
   ]
  },
  {
   "cell_type": "code",
   "execution_count": 6,
   "id": "f83cf1cf",
   "metadata": {},
   "outputs": [
    {
     "name": "stdout",
     "output_type": "stream",
     "text": [
      "이메일 전송 정상 실행\n"
     ]
    }
   ],
   "source": [
    "email_template(from_user, to_users, cc_users, subject, attachment, text, 'html')"
   ]
  },
  {
   "cell_type": "code",
   "execution_count": 1,
   "id": "a6942164",
   "metadata": {},
   "outputs": [],
   "source": [
    "# 파이썬으로 이메일(gmail) 전송 코드 이해하기"
   ]
  },
  {
   "cell_type": "code",
   "execution_count": 2,
   "id": "b917f0cd",
   "metadata": {},
   "outputs": [],
   "source": [
    "def send_test(data1, smtp_server='smtp.gmail.com', smtp_port=587):\n",
    "    print(data1, smtp_server, smtp_port)"
   ]
  },
  {
   "cell_type": "code",
   "execution_count": 4,
   "id": "2049041f",
   "metadata": {},
   "outputs": [
    {
     "name": "stdout",
     "output_type": "stream",
     "text": [
      "1 smtp.gmail.com 587\n"
     ]
    }
   ],
   "source": [
    "send_test(1)"
   ]
  },
  {
   "cell_type": "code",
   "execution_count": 5,
   "id": "f88bf4ed",
   "metadata": {},
   "outputs": [
    {
     "name": "stdout",
     "output_type": "stream",
     "text": [
      "2 aaa 587\n"
     ]
    }
   ],
   "source": [
    "send_test(2, 'aaa')"
   ]
  },
  {
   "cell_type": "code",
   "execution_count": 6,
   "id": "fcae6063",
   "metadata": {},
   "outputs": [
    {
     "name": "stdout",
     "output_type": "stream",
     "text": [
      "2 aaa bbb\n"
     ]
    }
   ],
   "source": [
    "send_test(2, 'aaa', 'bbb')"
   ]
  },
  {
   "cell_type": "code",
   "execution_count": 7,
   "id": "e306fa33",
   "metadata": {},
   "outputs": [
    {
     "name": "stdout",
     "output_type": "stream",
     "text": [
      "2 smtp.gmail.com ccc\n"
     ]
    }
   ],
   "source": [
    "send_test(2, smtp_port='ccc')"
   ]
  },
  {
   "cell_type": "code",
   "execution_count": 9,
   "id": "1bda7a61",
   "metadata": {},
   "outputs": [
    {
     "data": {
      "text/plain": [
       "'1,2,3'"
      ]
     },
     "execution_count": 9,
     "metadata": {},
     "output_type": "execute_result"
    }
   ],
   "source": [
    "comma = ','\n",
    "datas1 = ['1','2','3']\n",
    "comma.join(datas1)"
   ]
  },
  {
   "cell_type": "code",
   "execution_count": 10,
   "id": "00a55604",
   "metadata": {},
   "outputs": [
    {
     "name": "stdout",
     "output_type": "stream",
     "text": [
      "{}\n"
     ]
    }
   ],
   "source": [
    "data_dict1 = dict()\n",
    "print(data_dict1)"
   ]
  },
  {
   "cell_type": "code",
   "execution_count": 13,
   "id": "8aac3297",
   "metadata": {},
   "outputs": [
    {
     "name": "stdout",
     "output_type": "stream",
     "text": [
      "{'name', 'foo bar'}\n",
      "{'korea': 95, 'math': 100, 'science': [80, 70, 90, 60]}\n",
      "{'korea': 95, 'math': 100, 'science': [80, 70, 90, 60], 'english': 'pass'}\n"
     ]
    }
   ],
   "source": [
    "data_dict1 = {'name', 'foo bar'}\n",
    "print(data_dict1)\n",
    "\n",
    "data_dict1 = {'korea': 95, 'math': 100, 'science': [80, 70,90,60]}\n",
    "print(data_dict1)\n",
    "\n",
    "data_dict1['english'] = \"pass\"\n",
    "print(data_dict1)"
   ]
  },
  {
   "cell_type": "code",
   "execution_count": 14,
   "id": "bae3f6a5",
   "metadata": {},
   "outputs": [
    {
     "name": "stdout",
     "output_type": "stream",
     "text": [
      "{'korea': 95, 'science': [80, 70, 90, 60], 'english': 'pass'}\n"
     ]
    }
   ],
   "source": [
    "del data_dict1['math']\n",
    "print(data_dict1)"
   ]
  },
  {
   "cell_type": "code",
   "execution_count": 16,
   "id": "7df0513d",
   "metadata": {},
   "outputs": [
    {
     "data": {
      "text/plain": [
       "dict_keys(['korea', 'science', 'english'])"
      ]
     },
     "execution_count": 16,
     "metadata": {},
     "output_type": "execute_result"
    }
   ],
   "source": [
    "data_dict1.keys()"
   ]
  },
  {
   "cell_type": "code",
   "execution_count": 17,
   "id": "b622e2e6",
   "metadata": {},
   "outputs": [
    {
     "data": {
      "text/plain": [
       "dict_values([95, [80, 70, 90, 60], 'pass'])"
      ]
     },
     "execution_count": 17,
     "metadata": {},
     "output_type": "execute_result"
    }
   ],
   "source": [
    "data_dict1.values()"
   ]
  },
  {
   "cell_type": "code",
   "execution_count": null,
   "id": "2cce0189",
   "metadata": {},
   "outputs": [],
   "source": [
    "# 이메일(gmail) 템플릿 활용 예제와 팁"
   ]
  },
  {
   "cell_type": "code",
   "execution_count": 18,
   "id": "fefadfca",
   "metadata": {},
   "outputs": [],
   "source": [
    "import requests\n",
    "from bs4 import BeautifulSoup\n",
    "\n",
    "def crawling_template_with_href(url, css_selector, pre_url):\n",
    "    return_data = list()\n",
    "    res = requests.get(url)\n",
    "    soup = BeautifulSoup(res.content, 'html.parser')\n",
    "    datas1 = soup.select(css_selector)\n",
    "    \n",
    "    for i in datas1:\n",
    "        return_data.append([i.get_text(), pre_url + i['href']])\n",
    "        \n",
    "    return return_data"
   ]
  },
  {
   "cell_type": "code",
   "execution_count": 19,
   "id": "d7b0d145",
   "metadata": {},
   "outputs": [],
   "source": [
    "import openpyxl\n",
    "\n",
    "def write_excel_template_customize_link(filename, listdata):\n",
    "    excel_file = openpyxl.Workbook()\n",
    "    excel_sheet = excel_file.active\n",
    "\n",
    "    excel_sheet.append([])\n",
    "    excel_sheet.append(['', '닥터 아파트 분양 기사 타이틀'])\n",
    "    excel_sheet.column_dimensions['B'].width = 80\n",
    "    \n",
    "    thin = openpyxl.styles.Side(border_style=\"thin\", color=\"01579B\")\n",
    "    \n",
    "    for index, item in enumerate(listdata):\n",
    "        excel_sheet.append(['', item[0]])\n",
    "        excel_sheet.cell(row=index+3, column=2).hyperlink = item[1]\n",
    "        excel_sheet.cell(row=index+3, column=2).border = openpyxl.styles.Border(top=thin, left=thin, right=thin, bottom=thin)\n",
    "    \n",
    "    excel_sheet['B2'].border = openpyxl.styles.Border(top=thin, left=thin, right=thin, bottom=thin)\n",
    "    excel_sheet['B2'].alignment = openpyxl.styles.Alignment(horizontal='center')\n",
    "    excel_sheet['B2'].font = openpyxl.styles.Font(size=14, b=True, color=\"01579B\")\n",
    "    excel_sheet['B2'].fill = openpyxl.styles.PatternFill(start_color=\"FFFDE7\", fill_type=\"solid\")\n",
    "\n",
    "    excel_file.save(filename)\n",
    "    excel_file.close()"
   ]
  },
  {
   "cell_type": "code",
   "execution_count": 22,
   "id": "fec367f7",
   "metadata": {},
   "outputs": [],
   "source": [
    "datas1 = crawling_template_with_href('http://www.drapt.com/e_sale/index.htm?page_name=esale_news&menu_key=34', 'a.c0000000', 'http://www.drapt.com/e_sale/')\n",
    "write_excel_template_customize_link('drapt_news.xlsx', datas1)"
   ]
  },
  {
   "cell_type": "code",
   "execution_count": 24,
   "id": "1a84df52",
   "metadata": {},
   "outputs": [],
   "source": [
    "import settings\n",
    "\n",
    "from_user = settings.GMAILID\n",
    "to_users = [settings.GMAILID]\n",
    "cc_users = [settings.GMAILID]\n",
    "attachment = 'drapt_news.xlsx'\n",
    "subject = '분양 뉴스'\n",
    "text = '안녕하세요. 분양 뉴스 리스트 송부드립니다.'"
   ]
  },
  {
   "cell_type": "code",
   "execution_count": 28,
   "id": "979d031f",
   "metadata": {},
   "outputs": [
    {
     "name": "stdout",
     "output_type": "stream",
     "text": [
      "이메일 전송 정상 실행\n"
     ]
    }
   ],
   "source": [
    "email_template(from_user, to_users, cc_users, subject, attachment, text)"
   ]
  },
  {
   "cell_type": "code",
   "execution_count": 30,
   "id": "e31740af",
   "metadata": {},
   "outputs": [
    {
     "name": "stdout",
     "output_type": "stream",
     "text": [
      " “되기만 하면 수억원 먹을 수 있다”…이 동네에 뜬 ‘로또 청.. http://www.drapt.com/e_sale/index.htm?page_name=esale_news_view&menu_key=34&okey=wdate&uid=361631&start=0&mode=&s_que=&field=\n",
      " 文정부 남발한 민간사전청약…분양은 '하세월' http://www.drapt.com/e_sale/index.htm?page_name=esale_news_view&menu_key=34&okey=wdate&uid=361622&start=0&mode=&s_que=&field=\n",
      " 내달 전국 3만6천여가구 분양…서울 정비사업 분양 줄잇는다 http://www.drapt.com/e_sale/index.htm?page_name=esale_news_view&menu_key=34&okey=wdate&uid=361620&start=0&mode=&s_que=&field=\n",
      " 한강변서 공공분양 … 알짜 '뉴홈' 쏟아진다 http://www.drapt.com/e_sale/index.htm?page_name=esale_news_view&menu_key=34&okey=wdate&uid=361594&start=0&mode=&s_que=&field=\n",
      " “아파트값 더 비싸지겠네”…치솟는 공사비, 분양가도 연평균 .. http://www.drapt.com/e_sale/index.htm?page_name=esale_news_view&menu_key=34&okey=wdate&uid=361580&start=0&mode=&s_que=&field=\n",
      " 3년전 분양가로 차익 기대…과천 '줍줍' 6가구에 1만4천명 몰려 http://www.drapt.com/e_sale/index.htm?page_name=esale_news_view&menu_key=34&okey=wdate&uid=361576&start=0&mode=&s_que=&field=\n",
      " “미분양에 장사 없어”…10대 건설사 분양물량 70% 기약없이 .. http://www.drapt.com/e_sale/index.htm?page_name=esale_news_view&menu_key=34&okey=wdate&uid=361573&start=0&mode=&s_que=&field=\n",
      " 3년전 분양가 그대로 과천 잇단 '줍줍' 공급 http://www.drapt.com/e_sale/index.htm?page_name=esale_news_view&menu_key=34&okey=wdate&uid=361568&start=0&mode=&s_que=&field=\n",
      " 지방인데 1순위 마감…분양가 저렴한것보다 더 큰 이유는 http://www.drapt.com/e_sale/index.htm?page_name=esale_news_view&menu_key=34&okey=wdate&uid=361567&start=0&mode=&s_que=&field=\n",
      " 서울 청약 가점 1년來 최저 '뚝' http://www.drapt.com/e_sale/index.htm?page_name=esale_news_view&menu_key=34&okey=wdate&uid=361559&start=0&mode=&s_que=&field=\n",
      " 청약 돌풍 아파트에 이런 일이…‘최대 198대 1’ 비결 있었다 http://www.drapt.com/e_sale/index.htm?page_name=esale_news_view&menu_key=34&okey=wdate&uid=361556&start=0&mode=&s_que=&field=\n",
      " 4월 전국 청약경쟁률 5.6대 1…서울 소형단지는 성적 저조 http://www.drapt.com/e_sale/index.htm?page_name=esale_news_view&menu_key=34&okey=wdate&uid=361555&start=0&mode=&s_que=&field=\n",
      " 급증한 공공분양 미분양 '무주택 조건' 풀어도 미달 http://www.drapt.com/e_sale/index.htm?page_name=esale_news_view&menu_key=34&okey=wdate&uid=361550&start=0&mode=&s_que=&field=\n",
      " 규제 풀리자 분양가 '껑충'…소형아파트 3.3㎡당 2천만원 돌파 http://www.drapt.com/e_sale/index.htm?page_name=esale_news_view&menu_key=34&okey=wdate&uid=361544&start=0&mode=&s_que=&field=\n",
      " 역대 사전청약 최고 인기 '대방 신희타' 본청약 연기 http://www.drapt.com/e_sale/index.htm?page_name=esale_news_view&menu_key=34&okey=wdate&uid=361530&start=0&mode=&s_que=&field=\n"
     ]
    }
   ],
   "source": [
    "for i in datas1:\n",
    "    print(i[0], i[1])"
   ]
  },
  {
   "cell_type": "code",
   "execution_count": 31,
   "id": "6c882ed8",
   "metadata": {},
   "outputs": [],
   "source": [
    "text_format = 'html'"
   ]
  },
  {
   "cell_type": "code",
   "execution_count": 32,
   "id": "470f4ca2",
   "metadata": {},
   "outputs": [],
   "source": [
    "text = \"\"\"\n",
    "안녕하세요. Dave Lee 입니다. <br>\n",
    "신규 분양 뉴스 리스트를 송부드립니다. <br>\n",
    "<br>\n",
    "감사합니다. <br>\n",
    "\"\"\""
   ]
  },
  {
   "cell_type": "code",
   "execution_count": 33,
   "id": "c76ab8b5",
   "metadata": {},
   "outputs": [
    {
     "data": {
      "text/plain": [
       "\"\\n안녕하세요. Dave Lee 입니다. <br>\\n신규 분양 뉴스 리스트를 송부드립니다. <br>\\n<br>\\n감사합니다. <br>\\n<ul><li><a href=http://www.drapt.com/e_sale/index.htm?page_name=esale_news_view&menu_key=34&okey=wdate&uid=361631&start=0&mode=&s_que=&field=> “되기만 하면 수억원 먹을 수 있다”…이 동네에 뜬 ‘로또 청..</a></li><li><a href=http://www.drapt.com/e_sale/index.htm?page_name=esale_news_view&menu_key=34&okey=wdate&uid=361622&start=0&mode=&s_que=&field=> 文정부 남발한 민간사전청약…분양은 '하세월'</a></li><li><a href=http://www.drapt.com/e_sale/index.htm?page_name=esale_news_view&menu_key=34&okey=wdate&uid=361620&start=0&mode=&s_que=&field=> 내달 전국 3만6천여가구 분양…서울 정비사업 분양 줄잇는다</a></li><li><a href=http://www.drapt.com/e_sale/index.htm?page_name=esale_news_view&menu_key=34&okey=wdate&uid=361594&start=0&mode=&s_que=&field=> 한강변서 공공분양 … 알짜 '뉴홈' 쏟아진다</a></li><li><a href=http://www.drapt.com/e_sale/index.htm?page_name=esale_news_view&menu_key=34&okey=wdate&uid=361580&start=0&mode=&s_que=&field=> “아파트값 더 비싸지겠네”…치솟는 공사비, 분양가도 연평균 ..</a></li><li><a href=http://www.drapt.com/e_sale/index.htm?page_name=esale_news_view&menu_key=34&okey=wdate&uid=361576&start=0&mode=&s_que=&field=> 3년전 분양가로 차익 기대…과천 '줍줍' 6가구에 1만4천명 몰려</a></li><li><a href=http://www.drapt.com/e_sale/index.htm?page_name=esale_news_view&menu_key=34&okey=wdate&uid=361573&start=0&mode=&s_que=&field=> “미분양에 장사 없어”…10대 건설사 분양물량 70% 기약없이 ..</a></li><li><a href=http://www.drapt.com/e_sale/index.htm?page_name=esale_news_view&menu_key=34&okey=wdate&uid=361568&start=0&mode=&s_que=&field=> 3년전 분양가 그대로 과천 잇단 '줍줍' 공급</a></li><li><a href=http://www.drapt.com/e_sale/index.htm?page_name=esale_news_view&menu_key=34&okey=wdate&uid=361567&start=0&mode=&s_que=&field=> 지방인데 1순위 마감…분양가 저렴한것보다 더 큰 이유는</a></li><li><a href=http://www.drapt.com/e_sale/index.htm?page_name=esale_news_view&menu_key=34&okey=wdate&uid=361559&start=0&mode=&s_que=&field=> 서울 청약 가점 1년來 최저 '뚝'</a></li><li><a href=http://www.drapt.com/e_sale/index.htm?page_name=esale_news_view&menu_key=34&okey=wdate&uid=361556&start=0&mode=&s_que=&field=> 청약 돌풍 아파트에 이런 일이…‘최대 198대 1’ 비결 있었다</a></li><li><a href=http://www.drapt.com/e_sale/index.htm?page_name=esale_news_view&menu_key=34&okey=wdate&uid=361555&start=0&mode=&s_que=&field=> 4월 전국 청약경쟁률 5.6대 1…서울 소형단지는 성적 저조</a></li><li><a href=http://www.drapt.com/e_sale/index.htm?page_name=esale_news_view&menu_key=34&okey=wdate&uid=361550&start=0&mode=&s_que=&field=> 급증한 공공분양 미분양 '무주택 조건' 풀어도 미달</a></li><li><a href=http://www.drapt.com/e_sale/index.htm?page_name=esale_news_view&menu_key=34&okey=wdate&uid=361544&start=0&mode=&s_que=&field=> 규제 풀리자 분양가 '껑충'…소형아파트 3.3㎡당 2천만원 돌파</a></li><li><a href=http://www.drapt.com/e_sale/index.htm?page_name=esale_news_view&menu_key=34&okey=wdate&uid=361530&start=0&mode=&s_que=&field=> 역대 사전청약 최고 인기 '대방 신희타' 본청약 연기</a></li></ul>\""
      ]
     },
     "execution_count": 33,
     "metadata": {},
     "output_type": "execute_result"
    }
   ],
   "source": [
    "text += '<ul>'\n",
    "\n",
    "for i in datas1:\n",
    "    text += '<li><a href=' + i[1] + '>' + i[0] + '</a></li>'\n",
    "text += '</ul>'\n",
    "\n",
    "text"
   ]
  },
  {
   "cell_type": "code",
   "execution_count": 34,
   "id": "bb2ceefe",
   "metadata": {},
   "outputs": [
    {
     "name": "stdout",
     "output_type": "stream",
     "text": [
      "이메일 전송 정상 실행\n"
     ]
    }
   ],
   "source": [
    "email_template(from_user, to_users, cc_users, subject, attachment, text, text_format)"
   ]
  },
  {
   "cell_type": "code",
   "execution_count": null,
   "id": "71e9602c",
   "metadata": {},
   "outputs": [],
   "source": []
  }
 ],
 "metadata": {
  "kernelspec": {
   "display_name": "Python 3",
   "language": "python",
   "name": "python3"
  },
  "language_info": {
   "codemirror_mode": {
    "name": "ipython",
    "version": 3
   },
   "file_extension": ".py",
   "mimetype": "text/x-python",
   "name": "python",
   "nbconvert_exporter": "python",
   "pygments_lexer": "ipython3",
   "version": "3.8.8"
  }
 },
 "nbformat": 4,
 "nbformat_minor": 5
}
