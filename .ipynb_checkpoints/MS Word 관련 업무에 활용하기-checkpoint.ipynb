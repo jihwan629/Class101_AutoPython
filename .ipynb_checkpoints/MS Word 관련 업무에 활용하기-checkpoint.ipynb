{
 "cells": [
  {
   "cell_type": "code",
   "execution_count": 2,
   "id": "a3d43667",
   "metadata": {},
   "outputs": [
    {
     "name": "stdout",
     "output_type": "stream",
     "text": [
      "Collecting python-docx\n",
      "  Downloading python-docx-0.8.11.tar.gz (5.6 MB)\n",
      "Requirement already satisfied: lxml>=2.3.2 in c:\\developer\\anaconda3\\lib\\site-packages (from python-docx) (4.6.3)\n",
      "Building wheels for collected packages: python-docx\n",
      "  Building wheel for python-docx (setup.py): started\n",
      "  Building wheel for python-docx (setup.py): finished with status 'done'\n",
      "  Created wheel for python-docx: filename=python_docx-0.8.11-py3-none-any.whl size=184600 sha256=bbcbc9a54a99c1ad588e02951489d01624de13ccd3c7fd13bd299b50fcaacaf7\n",
      "  Stored in directory: c:\\users\\jihwan\\appdata\\local\\pip\\cache\\wheels\\32\\b8\\b2\\c4c2b95765e615fe139b0b17b5ea7c0e1b6519b0a9ec8fb34d\n",
      "Successfully built python-docx\n",
      "Installing collected packages: python-docx\n",
      "Successfully installed python-docx-0.8.11\n"
     ]
    }
   ],
   "source": [
    "!pip install python-docx"
   ]
  },
  {
   "cell_type": "code",
   "execution_count": 3,
   "id": "2096de0f",
   "metadata": {},
   "outputs": [],
   "source": [
    "import docx\n",
    "\n",
    "doc = docx.Document()\n",
    "doc.save('example.docx')"
   ]
  },
  {
   "cell_type": "code",
   "execution_count": 4,
   "id": "b55f192e",
   "metadata": {},
   "outputs": [],
   "source": [
    "import docx\n",
    "\n",
    "doc = docx.Document()\n",
    "para = doc.add_paragraph()\n",
    "run = para.add_run('This is a test MS Word document')\n",
    "\n",
    "para = doc.add_paragraph()\n",
    "run = para.add_run('This is a test MS Word document')\n",
    "para = doc.add_paragraph()\n",
    "run = para.add_run('This is a test MS Word document')\n",
    "\n",
    "doc.save('example.docx')"
   ]
  },
  {
   "cell_type": "code",
   "execution_count": 5,
   "id": "02ff62f9",
   "metadata": {},
   "outputs": [],
   "source": [
    "import docx\n",
    "\n",
    "doc = docx.Document()\n",
    "para = doc.add_paragraph()\n",
    "run = para.add_run('This is a test MS Word document\\n')\n",
    "run.font.name = 'Arial'\n",
    "run.bold = True\n",
    "run.font.size = docx.shared.Pt(20)\n",
    "\n",
    "run = para.add_run('Isn\\'t it amazing?')\n",
    "run.font.name = 'Arial'\n",
    "run.bold = False\n",
    "run.font.size = docx.shared.Pt(16)\n",
    "\n",
    "doc.save('example.docx')"
   ]
  },
  {
   "cell_type": "code",
   "execution_count": 7,
   "id": "75d086e7",
   "metadata": {},
   "outputs": [],
   "source": [
    "import docx\n",
    "from docx.oxml.ns import qn\n",
    "\n",
    "doc = docx.Document()\n",
    "para = doc.add_paragraph()\n",
    "run = para.add_run('테스트\\n')\n",
    "run.font.name = '휴면명조'\n",
    "run._element.rPr.rFonts.set(qn('w:eastAsia'),'휴면명조')\n",
    "run.bold = True\n",
    "run.font.size = docx.shared.Pt(20)\n",
    "\n",
    "doc.save('example.docx')"
   ]
  },
  {
   "cell_type": "code",
   "execution_count": 8,
   "id": "be0572c9",
   "metadata": {},
   "outputs": [
    {
     "name": "stdout",
     "output_type": "stream",
     "text": [
      "문단 -  ㈜회사명\n",
      "문단 -  서울시 강남구 역삼동 123-123 / 전화:(02)1234-1234 / FAX:(070)1234-1234 / 담당:홍길동\n",
      "문단 -  \n",
      "문단 -  문서번호 : 20010101-01\n",
      "문단 -  발송일자 : \n",
      "문단 -  수    신 : \n",
      "문단 -  참    조 : \n",
      "문단 -  제    목 : \n",
      "문단 -  \n",
      "문단 -  \n",
      "문단 -  귀사의 일익번창을 기원합니다.\n",
      "문단 -  \n",
      "문단 -  귀사에 아래와 같은 사유로 요청을 드리니, 검토하시고 협조하여 주시기 부탁 드립니다.\n",
      "문단 -  \n",
      "문단 -  항상 감사 드립니다.\n",
      "문단 -  \n",
      "문단 -  - 아 래 -\n",
      "문단 -  \n",
      "문단 -  \n",
      "문단 -  \n",
      "문단 -  \n",
      "문단 -  \n",
      "문단 -  \n",
      "문단 -  \n",
      "문단 -  \n",
      "문단 -  \n",
      "문단 -  \n",
      "문단 -  \n",
      "문단 -  주식회사 회사명\n",
      "문단 -  대표이사 홍 길 동\n"
     ]
    }
   ],
   "source": [
    "import docx\n",
    "\n",
    "doc = docx.Document('회사대외공문.docx')\n",
    "\n",
    "for paragraph in doc.paragraphs:\n",
    "    print('문단 - ', paragraph.text)"
   ]
  },
  {
   "cell_type": "code",
   "execution_count": 12,
   "id": "ee8ad60a",
   "metadata": {},
   "outputs": [],
   "source": [
    "import docx\n",
    "import datetime\n",
    "\n",
    "today_date = datetime.date.today()\n",
    "today_date = today_date.strftime('%Y-%m-%d')\n",
    "\n",
    "doc = docx.Document('회사대외공문.docx')\n",
    "tables = doc.tables\n",
    "for table in tables:\n",
    "    for row in table.rows:\n",
    "        for cell in row.cells:\n",
    "            if cell.text == 'date':\n",
    "                cell.text = today_date\n",
    "            if cell.text == 'receiver':\n",
    "                cell.text = 'Dave Lee'\n",
    "            if cell.text == 'cc_receiver':\n",
    "                cell.text = 'Dave Lee'\n",
    "            if cell.text == 'subject':\n",
    "                cell.text = '검토 요청'\n",
    "                \n",
    "doc.save('회사대외공문1.docx')"
   ]
  },
  {
   "cell_type": "code",
   "execution_count": 13,
   "id": "6bfdd165",
   "metadata": {},
   "outputs": [],
   "source": [
    "import docx\n",
    "import datetime\n",
    "\n",
    "def update_doc(filename, company_name):\n",
    "    today_date = datetime.date.today()\n",
    "    today_date = today_date.strftime('%Y-%m-%d')\n",
    "    \n",
    "    doc = docx.Document(filename)\n",
    "    for paragraph in doc.paragraphs:\n",
    "        if paragraph.text == '발송일자 : ':\n",
    "            paragraph.text = paragraph.text + today_date\n",
    "        if paragraph.text == '수    신 : ':\n",
    "            paragraph.text = paragraph.text + company_name\n",
    "        if paragraph.text == '참    조 : ':\n",
    "            paragraph.text = paragraph.text + 'Dave Lee'\n",
    "        if paragraph.text == '제    목 : ':\n",
    "            paragraph.text = paragraph.text + '검토 요청'\n",
    "            \n",
    "    doc.save(filename.split('.')[0] + '-' + company_name + '.docx')"
   ]
  },
  {
   "cell_type": "code",
   "execution_count": 14,
   "id": "303a012a",
   "metadata": {},
   "outputs": [],
   "source": [
    "import openpyxl\n",
    "\n",
    "def read_excel_template(filename, sheetname):\n",
    "    excel_file = openpyxl.load_workbook(filename)\n",
    "    \n",
    "    if sheetname == '':\n",
    "        excel_sheet = excel_file.active\n",
    "    else:\n",
    "        excel_sheet = excel_file[sheetname]\n",
    "        \n",
    "    return_data = list()\n",
    "    \n",
    "    for i in excel_sheet.rows:\n",
    "        datas1 = list()\n",
    "        for j in i:\n",
    "            datas1.append(j.value)\n",
    "        return_data.append(datas1)\n",
    "        \n",
    "    excel_file.close()\n",
    "    return return_data"
   ]
  },
  {
   "cell_type": "code",
   "execution_count": 15,
   "id": "bcc813d1",
   "metadata": {},
   "outputs": [],
   "source": [
    "datas1 = read_excel_template('shop_in_seoul.xlsx', '')"
   ]
  },
  {
   "cell_type": "code",
   "execution_count": 16,
   "id": "90f32970",
   "metadata": {},
   "outputs": [],
   "source": [
    "for item in datas1[1:5]:\n",
    "    update_doc('회사대외공문.docx', item[0])"
   ]
  },
  {
   "cell_type": "code",
   "execution_count": null,
   "id": "a522366a",
   "metadata": {},
   "outputs": [],
   "source": []
  }
 ],
 "metadata": {
  "kernelspec": {
   "display_name": "Python 3",
   "language": "python",
   "name": "python3"
  },
  "language_info": {
   "codemirror_mode": {
    "name": "ipython",
    "version": 3
   },
   "file_extension": ".py",
   "mimetype": "text/x-python",
   "name": "python",
   "nbconvert_exporter": "python",
   "pygments_lexer": "ipython3",
   "version": "3.8.8"
  }
 },
 "nbformat": 4,
 "nbformat_minor": 5
}
