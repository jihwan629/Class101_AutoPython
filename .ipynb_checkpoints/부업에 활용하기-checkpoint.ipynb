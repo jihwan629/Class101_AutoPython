{
 "cells": [
  {
   "cell_type": "code",
   "execution_count": 1,
   "id": "7aec56f1",
   "metadata": {},
   "outputs": [],
   "source": [
    "# 연관키워드 분석"
   ]
  },
  {
   "cell_type": "code",
   "execution_count": 2,
   "id": "433b5465",
   "metadata": {},
   "outputs": [],
   "source": [
    "import requests\n",
    "from bs4 import BeautifulSoup\n",
    "\n",
    "def get_related_keyword_google(keyword):\n",
    "    return_data = list()\n",
    "    google_related_keyword_api = 'http://suggestqueries.google.com/complete/search?output=toolbar&q=' + keyword\n",
    "    res = requests.get(google_related_keyword_api)\n",
    "    \n",
    "    soup = BeautifulSoup(res.content, 'xml')\n",
    "    datas1 = soup.select('suggestion')\n",
    "    \n",
    "    for item in datas1:\n",
    "        return_data.append(item['data'])\n",
    "        \n",
    "    return return_data"
   ]
  },
  {
   "cell_type": "code",
   "execution_count": 3,
   "id": "01c9e0ff",
   "metadata": {},
   "outputs": [
    {
     "data": {
      "text/plain": [
       "['캠핑카',\n",
       " '캠핑',\n",
       " '캠핑장',\n",
       " '캠핑의자',\n",
       " '캠핑용품',\n",
       " '캠핑카 가격',\n",
       " '캠핑카 렌트',\n",
       " '캠핑장 예약',\n",
       " '캠핑장 추천',\n",
       " '캠핑카 중고']"
      ]
     },
     "execution_count": 3,
     "metadata": {},
     "output_type": "execute_result"
    }
   ],
   "source": [
    "get_related_keyword_google('캠핑')"
   ]
  },
  {
   "cell_type": "code",
   "execution_count": 4,
   "id": "75bade21",
   "metadata": {},
   "outputs": [],
   "source": [
    "# 쇼핑 카테고리별 인기 검색어 가져오기"
   ]
  },
  {
   "cell_type": "code",
   "execution_count": 10,
   "id": "403c64ed",
   "metadata": {},
   "outputs": [],
   "source": [
    "from selenium import webdriver\n",
    "from selenium.webdriver.common.by import By\n",
    "from selenium.webdriver.support.ui import WebDriverWait\n",
    "from selenium.webdriver.support import expected_conditions as EC\n",
    "from selenium.webdriver.chrome.service import Service\n",
    "from webdriver_manager.chrome import ChromeDriverManager\n",
    "import time \n",
    "\n",
    "def get_category_popular_keyword_naver(category_num):\n",
    "    driver_location = '.\\chromedriver'\n",
    "    \n",
    "    return_data = list()\n",
    "    driver = webdriver.Chrome(executable_path=driver_location)\n",
    "    \n",
    "    driver.get('https://datalab.naver.com/')\n",
    "    \n",
    "    select_list = WebDriverWait(driver, 3).until(EC.presence_of_element_located((By.CSS_SELECTOR, \".select_btn\")))\n",
    "    select_list.click()\n",
    "    time.sleep(1)\n",
    "    \n",
    "    select_list = WebDriverWait(driver, 3).until(EC.presence_of_element_located((By.CSS_SELECTOR, \"div.select.depth._dropdown > ul > li:nth-child(\" + str(category_num) + \") > a\")))\n",
    "    select_list.click()\n",
    "    time.sleep(2)\n",
    "    \n",
    "    datas1 = driver.find_elements(By.CSS_SELECTOR, \"div.keyword_rank div.rank_scroll li.list span.title\")\n",
    "    for item in datas1:\n",
    "        return_data.append(item.text)\n",
    "    \n",
    "    driver.quit()\n",
    "        \n",
    "    return return_data[-10:]"
   ]
  },
  {
   "cell_type": "code",
   "execution_count": 11,
   "id": "33b7b0db",
   "metadata": {},
   "outputs": [],
   "source": [
    "datas1 = get_category_popular_keyword_naver(5)"
   ]
  },
  {
   "cell_type": "code",
   "execution_count": 12,
   "id": "54243731",
   "metadata": {},
   "outputs": [
    {
     "data": {
      "text/plain": [
       "['여름이불', '행거', '쇼파', '침대프레임', '화장대', '침대', '식탁의자', '암막커튼', '식탁', '매트리스']"
      ]
     },
     "execution_count": 12,
     "metadata": {},
     "output_type": "execute_result"
    }
   ],
   "source": [
    "datas1"
   ]
  },
  {
   "cell_type": "code",
   "execution_count": null,
   "id": "49dccaeb",
   "metadata": {},
   "outputs": [],
   "source": []
  }
 ],
 "metadata": {
  "kernelspec": {
   "display_name": "Python 3",
   "language": "python",
   "name": "python3"
  },
  "language_info": {
   "codemirror_mode": {
    "name": "ipython",
    "version": 3
   },
   "file_extension": ".py",
   "mimetype": "text/x-python",
   "name": "python",
   "nbconvert_exporter": "python",
   "pygments_lexer": "ipython3",
   "version": "3.8.8"
  }
 },
 "nbformat": 4,
 "nbformat_minor": 5
}
