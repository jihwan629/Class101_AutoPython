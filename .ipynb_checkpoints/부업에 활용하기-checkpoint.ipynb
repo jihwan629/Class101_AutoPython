{
 "cells": [
  {
   "cell_type": "code",
   "execution_count": 1,
   "id": "583cee55",
   "metadata": {},
   "outputs": [],
   "source": [
    "# 연관키워드 분석"
   ]
  },
  {
   "cell_type": "code",
   "execution_count": 2,
   "id": "4151ad2b",
   "metadata": {},
   "outputs": [],
   "source": [
    "import requests\n",
    "from bs4 import BeautifulSoup\n",
    "\n",
    "def get_related_keyword_google(keyword):\n",
    "    return_data = list()\n",
    "    google_related_keyword_api = 'http://suggestqueries.google.com/complete/search?output=toolbar&q=' + keyword\n",
    "    res = requests.get(google_related_keyword_api)\n",
    "    \n",
    "    soup = BeautifulSoup(res.content, 'xml')\n",
    "    datas1 = soup.select('suggestion')\n",
    "    \n",
    "    for item in datas1:\n",
    "        return_data.append(item['data'])\n",
    "        \n",
    "    return return_data"
   ]
  },
  {
   "cell_type": "code",
   "execution_count": 3,
   "id": "7551f0cc",
   "metadata": {},
   "outputs": [
    {
     "data": {
      "text/plain": [
       "['캠핑카',\n",
       " '캠핑',\n",
       " '캠핑장',\n",
       " '캠핑의자',\n",
       " '캠핑용품',\n",
       " '캠핑카 가격',\n",
       " '캠핑카 렌트',\n",
       " '캠핑장 예약',\n",
       " '캠핑장 추천',\n",
       " '캠핑카 중고']"
      ]
     },
     "execution_count": 3,
     "metadata": {},
     "output_type": "execute_result"
    }
   ],
   "source": [
    "get_related_keyword_google('캠핑')"
   ]
  },
  {
   "cell_type": "code",
   "execution_count": null,
   "id": "8a4f4141",
   "metadata": {},
   "outputs": [],
   "source": []
  }
 ],
 "metadata": {
  "kernelspec": {
   "display_name": "Python 3",
   "language": "python",
   "name": "python3"
  },
  "language_info": {
   "codemirror_mode": {
    "name": "ipython",
    "version": 3
   },
   "file_extension": ".py",
   "mimetype": "text/x-python",
   "name": "python",
   "nbconvert_exporter": "python",
   "pygments_lexer": "ipython3",
   "version": "3.8.8"
  }
 },
 "nbformat": 4,
 "nbformat_minor": 5
}
