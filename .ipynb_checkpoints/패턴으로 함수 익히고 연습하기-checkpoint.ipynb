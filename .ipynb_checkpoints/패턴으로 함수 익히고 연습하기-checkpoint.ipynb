{
 "cells": [
  {
   "cell_type": "code",
   "execution_count": 1,
   "id": "2274b277",
   "metadata": {},
   "outputs": [
    {
     "data": {
      "text/plain": [
       "str"
      ]
     },
     "execution_count": 1,
     "metadata": {},
     "output_type": "execute_result"
    }
   ],
   "source": [
    "type('안녕하세요')"
   ]
  },
  {
   "cell_type": "code",
   "execution_count": 2,
   "id": "b80f84bb",
   "metadata": {},
   "outputs": [
    {
     "data": {
      "text/plain": [
       "str"
      ]
     },
     "execution_count": 2,
     "metadata": {},
     "output_type": "execute_result"
    }
   ],
   "source": [
    "data1 = '1'\n",
    "type(data1)"
   ]
  },
  {
   "cell_type": "code",
   "execution_count": 3,
   "id": "a09fd844",
   "metadata": {},
   "outputs": [
    {
     "ename": "TypeError",
     "evalue": "can only concatenate str (not \"int\") to str",
     "output_type": "error",
     "traceback": [
      "\u001b[1;31m---------------------------------------------------------------------------\u001b[0m",
      "\u001b[1;31mTypeError\u001b[0m                                 Traceback (most recent call last)",
      "\u001b[1;32m<ipython-input-3-beccaef78774>\u001b[0m in \u001b[0;36m<module>\u001b[1;34m\u001b[0m\n\u001b[1;32m----> 1\u001b[1;33m \u001b[0mdata1\u001b[0m \u001b[1;33m+\u001b[0m \u001b[1;36m1\u001b[0m\u001b[1;33m\u001b[0m\u001b[1;33m\u001b[0m\u001b[0m\n\u001b[0m",
      "\u001b[1;31mTypeError\u001b[0m: can only concatenate str (not \"int\") to str"
     ]
    }
   ],
   "source": [
    "data1 + 1"
   ]
  },
  {
   "cell_type": "code",
   "execution_count": 4,
   "id": "0fe90596",
   "metadata": {},
   "outputs": [],
   "source": [
    "data1 = int(data1)"
   ]
  },
  {
   "cell_type": "code",
   "execution_count": 5,
   "id": "c37df9b5",
   "metadata": {},
   "outputs": [
    {
     "data": {
      "text/plain": [
       "int"
      ]
     },
     "execution_count": 5,
     "metadata": {},
     "output_type": "execute_result"
    }
   ],
   "source": [
    "type(data1)"
   ]
  },
  {
   "cell_type": "code",
   "execution_count": 6,
   "id": "98344ebe",
   "metadata": {},
   "outputs": [
    {
     "data": {
      "text/plain": [
       "2"
      ]
     },
     "execution_count": 6,
     "metadata": {},
     "output_type": "execute_result"
    }
   ],
   "source": [
    "data1 + 1"
   ]
  },
  {
   "cell_type": "code",
   "execution_count": 7,
   "id": "bba05280",
   "metadata": {},
   "outputs": [],
   "source": [
    "def func1(data1):\n",
    "    return data1 * data1"
   ]
  },
  {
   "cell_type": "code",
   "execution_count": 8,
   "id": "5772ecc4",
   "metadata": {},
   "outputs": [
    {
     "data": {
      "text/plain": [
       "4"
      ]
     },
     "execution_count": 8,
     "metadata": {},
     "output_type": "execute_result"
    }
   ],
   "source": [
    "func1(2)"
   ]
  },
  {
   "cell_type": "code",
   "execution_count": 9,
   "id": "577af179",
   "metadata": {},
   "outputs": [],
   "source": [
    "def func1(data1):\n",
    "    print('곱셈', data1 * data1)"
   ]
  },
  {
   "cell_type": "code",
   "execution_count": 10,
   "id": "63f7a63e",
   "metadata": {},
   "outputs": [
    {
     "name": "stdout",
     "output_type": "stream",
     "text": [
      "곱셈 4\n"
     ]
    }
   ],
   "source": [
    "func1(2)"
   ]
  },
  {
   "cell_type": "code",
   "execution_count": 11,
   "id": "e35ce1be",
   "metadata": {},
   "outputs": [],
   "source": [
    "def func1(data1):\n",
    "    return data1 * data1"
   ]
  },
  {
   "cell_type": "code",
   "execution_count": 12,
   "id": "03e0275c",
   "metadata": {},
   "outputs": [
    {
     "data": {
      "text/plain": [
       "16"
      ]
     },
     "execution_count": 12,
     "metadata": {},
     "output_type": "execute_result"
    }
   ],
   "source": [
    "func1(func1(2))"
   ]
  },
  {
   "cell_type": "code",
   "execution_count": 14,
   "id": "030bc1b6",
   "metadata": {},
   "outputs": [],
   "source": [
    "def func1(data1, data2):\n",
    "    return data1 * data2"
   ]
  },
  {
   "cell_type": "code",
   "execution_count": 16,
   "id": "01c9eed3",
   "metadata": {},
   "outputs": [
    {
     "data": {
      "text/plain": [
       "2"
      ]
     },
     "execution_count": 16,
     "metadata": {},
     "output_type": "execute_result"
    }
   ],
   "source": [
    "func1(2, 1)"
   ]
  },
  {
   "cell_type": "code",
   "execution_count": 17,
   "id": "50aa6af4",
   "metadata": {},
   "outputs": [],
   "source": [
    "def func1(data1, data2):\n",
    "    print(data1 + data2)\n",
    "    print(data1 - data2)\n",
    "    print(data1 * data2)\n",
    "    print(data1 / data2)"
   ]
  },
  {
   "cell_type": "code",
   "execution_count": 19,
   "id": "4a037a14",
   "metadata": {},
   "outputs": [
    {
     "name": "stdout",
     "output_type": "stream",
     "text": [
      "5\n",
      "1\n",
      "6\n",
      "1.5\n"
     ]
    }
   ],
   "source": [
    "func1(3, 2)"
   ]
  },
  {
   "cell_type": "code",
   "execution_count": 20,
   "id": "a1fc4f66",
   "metadata": {},
   "outputs": [
    {
     "name": "stdout",
     "output_type": "stream",
     "text": [
      "2 X 0 = 0\n",
      "2 X 1 = 2\n",
      "2 X 2 = 4\n",
      "2 X 3 = 6\n",
      "2 X 4 = 8\n",
      "2 X 5 = 10\n",
      "2 X 6 = 12\n",
      "2 X 7 = 14\n",
      "2 X 8 = 16\n",
      "2 X 9 = 18\n"
     ]
    }
   ],
   "source": [
    "def func1(data1, data2):\n",
    "    print(data1, 'X', data2, '=',data1 * data2)\n",
    "\n",
    "for i in range(10):\n",
    "    func1(2, i)"
   ]
  },
  {
   "cell_type": "code",
   "execution_count": 21,
   "id": "65ac13cf",
   "metadata": {},
   "outputs": [
    {
     "name": "stdout",
     "output_type": "stream",
     "text": [
      "2 X 1 = 2\n",
      "2 X 2 = 4\n",
      "2 X 3 = 6\n",
      "2 X 4 = 8\n",
      "2 X 5 = 10\n",
      "2 X 6 = 12\n",
      "2 X 7 = 14\n",
      "2 X 8 = 16\n",
      "2 X 9 = 18\n"
     ]
    }
   ],
   "source": [
    "def func1(data1, data2):\n",
    "    print(data1, 'X', data2, '=',data1 * data2)\n",
    "\n",
    "for i in range(1, 10):\n",
    "    func1(2, i)"
   ]
  },
  {
   "cell_type": "code",
   "execution_count": null,
   "id": "29ae269e",
   "metadata": {},
   "outputs": [],
   "source": []
  }
 ],
 "metadata": {
  "kernelspec": {
   "display_name": "Python 3",
   "language": "python",
   "name": "python3"
  },
  "language_info": {
   "codemirror_mode": {
    "name": "ipython",
    "version": 3
   },
   "file_extension": ".py",
   "mimetype": "text/x-python",
   "name": "python",
   "nbconvert_exporter": "python",
   "pygments_lexer": "ipython3",
   "version": "3.8.8"
  }
 },
 "nbformat": 4,
 "nbformat_minor": 5
}
