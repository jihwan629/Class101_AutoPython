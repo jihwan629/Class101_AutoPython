{
 "cells": [
  {
   "cell_type": "code",
   "execution_count": 1,
   "id": "92df727f",
   "metadata": {},
   "outputs": [],
   "source": [
    "data1 = '안녕'\n",
    "data2 = 1\n",
    "data3 = 1.2\n",
    "data4= True"
   ]
  },
  {
   "cell_type": "code",
   "execution_count": 2,
   "id": "05eec3f5",
   "metadata": {},
   "outputs": [
    {
     "data": {
      "text/plain": [
       "6"
      ]
     },
     "execution_count": 2,
     "metadata": {},
     "output_type": "execute_result"
    }
   ],
   "source": [
    "data2 = 3\n",
    "data2 + data2"
   ]
  },
  {
   "cell_type": "code",
   "execution_count": 3,
   "id": "d127e92c",
   "metadata": {},
   "outputs": [
    {
     "data": {
      "text/plain": [
       "3"
      ]
     },
     "execution_count": 3,
     "metadata": {},
     "output_type": "execute_result"
    }
   ],
   "source": [
    "data2"
   ]
  },
  {
   "cell_type": "code",
   "execution_count": 4,
   "id": "61791b09",
   "metadata": {},
   "outputs": [
    {
     "data": {
      "text/plain": [
       "6"
      ]
     },
     "execution_count": 4,
     "metadata": {},
     "output_type": "execute_result"
    }
   ],
   "source": [
    "data2 = 3\n",
    "data2 + data2"
   ]
  },
  {
   "cell_type": "code",
   "execution_count": 5,
   "id": "09ac71ee",
   "metadata": {},
   "outputs": [
    {
     "ename": "TypeError",
     "evalue": "can only concatenate str (not \"int\") to str",
     "output_type": "error",
     "traceback": [
      "\u001b[1;31m---------------------------------------------------------------------------\u001b[0m",
      "\u001b[1;31mTypeError\u001b[0m                                 Traceback (most recent call last)",
      "\u001b[1;32m<ipython-input-5-894cdd52f94c>\u001b[0m in \u001b[0;36m<module>\u001b[1;34m\u001b[0m\n\u001b[1;32m----> 1\u001b[1;33m \u001b[0mdata1\u001b[0m \u001b[1;33m+\u001b[0m \u001b[0mdata2\u001b[0m\u001b[1;33m\u001b[0m\u001b[1;33m\u001b[0m\u001b[0m\n\u001b[0m",
      "\u001b[1;31mTypeError\u001b[0m: can only concatenate str (not \"int\") to str"
     ]
    }
   ],
   "source": [
    "data1 + data2"
   ]
  },
  {
   "cell_type": "code",
   "execution_count": 6,
   "id": "2812e54b",
   "metadata": {},
   "outputs": [
    {
     "data": {
      "text/plain": [
       "str"
      ]
     },
     "execution_count": 6,
     "metadata": {},
     "output_type": "execute_result"
    }
   ],
   "source": [
    "type(data1)"
   ]
  },
  {
   "cell_type": "code",
   "execution_count": 7,
   "id": "cc8921e8",
   "metadata": {},
   "outputs": [
    {
     "data": {
      "text/plain": [
       "int"
      ]
     },
     "execution_count": 7,
     "metadata": {},
     "output_type": "execute_result"
    }
   ],
   "source": [
    "type(data2)"
   ]
  },
  {
   "cell_type": "code",
   "execution_count": 8,
   "id": "6a96fc2e",
   "metadata": {},
   "outputs": [
    {
     "data": {
      "text/plain": [
       "float"
      ]
     },
     "execution_count": 8,
     "metadata": {},
     "output_type": "execute_result"
    }
   ],
   "source": [
    "type(data3)"
   ]
  },
  {
   "cell_type": "code",
   "execution_count": 9,
   "id": "ed03a342",
   "metadata": {},
   "outputs": [
    {
     "data": {
      "text/plain": [
       "bool"
      ]
     },
     "execution_count": 9,
     "metadata": {},
     "output_type": "execute_result"
    }
   ],
   "source": [
    "type(data4)"
   ]
  },
  {
   "cell_type": "code",
   "execution_count": 10,
   "id": "c6c7c9d9",
   "metadata": {},
   "outputs": [
    {
     "data": {
      "text/plain": [
       "3"
      ]
     },
     "execution_count": 10,
     "metadata": {},
     "output_type": "execute_result"
    }
   ],
   "source": [
    "data1\n",
    "data2"
   ]
  },
  {
   "cell_type": "code",
   "execution_count": 11,
   "id": "a6099ff9",
   "metadata": {},
   "outputs": [
    {
     "name": "stdout",
     "output_type": "stream",
     "text": [
      "안녕\n",
      "3\n",
      "1.2\n",
      "True\n"
     ]
    }
   ],
   "source": [
    "print(data1)\n",
    "print(data2)\n",
    "print(data3)\n",
    "print(data4)"
   ]
  },
  {
   "cell_type": "code",
   "execution_count": 12,
   "id": "72e1b187",
   "metadata": {},
   "outputs": [
    {
     "name": "stdout",
     "output_type": "stream",
     "text": [
      "10\n",
      "7\n",
      "2.142857142857143\n",
      "3400\n"
     ]
    }
   ],
   "source": [
    "print(3 + 7)\n",
    "print(10 - 3)\n",
    "print(15 / 7)\n",
    "print(34 * 100)"
   ]
  },
  {
   "cell_type": "code",
   "execution_count": 13,
   "id": "70bce826",
   "metadata": {},
   "outputs": [
    {
     "name": "stdout",
     "output_type": "stream",
     "text": [
      "15\n",
      "-5\n",
      "0.5\n",
      "50\n"
     ]
    }
   ],
   "source": [
    "data1 = 5\n",
    "data2 = 10\n",
    "\n",
    "print(data1 + data2)\n",
    "print(data1 - data2)\n",
    "print(data1 / data2)\n",
    "print(data1 * data2)"
   ]
  },
  {
   "cell_type": "code",
   "execution_count": 14,
   "id": "258adf3a",
   "metadata": {},
   "outputs": [
    {
     "name": "stdout",
     "output_type": "stream",
     "text": [
      "5 10 1.2 True 1 2 3\n",
      "5 X 10 = 50\n"
     ]
    }
   ],
   "source": [
    "print(data1, data2, data3, data4, 1, 2, 3)\n",
    "print(data1, 'X', data2, '=', data1 * data2)"
   ]
  },
  {
   "cell_type": "code",
   "execution_count": 15,
   "id": "bee0cc27",
   "metadata": {},
   "outputs": [],
   "source": [
    "age = 30\n",
    "name = '김지환'\n",
    "hobby = '3D 모델링'\n",
    "job = '백수'"
   ]
  },
  {
   "cell_type": "code",
   "execution_count": 16,
   "id": "ca7027a0",
   "metadata": {},
   "outputs": [
    {
     "name": "stdout",
     "output_type": "stream",
     "text": [
      "30 김지환 3D 모델링 백수\n"
     ]
    }
   ],
   "source": [
    "print(age, name, hobby, job)"
   ]
  },
  {
   "cell_type": "code",
   "execution_count": 19,
   "id": "0d4313a8",
   "metadata": {},
   "outputs": [
    {
     "name": "stdout",
     "output_type": "stream",
     "text": [
      "2 X 1 = 2\n",
      "2 X 2 = 4\n",
      "2 X 3 = 6\n",
      "2 X 4 = 8\n",
      "2 X 5 = 10\n",
      "2 X 6 = 12\n",
      "2 X 7 = 14\n",
      "2 X 8 = 16\n",
      "2 X 9 = 18\n"
     ]
    }
   ],
   "source": [
    "data = 2\n",
    "\n",
    "print(data, 'X', 1, '=', data * 1)\n",
    "print(data, 'X', 2, '=', data * 2)\n",
    "print(data, 'X', 3, '=', data * 3)\n",
    "print(data, 'X', 4, '=', data * 4)\n",
    "print(data, 'X', 5, '=', data * 5)\n",
    "print(data, 'X', 6, '=', data * 6)\n",
    "print(data, 'X', 7, '=', data * 7)\n",
    "print(data, 'X', 8, '=', data * 8)\n",
    "print(data, 'X', 9, '=', data * 9)"
   ]
  },
  {
   "cell_type": "code",
   "execution_count": 21,
   "id": "00ef68e3",
   "metadata": {},
   "outputs": [
    {
     "name": "stdout",
     "output_type": "stream",
     "text": [
      "15\n",
      "50\n",
      "2.0\n"
     ]
    }
   ],
   "source": [
    "data1 = 10\n",
    "data2 = 5\n",
    "\n",
    "print(data1 +  data2)\n",
    "print(data1 *  data2)\n",
    "print(data1 /  data2)"
   ]
  },
  {
   "cell_type": "code",
   "execution_count": 23,
   "id": "053dbe16",
   "metadata": {},
   "outputs": [
    {
     "name": "stdout",
     "output_type": "stream",
     "text": [
      "<class 'str'>\n",
      "<class 'int'>\n",
      "<class 'bool'>\n",
      "<class 'float'>\n"
     ]
    }
   ],
   "source": [
    "data1 = '잔재미 코딩'\n",
    "data2 = 4\n",
    "data3 = False\n",
    "data4 = 3.3\n",
    "\n",
    "print(type(data1))\n",
    "print(type(data2))\n",
    "print(type(data3))\n",
    "print(type(data4))"
   ]
  },
  {
   "cell_type": "code",
   "execution_count": null,
   "id": "8cab5f3f",
   "metadata": {},
   "outputs": [],
   "source": []
  }
 ],
 "metadata": {
  "kernelspec": {
   "display_name": "Python 3",
   "language": "python",
   "name": "python3"
  },
  "language_info": {
   "codemirror_mode": {
    "name": "ipython",
    "version": 3
   },
   "file_extension": ".py",
   "mimetype": "text/x-python",
   "name": "python",
   "nbconvert_exporter": "python",
   "pygments_lexer": "ipython3",
   "version": "3.8.8"
  }
 },
 "nbformat": 4,
 "nbformat_minor": 5
}
