{
 "cells": [
  {
   "cell_type": "code",
   "execution_count": 1,
   "id": "e242a979",
   "metadata": {},
   "outputs": [
    {
     "name": "stdout",
     "output_type": "stream",
     "text": [
      "False\n",
      "False\n",
      "True\n",
      "True\n",
      "True\n",
      "False\n"
     ]
    }
   ],
   "source": [
    "data1 = 1\n",
    "data2 = 2\n",
    "\n",
    "print(data1 > data2)\n",
    "print(data1 >= data2)\n",
    "print(data1 < data2)\n",
    "print(data1 <= data2)\n",
    "print(data1 != data2)\n",
    "print(data1 == data2)"
   ]
  },
  {
   "cell_type": "code",
   "execution_count": 2,
   "id": "4cbf534f",
   "metadata": {},
   "outputs": [],
   "source": [
    "if data1 > data2:\n",
    "    print('미만입니다!')\n",
    "    print('미만 아닙니다!')"
   ]
  },
  {
   "cell_type": "code",
   "execution_count": 3,
   "id": "00c06110",
   "metadata": {},
   "outputs": [
    {
     "name": "stdout",
     "output_type": "stream",
     "text": [
      "무조건 실행\n"
     ]
    }
   ],
   "source": [
    "if data1 > data2:\n",
    "    print('미만입니다!')\n",
    "    print('미만 아닙니다!')\n",
    "print('무조건 실행')"
   ]
  },
  {
   "cell_type": "code",
   "execution_count": 4,
   "id": "26c895d8",
   "metadata": {},
   "outputs": [
    {
     "name": "stdout",
     "output_type": "stream",
     "text": [
      "변수값은 10 미만입니다\n"
     ]
    }
   ],
   "source": [
    "if data1 > 10:\n",
    "    print ('변수값은 10 이상입니다')\n",
    "else:\n",
    "    print('변수값은 10 미만입니다')"
   ]
  },
  {
   "cell_type": "code",
   "execution_count": 5,
   "id": "06011246",
   "metadata": {},
   "outputs": [
    {
     "name": "stdout",
     "output_type": "stream",
     "text": [
      "어른입니다\n"
     ]
    }
   ],
   "source": [
    "data1 = 35\n",
    "if data1 >= 19:\n",
    "    print ('어른입니다')\n",
    "else:\n",
    "    print('어린이입니다')"
   ]
  },
  {
   "cell_type": "code",
   "execution_count": 7,
   "id": "27a0ebf1",
   "metadata": {},
   "outputs": [
    {
     "name": "stdout",
     "output_type": "stream",
     "text": [
      "8000이 넘습니다\n"
     ]
    }
   ],
   "source": [
    "data1 = 173\n",
    "data2 = 51\n",
    "\n",
    "if data1 * data2 > 8000:\n",
    "    print ('8000이 넘습니다')\n",
    "else:\n",
    "    print('8000을 넘지 않습니다')"
   ]
  },
  {
   "cell_type": "code",
   "execution_count": 8,
   "id": "435a1101",
   "metadata": {},
   "outputs": [
    {
     "name": "stdout",
     "output_type": "stream",
     "text": [
      "홀수입니다\n"
     ]
    }
   ],
   "source": [
    "data1 = 173\n",
    "data2 = 51\n",
    "\n",
    "if data1 % data2 == 0:\n",
    "    print ('짝수입니다')\n",
    "else:\n",
    "    print('홀수입니다')"
   ]
  },
  {
   "cell_type": "code",
   "execution_count": null,
   "id": "697a8bca",
   "metadata": {},
   "outputs": [],
   "source": []
  }
 ],
 "metadata": {
  "kernelspec": {
   "display_name": "Python 3",
   "language": "python",
   "name": "python3"
  },
  "language_info": {
   "codemirror_mode": {
    "name": "ipython",
    "version": 3
   },
   "file_extension": ".py",
   "mimetype": "text/x-python",
   "name": "python",
   "nbconvert_exporter": "python",
   "pygments_lexer": "ipython3",
   "version": "3.8.8"
  }
 },
 "nbformat": 4,
 "nbformat_minor": 5
}
