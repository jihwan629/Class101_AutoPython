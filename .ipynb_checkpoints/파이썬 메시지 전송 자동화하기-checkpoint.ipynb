{
 "cells": [
  {
   "cell_type": "code",
   "execution_count": 1,
   "id": "5bad619c",
   "metadata": {},
   "outputs": [],
   "source": [
    "# 전세계 업무에서 가장 많이 쓰는 slack 활용하기"
   ]
  },
  {
   "cell_type": "code",
   "execution_count": 4,
   "id": "1c43aef6",
   "metadata": {},
   "outputs": [],
   "source": [
    "import settings # settings.py 파일 생성 필요\n",
    "\n",
    "incoming_webhook_url = settings.WEBHOOKURL"
   ]
  },
  {
   "cell_type": "code",
   "execution_count": 5,
   "id": "b60c4b60",
   "metadata": {},
   "outputs": [],
   "source": [
    "import json\n",
    "import requests\n",
    "\n",
    "def send_slack_template(incoming_webhook_url, message):\n",
    "    payload = {'type': 'mrkdwn', 'text': message}\n",
    "    message_json = json.dumps(payload)\n",
    "    requests.post(incoming_webhook_url, data=message_json)"
   ]
  },
  {
   "cell_type": "code",
   "execution_count": 6,
   "id": "f9aa22a3",
   "metadata": {},
   "outputs": [],
   "source": [
    "message = '안녕하세요!'\n",
    "send_slack_template(incoming_webhook_url, message)"
   ]
  },
  {
   "cell_type": "code",
   "execution_count": null,
   "id": "4e10672c",
   "metadata": {},
   "outputs": [],
   "source": []
  }
 ],
 "metadata": {
  "kernelspec": {
   "display_name": "Python 3",
   "language": "python",
   "name": "python3"
  },
  "language_info": {
   "codemirror_mode": {
    "name": "ipython",
    "version": 3
   },
   "file_extension": ".py",
   "mimetype": "text/x-python",
   "name": "python",
   "nbconvert_exporter": "python",
   "pygments_lexer": "ipython3",
   "version": "3.8.8"
  }
 },
 "nbformat": 4,
 "nbformat_minor": 5
}
