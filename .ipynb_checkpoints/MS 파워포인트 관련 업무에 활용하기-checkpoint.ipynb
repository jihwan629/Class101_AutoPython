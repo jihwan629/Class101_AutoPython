{
 "cells": [
  {
   "cell_type": "code",
   "execution_count": 1,
   "id": "4109cb0c",
   "metadata": {},
   "outputs": [
    {
     "name": "stdout",
     "output_type": "stream",
     "text": [
      "Collecting python-pptx\n",
      "  Downloading python-pptx-0.6.21.tar.gz (10.1 MB)\n",
      "Requirement already satisfied: lxml>=3.1.0 in c:\\developer\\anaconda3\\lib\\site-packages (from python-pptx) (4.6.3)\n",
      "Requirement already satisfied: Pillow>=3.3.2 in c:\\developer\\anaconda3\\lib\\site-packages (from python-pptx) (8.2.0)\n",
      "Requirement already satisfied: XlsxWriter>=0.5.7 in c:\\developer\\anaconda3\\lib\\site-packages (from python-pptx) (1.3.8)\n",
      "Building wheels for collected packages: python-pptx\n",
      "  Building wheel for python-pptx (setup.py): started\n",
      "  Building wheel for python-pptx (setup.py): finished with status 'done'\n",
      "  Created wheel for python-pptx: filename=python_pptx-0.6.21-py3-none-any.whl size=471172 sha256=06e15d4c73885f46307ed55feb421e012270b131aec923ebfbbfdec47a9226b4\n",
      "  Stored in directory: c:\\users\\jihwan\\appdata\\local\\pip\\cache\\wheels\\b0\\38\\58\\8530ed1681bfee42349acf166867cc9fb369517b2fce83e599\n",
      "Successfully built python-pptx\n",
      "Installing collected packages: python-pptx\n",
      "Successfully installed python-pptx-0.6.21\n"
     ]
    }
   ],
   "source": [
    "!pip install python-pptx"
   ]
  },
  {
   "cell_type": "code",
   "execution_count": 4,
   "id": "b8c8b518",
   "metadata": {},
   "outputs": [
    {
     "name": "stdout",
     "output_type": "stream",
     "text": [
      "사업 제안서\n",
      "이름 님을 위한 특별한 제안\n",
      "명령에 빠르게 액세스\n",
      "문서 맨 위에 있는 빠른 실행 도구 모음의 명령을 사용하면 단 한 번의 클릭으로 자주 사용하는 명령을 사용할 수 있습니다.\n",
      "\n",
      "현재 표시된 명령이 만족스럽지 않다면 빠른 실행 도구 모음을 사용자 지정할 수 있습니다.\n",
      "방법:\n",
      "빠른 실행 도구 모음 사용자 지정을 선택하고 빠른 실행 도구 모음에 추가하거나 제거할 명령 이름을 선택합니다.\n",
      "메모로 피드백 제공\n",
      "메모는 대화로 구성되므로 슬라이드에 있는 내용에 대해 쉽게 논의할 수 있습니다. 이렇게 하면 빠르고 간편하게 피드백을 추가할 수 있습니다.\n",
      "방법:\n",
      "이 단락의 아무 곳이나 선택한 다음, 검토 탭을 \u000b",
      "선택합니다.\n",
      "2.   새 메모       를 선택하고 메모를 입력합니다.\n",
      "3.   회신을 선택하고 메모를 입력합니다.\n",
      "힌트: 프레젠테이션에서 메모를 표시하는 빠른 방법을 찾는 경우 화면의 맨 아래에 있는 \u000b",
      "상태 표시줄의 메모를 선택합니다.\n",
      "팀 작업을 위한 디자인\n",
      "온라인에 보관된 문서를 사용하여 여러 명이 동시에 작업할 수 있습니다.\n",
      "작동 방법:\n",
      "1.   파일 선택 > 다른 이름으로 저장을 선택하여 OneDrive와 같은 온라인 위치에 \u000b",
      "     문서를 저장합니다.\n",
      "2.   리본 위에서 공유를 선택합니다.\n",
      "3.   함께 편집할 수 있도록 사용자를 초대하거나 링크를 보내세요.\n",
      "선택 창을 사용하여 체계적으로 정리\n",
      "선택 창은 슬라이드에서 이미지, 도형, 텍스트 상자 등 개체를 체계적으로 관리할 수 있는 훌륭한 도구입니다. 선택 창은 구독 전용 기능입니다. Office 365를 구독 중인 경우 직접 시도할 수 있습니다.\n",
      "방법:\n",
      "1.      홈 탭으로 이동하고 정렬 > 선택 창을 \u000b",
      "     선택합니다.\n",
      "2.   개체의 이름 변경 시도: 선택 창에서\u000b",
      "     \"큰 회색 직사각형\"이라는 이름을 두 \u000b",
      "     번 클릭하고 새 이름을 입력합니다.\n",
      "3.   개체의 순서 변경 시도: 선택 창에서 큰 \u000b",
      "     회색 직사각형을맨 위에 오도록 끌어서 \u000b",
      "     놓습니다.\n",
      "4.   선택 창에 있는 개체의 표시 상태를전환\u000b",
      "     하려면 표시/숨기기 확인란을 클릭합니다.\n",
      "\n",
      "\n",
      "중단 위치에서 다시 시작\n",
      "Office 365에 로그인하면 문서를 어디에서든 볼 수 있습니다. 로그인하면 Office가 사용자와 클라우드에 연결됩니다.\n",
      "프로그램을 시작할 때마다 어떤 장치에서든 최근에 열었던 문서가 표시\u000b",
      "됩니다. \n",
      "자주 사용하는 프레젠테이션이 있나요? Office 프로그램을 시작할 때 표시되는 첫 번째 화면에 고정하세요. 다른 컴퓨터에서 Office에 로그인할 때에도 \u000b",
      "고정된 상태가 유지됩니다.\n",
      "PowerPoint는 사용자가 중단한 위치를 \u000b",
      "계속 추적합니다. 다음번에 프레젠테\u000b",
      "이션을 열 때 PowerPoint는 사용자가 \u000b",
      "마지막으로 읽거나 편집했던위치를 \u000b",
      "바로 표시합니다.\n",
      "Mac용 PowerPoint에 대한 추가 질문이 있나요?\n",
      "Mac용 PowerPoint 도움말 센터에서 자세한 내용 확인\n",
      "슬라이드 쇼 모드에서 화살표 선택\n"
     ]
    }
   ],
   "source": [
    "import pptx\n",
    "\n",
    "ppt = pptx.Presentation('사업제안서.pptx')\n",
    "\n",
    "for slide in ppt.slides:\n",
    "    for shape in slide.shapes:\n",
    "        if not shape.has_text_frame:\n",
    "            continue\n",
    "        for paragraph in shape.text_frame.paragraphs:\n",
    "            print(paragraph.text)"
   ]
  },
  {
   "cell_type": "code",
   "execution_count": 9,
   "id": "83d9697b",
   "metadata": {},
   "outputs": [],
   "source": [
    "import pptx\n",
    "\n",
    "ppt = pptx.Presentation('사업제안서.pptx')\n",
    "\n",
    "title_slide = ppt.slides[0]\n",
    "\n",
    "for shape in title_slide.shapes:\n",
    "    if not shape.has_text_frame:\n",
    "        continue\n",
    "    for paragraph in shape.text_frame.paragraphs:\n",
    "        if paragraph.text.split()[0] == '이름':\n",
    "            paragraph.text = paragraph.text.replace('이름', 'Dave Lee')\n",
    "            paragraph.font.bold = True\n",
    "            paragraph.font.color.rgb = pptx.dml.color.RGBColor(255, 255, 255)\n",
    "\n",
    "    \n",
    "ppt.save('사업제안서-davelee.pptx')"
   ]
  },
  {
   "cell_type": "code",
   "execution_count": 10,
   "id": "8b45f30d",
   "metadata": {},
   "outputs": [],
   "source": [
    "import openpyxl\n",
    "\n",
    "def read_excel_template(filename, sheetname):\n",
    "    excel_file = openpyxl.load_workbook(filename)\n",
    "    \n",
    "    if sheetname == '':\n",
    "        excel_sheet = excel_file.active\n",
    "    else:\n",
    "        excel_sheet = excel_file[sheetname]\n",
    "        \n",
    "    return_data = list()\n",
    "    \n",
    "    for i in excel_sheet.rows:\n",
    "        datas1 = list()\n",
    "        for j in i:\n",
    "            datas1.append(j.value)\n",
    "        return_data.append(datas1)\n",
    "        \n",
    "    excel_file.close()\n",
    "    return return_data"
   ]
  },
  {
   "cell_type": "code",
   "execution_count": 11,
   "id": "e0f17d5b",
   "metadata": {},
   "outputs": [],
   "source": [
    "datas1 = read_excel_template('shop_in_seoul.xlsx', '')"
   ]
  },
  {
   "cell_type": "code",
   "execution_count": 15,
   "id": "13970aa4",
   "metadata": {},
   "outputs": [],
   "source": [
    "import pptx\n",
    "\n",
    "def update_pptx(filename, company_name):\n",
    "    ppt = pptx.Presentation('사업제안서.pptx')\n",
    "    title_slide = ppt.slides[0]\n",
    "\n",
    "    for shape in title_slide.shapes:\n",
    "        if not shape.has_text_frame:\n",
    "            continue\n",
    "\n",
    "        for paragraph in shape.text_frame.paragraphs:\n",
    "            if paragraph.text.split()[0] == '이름':\n",
    "                paragraph.text = paragraph.text.replace('이름', company_name)\n",
    "                paragraph.font.bold = True\n",
    "                paragraph.font.color.rgb = pptx.dml.color.RGBColor(255, 255, 255)\n",
    "\n",
    "\n",
    "    ppt.save(filename.split()[0] + '-' + company_name + '.pptx')"
   ]
  },
  {
   "cell_type": "code",
   "execution_count": 16,
   "id": "6f8a6683",
   "metadata": {},
   "outputs": [],
   "source": [
    "for data in datas1[1:5]:\n",
    "    update_pptx('사업제안서.pptx', data[0])"
   ]
  },
  {
   "cell_type": "code",
   "execution_count": null,
   "id": "0406821b",
   "metadata": {},
   "outputs": [],
   "source": []
  }
 ],
 "metadata": {
  "kernelspec": {
   "display_name": "Python 3",
   "language": "python",
   "name": "python3"
  },
  "language_info": {
   "codemirror_mode": {
    "name": "ipython",
    "version": 3
   },
   "file_extension": ".py",
   "mimetype": "text/x-python",
   "name": "python",
   "nbconvert_exporter": "python",
   "pygments_lexer": "ipython3",
   "version": "3.8.8"
  }
 },
 "nbformat": 4,
 "nbformat_minor": 5
}
