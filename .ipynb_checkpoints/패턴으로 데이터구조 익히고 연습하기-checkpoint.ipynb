{
 "cells": [
  {
   "cell_type": "code",
   "execution_count": 1,
   "id": "76d03559",
   "metadata": {},
   "outputs": [],
   "source": [
    "datas1 = ['Dave Lee', 'Alex', '김태환']"
   ]
  },
  {
   "cell_type": "code",
   "execution_count": 2,
   "id": "e6b59ab0",
   "metadata": {},
   "outputs": [
    {
     "data": {
      "text/plain": [
       "['Dave Lee', 'Alex', '김태환']"
      ]
     },
     "execution_count": 2,
     "metadata": {},
     "output_type": "execute_result"
    }
   ],
   "source": [
    "datas1"
   ]
  },
  {
   "cell_type": "code",
   "execution_count": 3,
   "id": "32395b07",
   "metadata": {},
   "outputs": [],
   "source": [
    "datas1 = list()"
   ]
  },
  {
   "cell_type": "code",
   "execution_count": 4,
   "id": "e97f8685",
   "metadata": {},
   "outputs": [],
   "source": [
    "datas1 = [1,2,3]"
   ]
  },
  {
   "cell_type": "code",
   "execution_count": 5,
   "id": "bb93084e",
   "metadata": {},
   "outputs": [
    {
     "data": {
      "text/plain": [
       "[1, 2, 3, 4]"
      ]
     },
     "execution_count": 5,
     "metadata": {},
     "output_type": "execute_result"
    }
   ],
   "source": [
    "datas1.append(4)\n",
    "datas1"
   ]
  },
  {
   "cell_type": "code",
   "execution_count": 6,
   "id": "d70e6512",
   "metadata": {},
   "outputs": [],
   "source": [
    "datas1 = ['Dave Lee', 'Alex', '김태환']"
   ]
  },
  {
   "cell_type": "code",
   "execution_count": 7,
   "id": "405ac83b",
   "metadata": {},
   "outputs": [
    {
     "data": {
      "text/plain": [
       "'Dave Lee'"
      ]
     },
     "execution_count": 7,
     "metadata": {},
     "output_type": "execute_result"
    }
   ],
   "source": [
    "datas1[0]"
   ]
  },
  {
   "cell_type": "code",
   "execution_count": 8,
   "id": "f030f9e0",
   "metadata": {},
   "outputs": [
    {
     "data": {
      "text/plain": [
       "'Alex'"
      ]
     },
     "execution_count": 8,
     "metadata": {},
     "output_type": "execute_result"
    }
   ],
   "source": [
    "datas1[1]"
   ]
  },
  {
   "cell_type": "code",
   "execution_count": 9,
   "id": "5a720fe2",
   "metadata": {},
   "outputs": [
    {
     "name": "stdout",
     "output_type": "stream",
     "text": [
      "김태환\n"
     ]
    }
   ],
   "source": [
    "print(datas1[2])"
   ]
  },
  {
   "cell_type": "code",
   "execution_count": 10,
   "id": "fe35f106",
   "metadata": {},
   "outputs": [],
   "source": [
    "del datas1[1]"
   ]
  },
  {
   "cell_type": "code",
   "execution_count": 12,
   "id": "8913cb41",
   "metadata": {},
   "outputs": [
    {
     "data": {
      "text/plain": [
       "'김태환'"
      ]
     },
     "execution_count": 12,
     "metadata": {},
     "output_type": "execute_result"
    }
   ],
   "source": [
    "datas1[1]"
   ]
  },
  {
   "cell_type": "code",
   "execution_count": 13,
   "id": "7f230441",
   "metadata": {},
   "outputs": [
    {
     "name": "stdout",
     "output_type": "stream",
     "text": [
      "1\n",
      "2\n",
      "3\n"
     ]
    }
   ],
   "source": [
    "datas1 = [1,2,3]\n",
    "for i in datas1:\n",
    "    print(i)"
   ]
  },
  {
   "cell_type": "code",
   "execution_count": 14,
   "id": "fa14db3d",
   "metadata": {},
   "outputs": [
    {
     "name": "stdout",
     "output_type": "stream",
     "text": [
      "fun\n",
      "coding\n",
      "Dave\n",
      "Lee\n",
      "업무\n",
      "자동화\n"
     ]
    }
   ],
   "source": [
    "datas1 = [\"fun\", \"coding\", \"Dave\", \"Lee\", \"업무\", \"자동화\"]\n",
    "\n",
    "for i in datas1:\n",
    "    print(i)"
   ]
  },
  {
   "cell_type": "code",
   "execution_count": 15,
   "id": "f0d3712b",
   "metadata": {},
   "outputs": [
    {
     "name": "stdout",
     "output_type": "stream",
     "text": [
      "4\n",
      "8\n",
      "12\n",
      "16\n",
      "20\n"
     ]
    }
   ],
   "source": [
    "datas1 = [2, 4, 6, 8, 10]\n",
    "\n",
    "for i in datas1:\n",
    "    print(i * 2)"
   ]
  },
  {
   "cell_type": "code",
   "execution_count": 17,
   "id": "0cbd312c",
   "metadata": {},
   "outputs": [
    {
     "data": {
      "text/plain": [
       "[2, 4, 6, 8, 10]"
      ]
     },
     "execution_count": 17,
     "metadata": {},
     "output_type": "execute_result"
    }
   ],
   "source": [
    "datas1 = list()\n",
    "\n",
    "for i in range(1,6):\n",
    "    datas1.append(i * 2)\n",
    "\n",
    "datas1"
   ]
  },
  {
   "cell_type": "code",
   "execution_count": null,
   "id": "70107ed1",
   "metadata": {},
   "outputs": [],
   "source": []
  }
 ],
 "metadata": {
  "kernelspec": {
   "display_name": "Python 3",
   "language": "python",
   "name": "python3"
  },
  "language_info": {
   "codemirror_mode": {
    "name": "ipython",
    "version": 3
   },
   "file_extension": ".py",
   "mimetype": "text/x-python",
   "name": "python",
   "nbconvert_exporter": "python",
   "pygments_lexer": "ipython3",
   "version": "3.8.8"
  }
 },
 "nbformat": 4,
 "nbformat_minor": 5
}
